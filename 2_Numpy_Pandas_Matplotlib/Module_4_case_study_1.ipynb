{
 "cells": [
  {
   "cell_type": "code",
   "execution_count": 1,
   "metadata": {},
   "outputs": [],
   "source": [
    " ## Importing libraries\n",
    "import numpy as np\n",
    "import pandas as pd"
   ]
  },
  {
   "cell_type": "markdown",
   "metadata": {},
   "source": [
    "### 1. Extract data from the given SalaryGender CSV file and store the data from each column in a separate NumPy array\n"
   ]
  },
  {
   "cell_type": "code",
   "execution_count": 10,
   "metadata": {},
   "outputs": [
    {
     "name": "stdout",
     "output_type": "stream",
     "text": [
      "[[140.    1.   47.    1. ]\n",
      " [ 30.    0.   65.    1. ]\n",
      " [ 35.1   0.   56.    0. ]\n",
      " [ 30.    1.   23.    0. ]\n",
      " [ 80.    0.   53.    1. ]\n",
      " [ 30.    0.   27.    0. ]\n",
      " [ 60.    1.   53.    0. ]\n",
      " [ 31.1   0.   30.    0. ]\n",
      " [125.    1.   44.    1. ]\n",
      " [ 51.    1.   63.    1. ]]\n"
     ]
    }
   ],
   "source": [
    "filename = r\"./datasets/SalaryGender.csv\"\n",
    "data = np.loadtxt(filename, delimiter=\",\",skiprows= 0 + 1)\n",
    "print(data[:10])"
   ]
  },
  {
   "cell_type": "code",
   "execution_count": 8,
   "metadata": {},
   "outputs": [
    {
     "name": "stdout",
     "output_type": "stream",
     "text": [
      "<class 'numpy.ndarray'>\n"
     ]
    }
   ],
   "source": [
    "print(type(data))"
   ]
  },
  {
   "cell_type": "code",
   "execution_count": null,
   "metadata": {},
   "outputs": [],
   "source": []
  },
  {
   "cell_type": "markdown",
   "metadata": {},
   "source": [
    "### 2. Find: \n",
    "#### 1. The number of men with a PhD \n",
    "#### 2. The number of women with a PhD"
   ]
  },
  {
   "cell_type": "code",
   "execution_count": 14,
   "metadata": {},
   "outputs": [
    {
     "data": {
      "text/html": [
       "<div>\n",
       "<style scoped>\n",
       "    .dataframe tbody tr th:only-of-type {\n",
       "        vertical-align: middle;\n",
       "    }\n",
       "\n",
       "    .dataframe tbody tr th {\n",
       "        vertical-align: top;\n",
       "    }\n",
       "\n",
       "    .dataframe thead th {\n",
       "        text-align: right;\n",
       "    }\n",
       "</style>\n",
       "<table border=\"1\" class=\"dataframe\">\n",
       "  <thead>\n",
       "    <tr style=\"text-align: right;\">\n",
       "      <th></th>\n",
       "      <th>0</th>\n",
       "      <th>1</th>\n",
       "      <th>2</th>\n",
       "      <th>3</th>\n",
       "    </tr>\n",
       "  </thead>\n",
       "  <tbody>\n",
       "    <tr>\n",
       "      <th>0</th>\n",
       "      <td>140.0</td>\n",
       "      <td>1.0</td>\n",
       "      <td>47.0</td>\n",
       "      <td>1.0</td>\n",
       "    </tr>\n",
       "    <tr>\n",
       "      <th>1</th>\n",
       "      <td>30.0</td>\n",
       "      <td>0.0</td>\n",
       "      <td>65.0</td>\n",
       "      <td>1.0</td>\n",
       "    </tr>\n",
       "    <tr>\n",
       "      <th>2</th>\n",
       "      <td>35.1</td>\n",
       "      <td>0.0</td>\n",
       "      <td>56.0</td>\n",
       "      <td>0.0</td>\n",
       "    </tr>\n",
       "    <tr>\n",
       "      <th>3</th>\n",
       "      <td>30.0</td>\n",
       "      <td>1.0</td>\n",
       "      <td>23.0</td>\n",
       "      <td>0.0</td>\n",
       "    </tr>\n",
       "    <tr>\n",
       "      <th>4</th>\n",
       "      <td>80.0</td>\n",
       "      <td>0.0</td>\n",
       "      <td>53.0</td>\n",
       "      <td>1.0</td>\n",
       "    </tr>\n",
       "    <tr>\n",
       "      <th>...</th>\n",
       "      <td>...</td>\n",
       "      <td>...</td>\n",
       "      <td>...</td>\n",
       "      <td>...</td>\n",
       "    </tr>\n",
       "    <tr>\n",
       "      <th>95</th>\n",
       "      <td>18.6</td>\n",
       "      <td>1.0</td>\n",
       "      <td>26.0</td>\n",
       "      <td>0.0</td>\n",
       "    </tr>\n",
       "    <tr>\n",
       "      <th>96</th>\n",
       "      <td>152.0</td>\n",
       "      <td>1.0</td>\n",
       "      <td>56.0</td>\n",
       "      <td>1.0</td>\n",
       "    </tr>\n",
       "    <tr>\n",
       "      <th>97</th>\n",
       "      <td>1.8</td>\n",
       "      <td>1.0</td>\n",
       "      <td>28.0</td>\n",
       "      <td>0.0</td>\n",
       "    </tr>\n",
       "    <tr>\n",
       "      <th>98</th>\n",
       "      <td>35.0</td>\n",
       "      <td>0.0</td>\n",
       "      <td>44.0</td>\n",
       "      <td>0.0</td>\n",
       "    </tr>\n",
       "    <tr>\n",
       "      <th>99</th>\n",
       "      <td>4.0</td>\n",
       "      <td>0.0</td>\n",
       "      <td>24.0</td>\n",
       "      <td>0.0</td>\n",
       "    </tr>\n",
       "  </tbody>\n",
       "</table>\n",
       "<p>100 rows × 4 columns</p>\n",
       "</div>"
      ],
      "text/plain": [
       "        0    1     2    3\n",
       "0   140.0  1.0  47.0  1.0\n",
       "1    30.0  0.0  65.0  1.0\n",
       "2    35.1  0.0  56.0  0.0\n",
       "3    30.0  1.0  23.0  0.0\n",
       "4    80.0  0.0  53.0  1.0\n",
       "..    ...  ...   ...  ...\n",
       "95   18.6  1.0  26.0  0.0\n",
       "96  152.0  1.0  56.0  1.0\n",
       "97    1.8  1.0  28.0  0.0\n",
       "98   35.0  0.0  44.0  0.0\n",
       "99    4.0  0.0  24.0  0.0\n",
       "\n",
       "[100 rows x 4 columns]"
      ]
     },
     "execution_count": 14,
     "metadata": {},
     "output_type": "execute_result"
    }
   ],
   "source": [
    "## Loading the numpy array into a dataframe\n",
    "\n",
    "df = pd.DataFrame(data)\n",
    "df"
   ]
  },
  {
   "cell_type": "code",
   "execution_count": 16,
   "metadata": {},
   "outputs": [
    {
     "data": {
      "text/html": [
       "<div>\n",
       "<style scoped>\n",
       "    .dataframe tbody tr th:only-of-type {\n",
       "        vertical-align: middle;\n",
       "    }\n",
       "\n",
       "    .dataframe tbody tr th {\n",
       "        vertical-align: top;\n",
       "    }\n",
       "\n",
       "    .dataframe thead th {\n",
       "        text-align: right;\n",
       "    }\n",
       "</style>\n",
       "<table border=\"1\" class=\"dataframe\">\n",
       "  <thead>\n",
       "    <tr style=\"text-align: right;\">\n",
       "      <th></th>\n",
       "      <th>Salary</th>\n",
       "      <th>Age</th>\n",
       "      <th>Gender</th>\n",
       "      <th>PHD</th>\n",
       "    </tr>\n",
       "  </thead>\n",
       "  <tbody>\n",
       "    <tr>\n",
       "      <th>0</th>\n",
       "      <td>140.0</td>\n",
       "      <td>1.0</td>\n",
       "      <td>47.0</td>\n",
       "      <td>1.0</td>\n",
       "    </tr>\n",
       "    <tr>\n",
       "      <th>1</th>\n",
       "      <td>30.0</td>\n",
       "      <td>0.0</td>\n",
       "      <td>65.0</td>\n",
       "      <td>1.0</td>\n",
       "    </tr>\n",
       "    <tr>\n",
       "      <th>2</th>\n",
       "      <td>35.1</td>\n",
       "      <td>0.0</td>\n",
       "      <td>56.0</td>\n",
       "      <td>0.0</td>\n",
       "    </tr>\n",
       "    <tr>\n",
       "      <th>3</th>\n",
       "      <td>30.0</td>\n",
       "      <td>1.0</td>\n",
       "      <td>23.0</td>\n",
       "      <td>0.0</td>\n",
       "    </tr>\n",
       "    <tr>\n",
       "      <th>4</th>\n",
       "      <td>80.0</td>\n",
       "      <td>0.0</td>\n",
       "      <td>53.0</td>\n",
       "      <td>1.0</td>\n",
       "    </tr>\n",
       "  </tbody>\n",
       "</table>\n",
       "</div>"
      ],
      "text/plain": [
       "   Salary  Age  Gender  PHD\n",
       "0   140.0  1.0    47.0  1.0\n",
       "1    30.0  0.0    65.0  1.0\n",
       "2    35.1  0.0    56.0  0.0\n",
       "3    30.0  1.0    23.0  0.0\n",
       "4    80.0  0.0    53.0  1.0"
      ]
     },
     "execution_count": 16,
     "metadata": {},
     "output_type": "execute_result"
    }
   ],
   "source": [
    "df.columns = ['Salary','Age','Gender','PHD']\n",
    "df.head()"
   ]
  },
  {
   "cell_type": "code",
   "execution_count": 37,
   "metadata": {},
   "outputs": [
    {
     "data": {
      "text/plain": [
       "1.0    24\n",
       "0.0    15\n",
       "Name: Age, dtype: int64"
      ]
     },
     "execution_count": 37,
     "metadata": {},
     "output_type": "execute_result"
    }
   ],
   "source": [
    "## Considering 0 as men and 1 as women calculating the count of PhD's\n",
    "\n",
    "df[df['PHD'] == 1.0].Age.value_counts()"
   ]
  },
  {
   "cell_type": "code",
   "execution_count": null,
   "metadata": {},
   "outputs": [],
   "source": []
  },
  {
   "cell_type": "markdown",
   "metadata": {},
   "source": [
    "### 3. Use SalaryGender CSV file. Store the “Age” and “PhD” columns in one DataFrame and delete the data of all people who don’t have a PhD"
   ]
  },
  {
   "cell_type": "code",
   "execution_count": 82,
   "metadata": {},
   "outputs": [],
   "source": [
    "## data is stored in df dataframe. copying df dataframe into a new dataframe to perform above task\n",
    "\n",
    "df_new = df[['Age','PHD']].copy()"
   ]
  },
  {
   "cell_type": "code",
   "execution_count": 83,
   "metadata": {},
   "outputs": [
    {
     "data": {
      "text/html": [
       "<div>\n",
       "<style scoped>\n",
       "    .dataframe tbody tr th:only-of-type {\n",
       "        vertical-align: middle;\n",
       "    }\n",
       "\n",
       "    .dataframe tbody tr th {\n",
       "        vertical-align: top;\n",
       "    }\n",
       "\n",
       "    .dataframe thead th {\n",
       "        text-align: right;\n",
       "    }\n",
       "</style>\n",
       "<table border=\"1\" class=\"dataframe\">\n",
       "  <thead>\n",
       "    <tr style=\"text-align: right;\">\n",
       "      <th></th>\n",
       "      <th>Age</th>\n",
       "      <th>PHD</th>\n",
       "    </tr>\n",
       "  </thead>\n",
       "  <tbody>\n",
       "    <tr>\n",
       "      <th>0</th>\n",
       "      <td>1.0</td>\n",
       "      <td>1.0</td>\n",
       "    </tr>\n",
       "    <tr>\n",
       "      <th>1</th>\n",
       "      <td>0.0</td>\n",
       "      <td>1.0</td>\n",
       "    </tr>\n",
       "    <tr>\n",
       "      <th>2</th>\n",
       "      <td>0.0</td>\n",
       "      <td>0.0</td>\n",
       "    </tr>\n",
       "    <tr>\n",
       "      <th>3</th>\n",
       "      <td>1.0</td>\n",
       "      <td>0.0</td>\n",
       "    </tr>\n",
       "    <tr>\n",
       "      <th>4</th>\n",
       "      <td>0.0</td>\n",
       "      <td>1.0</td>\n",
       "    </tr>\n",
       "  </tbody>\n",
       "</table>\n",
       "</div>"
      ],
      "text/plain": [
       "   Age  PHD\n",
       "0  1.0  1.0\n",
       "1  0.0  1.0\n",
       "2  0.0  0.0\n",
       "3  1.0  0.0\n",
       "4  0.0  1.0"
      ]
     },
     "execution_count": 83,
     "metadata": {},
     "output_type": "execute_result"
    }
   ],
   "source": [
    "df_new.head()"
   ]
  },
  {
   "cell_type": "code",
   "execution_count": 84,
   "metadata": {},
   "outputs": [
    {
     "data": {
      "text/plain": [
       "0.0    61\n",
       "1.0    39\n",
       "Name: PHD, dtype: int64"
      ]
     },
     "execution_count": 84,
     "metadata": {},
     "output_type": "execute_result"
    }
   ],
   "source": [
    "## Verifying the data before deleting \n",
    "df_new.PHD.value_counts()"
   ]
  },
  {
   "cell_type": "code",
   "execution_count": 85,
   "metadata": {},
   "outputs": [],
   "source": [
    "## deleting data from df_new dataframe\n",
    "## considring 1 as people with PhD's removing all 0's\n",
    "\n",
    "df_new.drop(df_new[df_new.PHD == 0.0].index, inplace = True)"
   ]
  },
  {
   "cell_type": "code",
   "execution_count": 86,
   "metadata": {},
   "outputs": [
    {
     "data": {
      "text/plain": [
       "1.0    39\n",
       "Name: PHD, dtype: int64"
      ]
     },
     "execution_count": 86,
     "metadata": {},
     "output_type": "execute_result"
    }
   ],
   "source": [
    "## Verifying the data after deleting \n",
    "df_new.PHD.value_counts()"
   ]
  },
  {
   "cell_type": "code",
   "execution_count": 87,
   "metadata": {},
   "outputs": [
    {
     "data": {
      "text/html": [
       "<div>\n",
       "<style scoped>\n",
       "    .dataframe tbody tr th:only-of-type {\n",
       "        vertical-align: middle;\n",
       "    }\n",
       "\n",
       "    .dataframe tbody tr th {\n",
       "        vertical-align: top;\n",
       "    }\n",
       "\n",
       "    .dataframe thead th {\n",
       "        text-align: right;\n",
       "    }\n",
       "</style>\n",
       "<table border=\"1\" class=\"dataframe\">\n",
       "  <thead>\n",
       "    <tr style=\"text-align: right;\">\n",
       "      <th></th>\n",
       "      <th>Age</th>\n",
       "      <th>PHD</th>\n",
       "    </tr>\n",
       "  </thead>\n",
       "  <tbody>\n",
       "    <tr>\n",
       "      <th>0</th>\n",
       "      <td>1.0</td>\n",
       "      <td>1.0</td>\n",
       "    </tr>\n",
       "    <tr>\n",
       "      <th>1</th>\n",
       "      <td>0.0</td>\n",
       "      <td>1.0</td>\n",
       "    </tr>\n",
       "    <tr>\n",
       "      <th>4</th>\n",
       "      <td>0.0</td>\n",
       "      <td>1.0</td>\n",
       "    </tr>\n",
       "    <tr>\n",
       "      <th>8</th>\n",
       "      <td>1.0</td>\n",
       "      <td>1.0</td>\n",
       "    </tr>\n",
       "    <tr>\n",
       "      <th>9</th>\n",
       "      <td>1.0</td>\n",
       "      <td>1.0</td>\n",
       "    </tr>\n",
       "  </tbody>\n",
       "</table>\n",
       "</div>"
      ],
      "text/plain": [
       "   Age  PHD\n",
       "0  1.0  1.0\n",
       "1  0.0  1.0\n",
       "4  0.0  1.0\n",
       "8  1.0  1.0\n",
       "9  1.0  1.0"
      ]
     },
     "execution_count": 87,
     "metadata": {},
     "output_type": "execute_result"
    }
   ],
   "source": [
    "df_new.head()"
   ]
  },
  {
   "cell_type": "code",
   "execution_count": 88,
   "metadata": {},
   "outputs": [],
   "source": [
    "## resetting the index as it was not ordered after delete\n",
    "df_new.reset_index(drop=True, inplace=True)"
   ]
  },
  {
   "cell_type": "code",
   "execution_count": 90,
   "metadata": {},
   "outputs": [
    {
     "data": {
      "text/html": [
       "<div>\n",
       "<style scoped>\n",
       "    .dataframe tbody tr th:only-of-type {\n",
       "        vertical-align: middle;\n",
       "    }\n",
       "\n",
       "    .dataframe tbody tr th {\n",
       "        vertical-align: top;\n",
       "    }\n",
       "\n",
       "    .dataframe thead th {\n",
       "        text-align: right;\n",
       "    }\n",
       "</style>\n",
       "<table border=\"1\" class=\"dataframe\">\n",
       "  <thead>\n",
       "    <tr style=\"text-align: right;\">\n",
       "      <th></th>\n",
       "      <th>Age</th>\n",
       "      <th>PHD</th>\n",
       "    </tr>\n",
       "  </thead>\n",
       "  <tbody>\n",
       "    <tr>\n",
       "      <th>0</th>\n",
       "      <td>1.0</td>\n",
       "      <td>1.0</td>\n",
       "    </tr>\n",
       "    <tr>\n",
       "      <th>1</th>\n",
       "      <td>0.0</td>\n",
       "      <td>1.0</td>\n",
       "    </tr>\n",
       "    <tr>\n",
       "      <th>2</th>\n",
       "      <td>0.0</td>\n",
       "      <td>1.0</td>\n",
       "    </tr>\n",
       "    <tr>\n",
       "      <th>3</th>\n",
       "      <td>1.0</td>\n",
       "      <td>1.0</td>\n",
       "    </tr>\n",
       "    <tr>\n",
       "      <th>4</th>\n",
       "      <td>1.0</td>\n",
       "      <td>1.0</td>\n",
       "    </tr>\n",
       "  </tbody>\n",
       "</table>\n",
       "</div>"
      ],
      "text/plain": [
       "   Age  PHD\n",
       "0  1.0  1.0\n",
       "1  0.0  1.0\n",
       "2  0.0  1.0\n",
       "3  1.0  1.0\n",
       "4  1.0  1.0"
      ]
     },
     "execution_count": 90,
     "metadata": {},
     "output_type": "execute_result"
    }
   ],
   "source": [
    "df_new.head()"
   ]
  },
  {
   "cell_type": "code",
   "execution_count": null,
   "metadata": {},
   "outputs": [],
   "source": []
  },
  {
   "cell_type": "markdown",
   "metadata": {},
   "source": [
    "### 4. Calculate the total number of people who have a PhD degree from SalaryGender CSV file."
   ]
  },
  {
   "cell_type": "code",
   "execution_count": 95,
   "metadata": {},
   "outputs": [
    {
     "data": {
      "text/plain": [
       "1.0    39\n",
       "Name: PHD, dtype: int64"
      ]
     },
     "execution_count": 95,
     "metadata": {},
     "output_type": "execute_result"
    }
   ],
   "source": [
    "## df_new dataframe have all the person who has PHD so getting total value count\n",
    "\n",
    "df_new['PHD'].value_counts()"
   ]
  },
  {
   "cell_type": "code",
   "execution_count": 98,
   "metadata": {},
   "outputs": [
    {
     "data": {
      "text/plain": [
       "39"
      ]
     },
     "execution_count": 98,
     "metadata": {},
     "output_type": "execute_result"
    }
   ],
   "source": [
    "## or it can also be done as below:\n",
    "df_new.shape[0]"
   ]
  },
  {
   "cell_type": "code",
   "execution_count": null,
   "metadata": {},
   "outputs": [],
   "source": []
  },
  {
   "cell_type": "markdown",
   "metadata": {},
   "source": [
    "### 5. How do you Count The Number Of Times Each Value Appears In An Array Of Integers?\n",
    "\n",
    "#### [0, 5, 4, 0, 4, 4, 3, 0, 0, 5, 2, 1, 1, 9]\n",
    "#### Answer should be array([4, 2, 1, 1, 3, 2, 0, 0, 0, 1]) which means 0 comes 4 times, 1 comes 2 times, 2 comes 1 time, 3 comes 1 time and so on."
   ]
  },
  {
   "cell_type": "code",
   "execution_count": 100,
   "metadata": {},
   "outputs": [
    {
     "data": {
      "text/plain": [
       "numpy.ndarray"
      ]
     },
     "execution_count": 100,
     "metadata": {},
     "output_type": "execute_result"
    }
   ],
   "source": [
    "arr = np.array([0, 5, 4, 0, 4, 4, 3, 0, 0, 5, 2, 1, 1, 9])\n",
    "type(arr)"
   ]
  },
  {
   "cell_type": "code",
   "execution_count": 101,
   "metadata": {},
   "outputs": [],
   "source": [
    "count = np.count_nonzero(arr)"
   ]
  },
  {
   "cell_type": "code",
   "execution_count": 102,
   "metadata": {},
   "outputs": [
    {
     "name": "stdout",
     "output_type": "stream",
     "text": [
      "10\n"
     ]
    }
   ],
   "source": [
    "print(count)"
   ]
  },
  {
   "cell_type": "code",
   "execution_count": 104,
   "metadata": {},
   "outputs": [],
   "source": [
    "unique, counts = np.unique(arr, return_counts=True)"
   ]
  },
  {
   "cell_type": "code",
   "execution_count": 112,
   "metadata": {},
   "outputs": [
    {
     "name": "stdout",
     "output_type": "stream",
     "text": [
      "[0 1 2 3 4 5 9]\n",
      "[4 2 1 1 3 2 1]\n"
     ]
    }
   ],
   "source": [
    "## Answer:\n",
    "print(unique)\n",
    "print(counts)"
   ]
  },
  {
   "cell_type": "code",
   "execution_count": null,
   "metadata": {},
   "outputs": [],
   "source": []
  },
  {
   "cell_type": "markdown",
   "metadata": {},
   "source": [
    "### 6. Create a numpy array [[0, 1, 2], [ 3, 4, 5], [ 6, 7, 8],[ 9, 10, 11]]) and filter the elements greater than 5."
   ]
  },
  {
   "cell_type": "code",
   "execution_count": 113,
   "metadata": {},
   "outputs": [],
   "source": [
    "arr = np.array([[0, 1, 2], [ 3, 4, 5], [ 6, 7, 8],[ 9, 10, 11]])"
   ]
  },
  {
   "cell_type": "code",
   "execution_count": 114,
   "metadata": {},
   "outputs": [
    {
     "name": "stdout",
     "output_type": "stream",
     "text": [
      "[[ 0  1  2]\n",
      " [ 3  4  5]\n",
      " [ 6  7  8]\n",
      " [ 9 10 11]]\n"
     ]
    }
   ],
   "source": [
    "print(arr)"
   ]
  },
  {
   "cell_type": "code",
   "execution_count": 121,
   "metadata": {},
   "outputs": [],
   "source": [
    "nparrfilter = arr[arr > 5]"
   ]
  },
  {
   "cell_type": "code",
   "execution_count": 122,
   "metadata": {},
   "outputs": [
    {
     "data": {
      "text/plain": [
       "array([ 6,  7,  8,  9, 10, 11])"
      ]
     },
     "execution_count": 122,
     "metadata": {},
     "output_type": "execute_result"
    }
   ],
   "source": [
    "nparrfilter"
   ]
  },
  {
   "cell_type": "code",
   "execution_count": null,
   "metadata": {},
   "outputs": [],
   "source": []
  },
  {
   "cell_type": "markdown",
   "metadata": {},
   "source": [
    "### 7. Create a numpy array having NaN (Not a Number) and print it.\n",
    "#### array([ nan, 1., 2., nan, 3., 4., 5.])\n",
    "#### Print the same array omitting all elements which are nan"
   ]
  },
  {
   "cell_type": "code",
   "execution_count": 132,
   "metadata": {},
   "outputs": [],
   "source": [
    "## Creating an array with Nan values\n",
    "arr = np.empty(5)\n",
    "arr.fill(np.nan)"
   ]
  },
  {
   "cell_type": "code",
   "execution_count": 133,
   "metadata": {},
   "outputs": [
    {
     "data": {
      "text/plain": [
       "array([nan, nan, nan, nan, nan])"
      ]
     },
     "execution_count": 133,
     "metadata": {},
     "output_type": "execute_result"
    }
   ],
   "source": [
    "arr"
   ]
  },
  {
   "cell_type": "code",
   "execution_count": 139,
   "metadata": {},
   "outputs": [],
   "source": [
    "## Creating array as per question\n",
    "arr = np.array([ np.nan, 1., 2., np.nan, 3., 4., 5.])"
   ]
  },
  {
   "cell_type": "code",
   "execution_count": 140,
   "metadata": {},
   "outputs": [
    {
     "data": {
      "text/plain": [
       "array([nan,  1.,  2., nan,  3.,  4.,  5.])"
      ]
     },
     "execution_count": 140,
     "metadata": {},
     "output_type": "execute_result"
    }
   ],
   "source": [
    "arr"
   ]
  },
  {
   "cell_type": "code",
   "execution_count": 144,
   "metadata": {},
   "outputs": [
    {
     "data": {
      "text/plain": [
       "array([1., 2., 3., 4., 5.])"
      ]
     },
     "execution_count": 144,
     "metadata": {},
     "output_type": "execute_result"
    }
   ],
   "source": [
    "## Printing all elements which are nan\n",
    "arr[~ np.isnan(arr)]"
   ]
  },
  {
   "cell_type": "code",
   "execution_count": null,
   "metadata": {},
   "outputs": [],
   "source": []
  },
  {
   "cell_type": "markdown",
   "metadata": {},
   "source": [
    "### 8. Create a 10x10 array with random values and find the minimum and maximum values."
   ]
  },
  {
   "cell_type": "code",
   "execution_count": 168,
   "metadata": {},
   "outputs": [],
   "source": [
    "rand_array = np.random.rand(10,10)"
   ]
  },
  {
   "cell_type": "code",
   "execution_count": 170,
   "metadata": {},
   "outputs": [
    {
     "data": {
      "text/plain": [
       "array([[0.13340823, 0.86357188, 0.92475248, 0.55309853, 0.26258273,\n",
       "        0.40270897, 0.3739141 , 0.88101596, 0.97632864, 0.4557567 ],\n",
       "       [0.3166334 , 0.45500711, 0.92672192, 0.05458329, 0.86614841,\n",
       "        0.2971484 , 0.96926888, 0.55203339, 0.84395474, 0.86371031],\n",
       "       [0.14083721, 0.87272131, 0.13378954, 0.11983303, 0.91749909,\n",
       "        0.85755463, 0.40990384, 0.56353823, 0.46298787, 0.52125848],\n",
       "       [0.80430957, 0.31570085, 0.76684369, 0.23467246, 0.66506322,\n",
       "        0.59238654, 0.46043855, 0.8240453 , 0.83690344, 0.71703081],\n",
       "       [0.00882682, 0.94164779, 0.93620744, 0.89079376, 0.18951957,\n",
       "        0.66321304, 0.55618446, 0.76085163, 0.25481297, 0.90557575],\n",
       "       [0.48403372, 0.56730556, 0.12287405, 0.03858631, 0.82843252,\n",
       "        0.35514434, 0.30630458, 0.55929509, 0.84670563, 0.27365641],\n",
       "       [0.4371887 , 0.74050496, 0.96635937, 0.63877027, 0.00750992,\n",
       "        0.52863336, 0.00436964, 0.007514  , 0.55048981, 0.42243169],\n",
       "       [0.07233208, 0.59879531, 0.14691993, 0.94089163, 0.32078638,\n",
       "        0.88192434, 0.67696271, 0.38128863, 0.95079736, 0.46342448],\n",
       "       [0.20570409, 0.56040527, 0.3995839 , 0.13050794, 0.55045378,\n",
       "        0.09002522, 0.19613819, 0.56829818, 0.50534094, 0.98929464],\n",
       "       [0.81969567, 0.41402856, 0.01429393, 0.71769447, 0.97417065,\n",
       "        0.02393534, 0.34940726, 0.50969996, 0.2922066 , 0.5773021 ]])"
      ]
     },
     "execution_count": 170,
     "metadata": {},
     "output_type": "execute_result"
    }
   ],
   "source": [
    "rand_array"
   ]
  },
  {
   "cell_type": "code",
   "execution_count": 174,
   "metadata": {},
   "outputs": [],
   "source": [
    "## Modifying the array upto 5 decimal points\n",
    "for i in range(10):\n",
    "    for j in range(10):\n",
    "        rand_array[i][j] = round(rand_array[i][j],5)"
   ]
  },
  {
   "cell_type": "code",
   "execution_count": 177,
   "metadata": {},
   "outputs": [
    {
     "data": {
      "text/plain": [
       "array([[0.13341, 0.86357, 0.92475, 0.5531 , 0.26258, 0.40271, 0.37391,\n",
       "        0.88102, 0.97633, 0.45576],\n",
       "       [0.31663, 0.45501, 0.92672, 0.05458, 0.86615, 0.29715, 0.96927,\n",
       "        0.55203, 0.84395, 0.86371],\n",
       "       [0.14084, 0.87272, 0.13379, 0.11983, 0.9175 , 0.85755, 0.4099 ,\n",
       "        0.56354, 0.46299, 0.52126],\n",
       "       [0.80431, 0.3157 , 0.76684, 0.23467, 0.66506, 0.59239, 0.46044,\n",
       "        0.82405, 0.8369 , 0.71703],\n",
       "       [0.00883, 0.94165, 0.93621, 0.89079, 0.18952, 0.66321, 0.55618,\n",
       "        0.76085, 0.25481, 0.90558],\n",
       "       [0.48403, 0.56731, 0.12287, 0.03859, 0.82843, 0.35514, 0.3063 ,\n",
       "        0.5593 , 0.84671, 0.27366],\n",
       "       [0.43719, 0.7405 , 0.96636, 0.63877, 0.00751, 0.52863, 0.00437,\n",
       "        0.00751, 0.55049, 0.42243],\n",
       "       [0.07233, 0.5988 , 0.14692, 0.94089, 0.32079, 0.88192, 0.67696,\n",
       "        0.38129, 0.9508 , 0.46342],\n",
       "       [0.2057 , 0.56041, 0.39958, 0.13051, 0.55045, 0.09003, 0.19614,\n",
       "        0.5683 , 0.50534, 0.98929],\n",
       "       [0.8197 , 0.41403, 0.01429, 0.71769, 0.97417, 0.02394, 0.34941,\n",
       "        0.5097 , 0.29221, 0.5773 ]])"
      ]
     },
     "execution_count": 177,
     "metadata": {},
     "output_type": "execute_result"
    }
   ],
   "source": [
    "rand_array"
   ]
  },
  {
   "cell_type": "code",
   "execution_count": 175,
   "metadata": {},
   "outputs": [
    {
     "data": {
      "text/plain": [
       "0.98929"
      ]
     },
     "execution_count": 175,
     "metadata": {},
     "output_type": "execute_result"
    }
   ],
   "source": [
    "## Maximum value in the array\n",
    "np.amax(rand_array)"
   ]
  },
  {
   "cell_type": "code",
   "execution_count": 176,
   "metadata": {},
   "outputs": [
    {
     "data": {
      "text/plain": [
       "0.00437"
      ]
     },
     "execution_count": 176,
     "metadata": {},
     "output_type": "execute_result"
    }
   ],
   "source": [
    "## Minimum value in the array\n",
    "np.amin(rand_array)"
   ]
  },
  {
   "cell_type": "code",
   "execution_count": null,
   "metadata": {},
   "outputs": [],
   "source": []
  },
  {
   "cell_type": "markdown",
   "metadata": {},
   "source": [
    "### 9. Create a random vector of size 30 and find the mean value."
   ]
  },
  {
   "cell_type": "code",
   "execution_count": 178,
   "metadata": {},
   "outputs": [],
   "source": [
    "## Creating Random Vector\n",
    "vec = np.random.random(10)"
   ]
  },
  {
   "cell_type": "code",
   "execution_count": 182,
   "metadata": {},
   "outputs": [
    {
     "data": {
      "text/plain": [
       "array([0.31490816, 0.18050962, 0.16418134, 0.89926808, 0.07295533,\n",
       "       0.83641644, 0.75354662, 0.93501218, 0.52365446, 0.659646  ])"
      ]
     },
     "execution_count": 182,
     "metadata": {},
     "output_type": "execute_result"
    }
   ],
   "source": [
    "vec"
   ]
  },
  {
   "cell_type": "code",
   "execution_count": 180,
   "metadata": {},
   "outputs": [
    {
     "data": {
      "text/plain": [
       "10"
      ]
     },
     "execution_count": 180,
     "metadata": {},
     "output_type": "execute_result"
    }
   ],
   "source": [
    "vec.size"
   ]
  },
  {
   "cell_type": "code",
   "execution_count": 181,
   "metadata": {},
   "outputs": [
    {
     "data": {
      "text/plain": [
       "0.5340098216678619"
      ]
     },
     "execution_count": 181,
     "metadata": {},
     "output_type": "execute_result"
    }
   ],
   "source": [
    "## Mean of a random vector\n",
    "np.mean(vec)"
   ]
  },
  {
   "cell_type": "code",
   "execution_count": null,
   "metadata": {},
   "outputs": [],
   "source": []
  },
  {
   "cell_type": "markdown",
   "metadata": {},
   "source": [
    "### 10. Create numpy array having elements 0 to 10 And negate all the elements between 3 and 9"
   ]
  },
  {
   "cell_type": "code",
   "execution_count": 183,
   "metadata": {},
   "outputs": [],
   "source": [
    "arr = np.arange(start=1, stop=10, step=1)"
   ]
  },
  {
   "cell_type": "code",
   "execution_count": 184,
   "metadata": {},
   "outputs": [
    {
     "data": {
      "text/plain": [
       "array([1, 2, 3, 4, 5, 6, 7, 8, 9])"
      ]
     },
     "execution_count": 184,
     "metadata": {},
     "output_type": "execute_result"
    }
   ],
   "source": [
    "arr"
   ]
  },
  {
   "cell_type": "code",
   "execution_count": 191,
   "metadata": {},
   "outputs": [
    {
     "data": {
      "text/plain": [
       "array([1, 2, 3, 9])"
      ]
     },
     "execution_count": 191,
     "metadata": {},
     "output_type": "execute_result"
    }
   ],
   "source": [
    "arr[(arr <= 3) | (arr >= 9)]"
   ]
  },
  {
   "cell_type": "code",
   "execution_count": null,
   "metadata": {},
   "outputs": [],
   "source": []
  },
  {
   "cell_type": "markdown",
   "metadata": {},
   "source": [
    "### 11. Create a random array of 3 rows and 3 columns and sort it according to 1st column, 2nd column or 3rd column."
   ]
  },
  {
   "cell_type": "code",
   "execution_count": 192,
   "metadata": {},
   "outputs": [],
   "source": [
    "rand_array = np.random.rand(3,3)"
   ]
  },
  {
   "cell_type": "code",
   "execution_count": 195,
   "metadata": {},
   "outputs": [
    {
     "data": {
      "text/plain": [
       "array([[0.95189755, 0.118707  , 0.04908741],\n",
       "       [0.86033328, 0.0230619 , 0.31355735],\n",
       "       [0.89444829, 0.10517286, 0.23977017]])"
      ]
     },
     "execution_count": 195,
     "metadata": {},
     "output_type": "execute_result"
    }
   ],
   "source": [
    "rand_array"
   ]
  },
  {
   "cell_type": "code",
   "execution_count": 199,
   "metadata": {},
   "outputs": [
    {
     "data": {
      "text/plain": [
       "array([[0.86033328, 0.0230619 , 0.31355735],\n",
       "       [0.89444829, 0.10517286, 0.23977017],\n",
       "       [0.95189755, 0.118707  , 0.04908741]])"
      ]
     },
     "execution_count": 199,
     "metadata": {},
     "output_type": "execute_result"
    }
   ],
   "source": [
    "## Sorting according to first column\n",
    "rand_array[rand_array[:,0].argsort()]"
   ]
  },
  {
   "cell_type": "code",
   "execution_count": 200,
   "metadata": {},
   "outputs": [
    {
     "data": {
      "text/plain": [
       "array([[0.86033328, 0.0230619 , 0.31355735],\n",
       "       [0.89444829, 0.10517286, 0.23977017],\n",
       "       [0.95189755, 0.118707  , 0.04908741]])"
      ]
     },
     "execution_count": 200,
     "metadata": {},
     "output_type": "execute_result"
    }
   ],
   "source": [
    "## Sorting according to first column\n",
    "rand_array[rand_array[:,1].argsort()]"
   ]
  },
  {
   "cell_type": "code",
   "execution_count": 201,
   "metadata": {},
   "outputs": [
    {
     "data": {
      "text/plain": [
       "array([[0.95189755, 0.118707  , 0.04908741],\n",
       "       [0.89444829, 0.10517286, 0.23977017],\n",
       "       [0.86033328, 0.0230619 , 0.31355735]])"
      ]
     },
     "execution_count": 201,
     "metadata": {},
     "output_type": "execute_result"
    }
   ],
   "source": [
    "## Sorting according to first column\n",
    "rand_array[rand_array[:,2].argsort()]"
   ]
  },
  {
   "cell_type": "code",
   "execution_count": null,
   "metadata": {},
   "outputs": [],
   "source": []
  },
  {
   "cell_type": "markdown",
   "metadata": {},
   "source": [
    "### 12. Create a four dimensions array get sum over the last two axis at once."
   ]
  },
  {
   "cell_type": "code",
   "execution_count": 223,
   "metadata": {},
   "outputs": [],
   "source": [
    "rand_array = np.random.randint(1,11,256)"
   ]
  },
  {
   "cell_type": "code",
   "execution_count": 224,
   "metadata": {},
   "outputs": [
    {
     "data": {
      "text/plain": [
       "array([ 2, 10,  7,  5,  1,  3,  1,  8, 10,  1,  9,  1,  6,  6,  4,  8,  5,\n",
       "        6,  4,  8,  2,  6, 10,  9,  4,  1,  6,  5,  1,  1,  4,  2,  3,  8,\n",
       "        2,  6,  9,  6,  2,  5,  5,  4,  4,  2,  4,  1,  7,  3,  9, 10,  1,\n",
       "        6,  3,  6,  5,  9,  4, 10,  9,  9,  8, 10,  5, 10,  4,  7,  1,  2,\n",
       "        7,  4,  7,  2,  4, 10,  4, 10,  6,  5,  8,  4,  4, 10,  9,  6,  2,\n",
       "        7, 10,  4,  2,  4,  6,  1,  2,  6,  4,  3,  5,  3,  2,  9,  2,  3,\n",
       "        4,  1,  5,  6, 10,  3,  6,  2,  5,  4,  3,  4,  8,  6,  7,  4,  5,\n",
       "        8,  8,  6,  7,  5,  4,  9,  1, 10,  8,  1,  7,  3, 10,  8,  6,  4,\n",
       "        6,  1,  8,  2,  7,  2,  9, 10, 10,  4,  3,  8,  3,  7,  1, 10,  4,\n",
       "       10, 10,  8,  1,  5,  8, 10,  2,  5,  8,  2,  5,  4,  1,  9,  8,  4,\n",
       "        9,  9,  1,  5,  2, 10,  7,  4,  6,  1,  3,  2,  4,  1,  8,  1,  8,\n",
       "        6,  5,  5,  4,  9,  8,  1, 10,  5,  7, 10,  6, 10,  8,  8,  7,  8,\n",
       "        2,  4,  4,  9,  9,  2,  3,  6, 10,  2,  6,  5, 10,  9,  8,  5,  6,\n",
       "        6,  7,  6,  7,  9, 10,  2,  2,  4, 10,  3,  2,  9,  8,  7,  7,  9,\n",
       "        5,  4,  5,  4,  4, 10, 10,  1,  7,  7,  9,  7,  9,  4,  8, 10,  6,\n",
       "        8])"
      ]
     },
     "execution_count": 224,
     "metadata": {},
     "output_type": "execute_result"
    }
   ],
   "source": [
    "rand_array"
   ]
  },
  {
   "cell_type": "code",
   "execution_count": 225,
   "metadata": {},
   "outputs": [],
   "source": [
    "rand_array = rand_array.reshape(4,4,4,4)"
   ]
  },
  {
   "cell_type": "code",
   "execution_count": 226,
   "metadata": {},
   "outputs": [
    {
     "data": {
      "text/plain": [
       "(4, 4, 4, 4)"
      ]
     },
     "execution_count": 226,
     "metadata": {},
     "output_type": "execute_result"
    }
   ],
   "source": [
    "rand_array.shape"
   ]
  },
  {
   "cell_type": "code",
   "execution_count": 227,
   "metadata": {},
   "outputs": [
    {
     "data": {
      "text/plain": [
       "array([[[[ 2, 10,  7,  5],\n",
       "         [ 1,  3,  1,  8],\n",
       "         [10,  1,  9,  1],\n",
       "         [ 6,  6,  4,  8]],\n",
       "\n",
       "        [[ 5,  6,  4,  8],\n",
       "         [ 2,  6, 10,  9],\n",
       "         [ 4,  1,  6,  5],\n",
       "         [ 1,  1,  4,  2]],\n",
       "\n",
       "        [[ 3,  8,  2,  6],\n",
       "         [ 9,  6,  2,  5],\n",
       "         [ 5,  4,  4,  2],\n",
       "         [ 4,  1,  7,  3]],\n",
       "\n",
       "        [[ 9, 10,  1,  6],\n",
       "         [ 3,  6,  5,  9],\n",
       "         [ 4, 10,  9,  9],\n",
       "         [ 8, 10,  5, 10]]],\n",
       "\n",
       "\n",
       "       [[[ 4,  7,  1,  2],\n",
       "         [ 7,  4,  7,  2],\n",
       "         [ 4, 10,  4, 10],\n",
       "         [ 6,  5,  8,  4]],\n",
       "\n",
       "        [[ 4, 10,  9,  6],\n",
       "         [ 2,  7, 10,  4],\n",
       "         [ 2,  4,  6,  1],\n",
       "         [ 2,  6,  4,  3]],\n",
       "\n",
       "        [[ 5,  3,  2,  9],\n",
       "         [ 2,  3,  4,  1],\n",
       "         [ 5,  6, 10,  3],\n",
       "         [ 6,  2,  5,  4]],\n",
       "\n",
       "        [[ 3,  4,  8,  6],\n",
       "         [ 7,  4,  5,  8],\n",
       "         [ 8,  6,  7,  5],\n",
       "         [ 4,  9,  1, 10]]],\n",
       "\n",
       "\n",
       "       [[[ 8,  1,  7,  3],\n",
       "         [10,  8,  6,  4],\n",
       "         [ 6,  1,  8,  2],\n",
       "         [ 7,  2,  9, 10]],\n",
       "\n",
       "        [[10,  4,  3,  8],\n",
       "         [ 3,  7,  1, 10],\n",
       "         [ 4, 10, 10,  8],\n",
       "         [ 1,  5,  8, 10]],\n",
       "\n",
       "        [[ 2,  5,  8,  2],\n",
       "         [ 5,  4,  1,  9],\n",
       "         [ 8,  4,  9,  9],\n",
       "         [ 1,  5,  2, 10]],\n",
       "\n",
       "        [[ 7,  4,  6,  1],\n",
       "         [ 3,  2,  4,  1],\n",
       "         [ 8,  1,  8,  6],\n",
       "         [ 5,  5,  4,  9]]],\n",
       "\n",
       "\n",
       "       [[[ 8,  1, 10,  5],\n",
       "         [ 7, 10,  6, 10],\n",
       "         [ 8,  8,  7,  8],\n",
       "         [ 2,  4,  4,  9]],\n",
       "\n",
       "        [[ 9,  2,  3,  6],\n",
       "         [10,  2,  6,  5],\n",
       "         [10,  9,  8,  5],\n",
       "         [ 6,  6,  7,  6]],\n",
       "\n",
       "        [[ 7,  9, 10,  2],\n",
       "         [ 2,  4, 10,  3],\n",
       "         [ 2,  9,  8,  7],\n",
       "         [ 7,  9,  5,  4]],\n",
       "\n",
       "        [[ 5,  4,  4, 10],\n",
       "         [10,  1,  7,  7],\n",
       "         [ 9,  7,  9,  4],\n",
       "         [ 8, 10,  6,  8]]]])"
      ]
     },
     "execution_count": 227,
     "metadata": {},
     "output_type": "execute_result"
    }
   ],
   "source": [
    "rand_array"
   ]
  },
  {
   "cell_type": "code",
   "execution_count": 235,
   "metadata": {},
   "outputs": [
    {
     "data": {
      "text/plain": [
       "array([[ 82,  74,  71, 114],\n",
       "       [ 85,  80,  70,  95],\n",
       "       [ 92, 102,  84,  74],\n",
       "       [107, 100,  98, 109]])"
      ]
     },
     "execution_count": 235,
     "metadata": {},
     "output_type": "execute_result"
    }
   ],
   "source": [
    "arr_sum = rand_array.sum(axis=(2,3))\n",
    "arr_sum"
   ]
  },
  {
   "cell_type": "code",
   "execution_count": 236,
   "metadata": {},
   "outputs": [
    {
     "data": {
      "text/plain": [
       "4"
      ]
     },
     "execution_count": 236,
     "metadata": {},
     "output_type": "execute_result"
    }
   ],
   "source": [
    "rand_array.ndim"
   ]
  },
  {
   "cell_type": "code",
   "execution_count": null,
   "metadata": {},
   "outputs": [],
   "source": []
  },
  {
   "cell_type": "markdown",
   "metadata": {},
   "source": [
    "### 13. Create a random array and swap two rows of an array."
   ]
  },
  {
   "cell_type": "code",
   "execution_count": 241,
   "metadata": {},
   "outputs": [],
   "source": [
    "rand_array = np.random.randint(1,11,9).reshape(3,3)"
   ]
  },
  {
   "cell_type": "code",
   "execution_count": 242,
   "metadata": {},
   "outputs": [
    {
     "data": {
      "text/plain": [
       "array([[10,  5,  1],\n",
       "       [ 7,  1,  5],\n",
       "       [ 6,  3,  7]])"
      ]
     },
     "execution_count": 242,
     "metadata": {},
     "output_type": "execute_result"
    }
   ],
   "source": [
    "rand_array"
   ]
  },
  {
   "cell_type": "code",
   "execution_count": 243,
   "metadata": {},
   "outputs": [],
   "source": [
    "rand_array[[0,2]] = rand_array[[2,0]]"
   ]
  },
  {
   "cell_type": "code",
   "execution_count": 244,
   "metadata": {},
   "outputs": [
    {
     "data": {
      "text/plain": [
       "array([[ 6,  3,  7],\n",
       "       [ 7,  1,  5],\n",
       "       [10,  5,  1]])"
      ]
     },
     "execution_count": 244,
     "metadata": {},
     "output_type": "execute_result"
    }
   ],
   "source": [
    "rand_array"
   ]
  },
  {
   "cell_type": "code",
   "execution_count": null,
   "metadata": {},
   "outputs": [],
   "source": []
  },
  {
   "cell_type": "markdown",
   "metadata": {},
   "source": [
    "### 14. Create a random matrix and Compute a matrix rank."
   ]
  },
  {
   "cell_type": "code",
   "execution_count": 249,
   "metadata": {},
   "outputs": [],
   "source": [
    "matrix = np.random.randint(1,11,16).reshape(4,4)"
   ]
  },
  {
   "cell_type": "code",
   "execution_count": 250,
   "metadata": {},
   "outputs": [
    {
     "data": {
      "text/plain": [
       "array([[3, 3, 9, 4],\n",
       "       [3, 8, 8, 9],\n",
       "       [7, 5, 6, 9],\n",
       "       [6, 4, 2, 6]])"
      ]
     },
     "execution_count": 250,
     "metadata": {},
     "output_type": "execute_result"
    }
   ],
   "source": [
    "matrix"
   ]
  },
  {
   "cell_type": "code",
   "execution_count": 252,
   "metadata": {},
   "outputs": [
    {
     "data": {
      "text/plain": [
       "4"
      ]
     },
     "execution_count": 252,
     "metadata": {},
     "output_type": "execute_result"
    }
   ],
   "source": [
    "## Rank of the matrix\n",
    "np.linalg.matrix_rank(matrix)"
   ]
  },
  {
   "cell_type": "code",
   "execution_count": null,
   "metadata": {},
   "outputs": [],
   "source": []
  },
  {
   "cell_type": "markdown",
   "metadata": {},
   "source": [
    "### 15. Analyse various school outcomes in Tennessee using pandas."
   ]
  },
  {
   "cell_type": "code",
   "execution_count": 254,
   "metadata": {},
   "outputs": [],
   "source": [
    "## Reading the data into a dataframe\n",
    "df=pd.read_csv(r\"./datasets/middle_tn_schools.csv\")"
   ]
  },
  {
   "cell_type": "code",
   "execution_count": 255,
   "metadata": {},
   "outputs": [
    {
     "data": {
      "text/html": [
       "<div>\n",
       "<style scoped>\n",
       "    .dataframe tbody tr th:only-of-type {\n",
       "        vertical-align: middle;\n",
       "    }\n",
       "\n",
       "    .dataframe tbody tr th {\n",
       "        vertical-align: top;\n",
       "    }\n",
       "\n",
       "    .dataframe thead th {\n",
       "        text-align: right;\n",
       "    }\n",
       "</style>\n",
       "<table border=\"1\" class=\"dataframe\">\n",
       "  <thead>\n",
       "    <tr style=\"text-align: right;\">\n",
       "      <th></th>\n",
       "      <th>name</th>\n",
       "      <th>school_rating</th>\n",
       "      <th>size</th>\n",
       "      <th>reduced_lunch</th>\n",
       "      <th>state_percentile_16</th>\n",
       "      <th>state_percentile_15</th>\n",
       "      <th>stu_teach_ratio</th>\n",
       "      <th>school_type</th>\n",
       "      <th>avg_score_15</th>\n",
       "      <th>avg_score_16</th>\n",
       "      <th>full_time_teachers</th>\n",
       "      <th>percent_black</th>\n",
       "      <th>percent_white</th>\n",
       "      <th>percent_asian</th>\n",
       "      <th>percent_hispanic</th>\n",
       "    </tr>\n",
       "  </thead>\n",
       "  <tbody>\n",
       "    <tr>\n",
       "      <th>0</th>\n",
       "      <td>Allendale Elementary School</td>\n",
       "      <td>5.0</td>\n",
       "      <td>851.0</td>\n",
       "      <td>10.0</td>\n",
       "      <td>90.2</td>\n",
       "      <td>95.8</td>\n",
       "      <td>15.7</td>\n",
       "      <td>Public</td>\n",
       "      <td>89.4</td>\n",
       "      <td>85.2</td>\n",
       "      <td>54.0</td>\n",
       "      <td>2.9</td>\n",
       "      <td>85.5</td>\n",
       "      <td>1.6</td>\n",
       "      <td>5.6</td>\n",
       "    </tr>\n",
       "    <tr>\n",
       "      <th>1</th>\n",
       "      <td>Anderson Elementary</td>\n",
       "      <td>2.0</td>\n",
       "      <td>412.0</td>\n",
       "      <td>71.0</td>\n",
       "      <td>32.8</td>\n",
       "      <td>37.3</td>\n",
       "      <td>12.8</td>\n",
       "      <td>Public</td>\n",
       "      <td>43.0</td>\n",
       "      <td>38.3</td>\n",
       "      <td>32.0</td>\n",
       "      <td>3.9</td>\n",
       "      <td>86.7</td>\n",
       "      <td>1.0</td>\n",
       "      <td>4.9</td>\n",
       "    </tr>\n",
       "    <tr>\n",
       "      <th>2</th>\n",
       "      <td>Avoca Elementary</td>\n",
       "      <td>4.0</td>\n",
       "      <td>482.0</td>\n",
       "      <td>43.0</td>\n",
       "      <td>78.4</td>\n",
       "      <td>83.6</td>\n",
       "      <td>16.6</td>\n",
       "      <td>Public</td>\n",
       "      <td>75.7</td>\n",
       "      <td>73.0</td>\n",
       "      <td>29.0</td>\n",
       "      <td>1.0</td>\n",
       "      <td>91.5</td>\n",
       "      <td>1.2</td>\n",
       "      <td>4.4</td>\n",
       "    </tr>\n",
       "    <tr>\n",
       "      <th>3</th>\n",
       "      <td>Bailey Middle</td>\n",
       "      <td>0.0</td>\n",
       "      <td>394.0</td>\n",
       "      <td>91.0</td>\n",
       "      <td>1.6</td>\n",
       "      <td>1.0</td>\n",
       "      <td>13.1</td>\n",
       "      <td>Public Magnet</td>\n",
       "      <td>2.1</td>\n",
       "      <td>4.4</td>\n",
       "      <td>30.0</td>\n",
       "      <td>80.7</td>\n",
       "      <td>11.7</td>\n",
       "      <td>2.3</td>\n",
       "      <td>4.3</td>\n",
       "    </tr>\n",
       "    <tr>\n",
       "      <th>4</th>\n",
       "      <td>Barfield Elementary</td>\n",
       "      <td>4.0</td>\n",
       "      <td>948.0</td>\n",
       "      <td>26.0</td>\n",
       "      <td>85.3</td>\n",
       "      <td>89.2</td>\n",
       "      <td>14.8</td>\n",
       "      <td>Public</td>\n",
       "      <td>81.3</td>\n",
       "      <td>79.6</td>\n",
       "      <td>64.0</td>\n",
       "      <td>11.8</td>\n",
       "      <td>71.2</td>\n",
       "      <td>7.1</td>\n",
       "      <td>6.0</td>\n",
       "    </tr>\n",
       "  </tbody>\n",
       "</table>\n",
       "</div>"
      ],
      "text/plain": [
       "                          name  school_rating   size  reduced_lunch  \\\n",
       "0  Allendale Elementary School            5.0  851.0           10.0   \n",
       "1          Anderson Elementary            2.0  412.0           71.0   \n",
       "2             Avoca Elementary            4.0  482.0           43.0   \n",
       "3                Bailey Middle            0.0  394.0           91.0   \n",
       "4          Barfield Elementary            4.0  948.0           26.0   \n",
       "\n",
       "   state_percentile_16  state_percentile_15  stu_teach_ratio    school_type  \\\n",
       "0                 90.2                 95.8             15.7         Public   \n",
       "1                 32.8                 37.3             12.8         Public   \n",
       "2                 78.4                 83.6             16.6         Public   \n",
       "3                  1.6                  1.0             13.1  Public Magnet   \n",
       "4                 85.3                 89.2             14.8         Public   \n",
       "\n",
       "   avg_score_15  avg_score_16  full_time_teachers  percent_black  \\\n",
       "0          89.4          85.2                54.0            2.9   \n",
       "1          43.0          38.3                32.0            3.9   \n",
       "2          75.7          73.0                29.0            1.0   \n",
       "3           2.1           4.4                30.0           80.7   \n",
       "4          81.3          79.6                64.0           11.8   \n",
       "\n",
       "   percent_white  percent_asian  percent_hispanic  \n",
       "0           85.5            1.6               5.6  \n",
       "1           86.7            1.0               4.9  \n",
       "2           91.5            1.2               4.4  \n",
       "3           11.7            2.3               4.3  \n",
       "4           71.2            7.1               6.0  "
      ]
     },
     "execution_count": 255,
     "metadata": {},
     "output_type": "execute_result"
    }
   ],
   "source": [
    "## Viewing first 5 rows\n",
    "df.head()"
   ]
  },
  {
   "cell_type": "code",
   "execution_count": 256,
   "metadata": {},
   "outputs": [
    {
     "data": {
      "text/html": [
       "<div>\n",
       "<style scoped>\n",
       "    .dataframe tbody tr th:only-of-type {\n",
       "        vertical-align: middle;\n",
       "    }\n",
       "\n",
       "    .dataframe tbody tr th {\n",
       "        vertical-align: top;\n",
       "    }\n",
       "\n",
       "    .dataframe thead th {\n",
       "        text-align: right;\n",
       "    }\n",
       "</style>\n",
       "<table border=\"1\" class=\"dataframe\">\n",
       "  <thead>\n",
       "    <tr style=\"text-align: right;\">\n",
       "      <th></th>\n",
       "      <th>school_rating</th>\n",
       "      <th>size</th>\n",
       "      <th>reduced_lunch</th>\n",
       "      <th>state_percentile_16</th>\n",
       "      <th>state_percentile_15</th>\n",
       "      <th>stu_teach_ratio</th>\n",
       "      <th>avg_score_15</th>\n",
       "      <th>avg_score_16</th>\n",
       "      <th>full_time_teachers</th>\n",
       "      <th>percent_black</th>\n",
       "      <th>percent_white</th>\n",
       "      <th>percent_asian</th>\n",
       "      <th>percent_hispanic</th>\n",
       "    </tr>\n",
       "  </thead>\n",
       "  <tbody>\n",
       "    <tr>\n",
       "      <th>count</th>\n",
       "      <td>347.000000</td>\n",
       "      <td>347.000000</td>\n",
       "      <td>347.000000</td>\n",
       "      <td>347.000000</td>\n",
       "      <td>341.000000</td>\n",
       "      <td>347.000000</td>\n",
       "      <td>341.000000</td>\n",
       "      <td>347.000000</td>\n",
       "      <td>347.000000</td>\n",
       "      <td>347.000000</td>\n",
       "      <td>347.000000</td>\n",
       "      <td>347.000000</td>\n",
       "      <td>347.000000</td>\n",
       "    </tr>\n",
       "    <tr>\n",
       "      <th>mean</th>\n",
       "      <td>2.968300</td>\n",
       "      <td>699.472622</td>\n",
       "      <td>50.279539</td>\n",
       "      <td>58.801729</td>\n",
       "      <td>58.249267</td>\n",
       "      <td>15.461671</td>\n",
       "      <td>57.004692</td>\n",
       "      <td>57.049856</td>\n",
       "      <td>44.939481</td>\n",
       "      <td>21.197983</td>\n",
       "      <td>61.673487</td>\n",
       "      <td>2.642651</td>\n",
       "      <td>11.164553</td>\n",
       "    </tr>\n",
       "    <tr>\n",
       "      <th>std</th>\n",
       "      <td>1.690377</td>\n",
       "      <td>400.598636</td>\n",
       "      <td>25.480236</td>\n",
       "      <td>32.540747</td>\n",
       "      <td>32.702630</td>\n",
       "      <td>5.725170</td>\n",
       "      <td>26.696450</td>\n",
       "      <td>27.968974</td>\n",
       "      <td>22.053386</td>\n",
       "      <td>23.562538</td>\n",
       "      <td>27.274859</td>\n",
       "      <td>3.109629</td>\n",
       "      <td>12.030608</td>\n",
       "    </tr>\n",
       "    <tr>\n",
       "      <th>min</th>\n",
       "      <td>0.000000</td>\n",
       "      <td>53.000000</td>\n",
       "      <td>2.000000</td>\n",
       "      <td>0.200000</td>\n",
       "      <td>0.600000</td>\n",
       "      <td>4.700000</td>\n",
       "      <td>1.500000</td>\n",
       "      <td>0.100000</td>\n",
       "      <td>2.000000</td>\n",
       "      <td>0.000000</td>\n",
       "      <td>1.100000</td>\n",
       "      <td>0.000000</td>\n",
       "      <td>0.000000</td>\n",
       "    </tr>\n",
       "    <tr>\n",
       "      <th>25%</th>\n",
       "      <td>2.000000</td>\n",
       "      <td>420.500000</td>\n",
       "      <td>30.000000</td>\n",
       "      <td>30.950000</td>\n",
       "      <td>27.100000</td>\n",
       "      <td>13.700000</td>\n",
       "      <td>37.600000</td>\n",
       "      <td>37.000000</td>\n",
       "      <td>30.000000</td>\n",
       "      <td>3.600000</td>\n",
       "      <td>40.600000</td>\n",
       "      <td>0.750000</td>\n",
       "      <td>3.800000</td>\n",
       "    </tr>\n",
       "    <tr>\n",
       "      <th>50%</th>\n",
       "      <td>3.000000</td>\n",
       "      <td>595.000000</td>\n",
       "      <td>51.000000</td>\n",
       "      <td>66.400000</td>\n",
       "      <td>65.800000</td>\n",
       "      <td>15.000000</td>\n",
       "      <td>61.800000</td>\n",
       "      <td>60.700000</td>\n",
       "      <td>40.000000</td>\n",
       "      <td>13.500000</td>\n",
       "      <td>68.700000</td>\n",
       "      <td>1.600000</td>\n",
       "      <td>6.400000</td>\n",
       "    </tr>\n",
       "    <tr>\n",
       "      <th>75%</th>\n",
       "      <td>4.000000</td>\n",
       "      <td>851.000000</td>\n",
       "      <td>71.500000</td>\n",
       "      <td>88.000000</td>\n",
       "      <td>88.600000</td>\n",
       "      <td>16.700000</td>\n",
       "      <td>79.600000</td>\n",
       "      <td>80.250000</td>\n",
       "      <td>54.000000</td>\n",
       "      <td>28.350000</td>\n",
       "      <td>85.950000</td>\n",
       "      <td>3.100000</td>\n",
       "      <td>13.800000</td>\n",
       "    </tr>\n",
       "    <tr>\n",
       "      <th>max</th>\n",
       "      <td>5.000000</td>\n",
       "      <td>2314.000000</td>\n",
       "      <td>98.000000</td>\n",
       "      <td>99.800000</td>\n",
       "      <td>99.800000</td>\n",
       "      <td>111.000000</td>\n",
       "      <td>99.000000</td>\n",
       "      <td>98.900000</td>\n",
       "      <td>140.000000</td>\n",
       "      <td>97.400000</td>\n",
       "      <td>99.700000</td>\n",
       "      <td>21.100000</td>\n",
       "      <td>65.200000</td>\n",
       "    </tr>\n",
       "  </tbody>\n",
       "</table>\n",
       "</div>"
      ],
      "text/plain": [
       "       school_rating         size  reduced_lunch  state_percentile_16  \\\n",
       "count     347.000000   347.000000     347.000000           347.000000   \n",
       "mean        2.968300   699.472622      50.279539            58.801729   \n",
       "std         1.690377   400.598636      25.480236            32.540747   \n",
       "min         0.000000    53.000000       2.000000             0.200000   \n",
       "25%         2.000000   420.500000      30.000000            30.950000   \n",
       "50%         3.000000   595.000000      51.000000            66.400000   \n",
       "75%         4.000000   851.000000      71.500000            88.000000   \n",
       "max         5.000000  2314.000000      98.000000            99.800000   \n",
       "\n",
       "       state_percentile_15  stu_teach_ratio  avg_score_15  avg_score_16  \\\n",
       "count           341.000000       347.000000    341.000000    347.000000   \n",
       "mean             58.249267        15.461671     57.004692     57.049856   \n",
       "std              32.702630         5.725170     26.696450     27.968974   \n",
       "min               0.600000         4.700000      1.500000      0.100000   \n",
       "25%              27.100000        13.700000     37.600000     37.000000   \n",
       "50%              65.800000        15.000000     61.800000     60.700000   \n",
       "75%              88.600000        16.700000     79.600000     80.250000   \n",
       "max              99.800000       111.000000     99.000000     98.900000   \n",
       "\n",
       "       full_time_teachers  percent_black  percent_white  percent_asian  \\\n",
       "count          347.000000     347.000000     347.000000     347.000000   \n",
       "mean            44.939481      21.197983      61.673487       2.642651   \n",
       "std             22.053386      23.562538      27.274859       3.109629   \n",
       "min              2.000000       0.000000       1.100000       0.000000   \n",
       "25%             30.000000       3.600000      40.600000       0.750000   \n",
       "50%             40.000000      13.500000      68.700000       1.600000   \n",
       "75%             54.000000      28.350000      85.950000       3.100000   \n",
       "max            140.000000      97.400000      99.700000      21.100000   \n",
       "\n",
       "       percent_hispanic  \n",
       "count        347.000000  \n",
       "mean          11.164553  \n",
       "std           12.030608  \n",
       "min            0.000000  \n",
       "25%            3.800000  \n",
       "50%            6.400000  \n",
       "75%           13.800000  \n",
       "max           65.200000  "
      ]
     },
     "execution_count": 256,
     "metadata": {},
     "output_type": "execute_result"
    }
   ],
   "source": [
    "## Getting more info on columns\n",
    "df.describe()"
   ]
  },
  {
   "cell_type": "code",
   "execution_count": 257,
   "metadata": {},
   "outputs": [
    {
     "name": "stdout",
     "output_type": "stream",
     "text": [
      "<class 'pandas.core.frame.DataFrame'>\n",
      "RangeIndex: 347 entries, 0 to 346\n",
      "Data columns (total 15 columns):\n",
      " #   Column               Non-Null Count  Dtype  \n",
      "---  ------               --------------  -----  \n",
      " 0   name                 347 non-null    object \n",
      " 1   school_rating        347 non-null    float64\n",
      " 2   size                 347 non-null    float64\n",
      " 3   reduced_lunch        347 non-null    float64\n",
      " 4   state_percentile_16  347 non-null    float64\n",
      " 5   state_percentile_15  341 non-null    float64\n",
      " 6   stu_teach_ratio      347 non-null    float64\n",
      " 7   school_type          347 non-null    object \n",
      " 8   avg_score_15         341 non-null    float64\n",
      " 9   avg_score_16         347 non-null    float64\n",
      " 10  full_time_teachers   347 non-null    float64\n",
      " 11  percent_black        347 non-null    float64\n",
      " 12  percent_white        347 non-null    float64\n",
      " 13  percent_asian        347 non-null    float64\n",
      " 14  percent_hispanic     347 non-null    float64\n",
      "dtypes: float64(13), object(2)\n",
      "memory usage: 40.8+ KB\n"
     ]
    }
   ],
   "source": [
    "df.info()"
   ]
  },
  {
   "cell_type": "markdown",
   "metadata": {},
   "source": [
    "#### We can see that there are null values in column state_percentile_15 and avg_score_15. So deleting the rows which have null values"
   ]
  },
  {
   "cell_type": "code",
   "execution_count": 263,
   "metadata": {},
   "outputs": [
    {
     "data": {
      "text/plain": [
       "name                   0\n",
       "school_rating          0\n",
       "size                   0\n",
       "reduced_lunch          0\n",
       "state_percentile_16    0\n",
       "state_percentile_15    6\n",
       "stu_teach_ratio        0\n",
       "school_type            0\n",
       "avg_score_15           6\n",
       "avg_score_16           0\n",
       "full_time_teachers     0\n",
       "percent_black          0\n",
       "percent_white          0\n",
       "percent_asian          0\n",
       "percent_hispanic       0\n",
       "dtype: int64"
      ]
     },
     "execution_count": 263,
     "metadata": {},
     "output_type": "execute_result"
    }
   ],
   "source": [
    "df.isnull().sum()"
   ]
  },
  {
   "cell_type": "code",
   "execution_count": 266,
   "metadata": {},
   "outputs": [
    {
     "data": {
      "text/html": [
       "<div>\n",
       "<style scoped>\n",
       "    .dataframe tbody tr th:only-of-type {\n",
       "        vertical-align: middle;\n",
       "    }\n",
       "\n",
       "    .dataframe tbody tr th {\n",
       "        vertical-align: top;\n",
       "    }\n",
       "\n",
       "    .dataframe thead th {\n",
       "        text-align: right;\n",
       "    }\n",
       "</style>\n",
       "<table border=\"1\" class=\"dataframe\">\n",
       "  <thead>\n",
       "    <tr style=\"text-align: right;\">\n",
       "      <th></th>\n",
       "      <th>name</th>\n",
       "      <th>school_rating</th>\n",
       "      <th>size</th>\n",
       "      <th>reduced_lunch</th>\n",
       "      <th>state_percentile_16</th>\n",
       "      <th>state_percentile_15</th>\n",
       "      <th>stu_teach_ratio</th>\n",
       "      <th>school_type</th>\n",
       "      <th>avg_score_15</th>\n",
       "      <th>avg_score_16</th>\n",
       "      <th>full_time_teachers</th>\n",
       "      <th>percent_black</th>\n",
       "      <th>percent_white</th>\n",
       "      <th>percent_asian</th>\n",
       "      <th>percent_hispanic</th>\n",
       "    </tr>\n",
       "  </thead>\n",
       "  <tbody>\n",
       "    <tr>\n",
       "      <th>29</th>\n",
       "      <td>Carmel Elementary</td>\n",
       "      <td>5.0</td>\n",
       "      <td>583.0</td>\n",
       "      <td>21.0</td>\n",
       "      <td>93.7</td>\n",
       "      <td>NaN</td>\n",
       "      <td>14.9</td>\n",
       "      <td>Public</td>\n",
       "      <td>NaN</td>\n",
       "      <td>89.0</td>\n",
       "      <td>39.0</td>\n",
       "      <td>3.4</td>\n",
       "      <td>79.6</td>\n",
       "      <td>1.9</td>\n",
       "      <td>8.9</td>\n",
       "    </tr>\n",
       "    <tr>\n",
       "      <th>63</th>\n",
       "      <td>East End Preparatory School</td>\n",
       "      <td>4.0</td>\n",
       "      <td>383.0</td>\n",
       "      <td>87.0</td>\n",
       "      <td>81.9</td>\n",
       "      <td>NaN</td>\n",
       "      <td>22.5</td>\n",
       "      <td>Public Charter</td>\n",
       "      <td>NaN</td>\n",
       "      <td>75.7</td>\n",
       "      <td>17.0</td>\n",
       "      <td>74.7</td>\n",
       "      <td>8.1</td>\n",
       "      <td>0.5</td>\n",
       "      <td>13.6</td>\n",
       "    </tr>\n",
       "    <tr>\n",
       "      <th>157</th>\n",
       "      <td>Ketron Elementary School</td>\n",
       "      <td>1.0</td>\n",
       "      <td>722.0</td>\n",
       "      <td>78.0</td>\n",
       "      <td>12.7</td>\n",
       "      <td>NaN</td>\n",
       "      <td>17.6</td>\n",
       "      <td>Public</td>\n",
       "      <td>NaN</td>\n",
       "      <td>20.2</td>\n",
       "      <td>41.0</td>\n",
       "      <td>1.1</td>\n",
       "      <td>93.4</td>\n",
       "      <td>0.1</td>\n",
       "      <td>2.9</td>\n",
       "    </tr>\n",
       "    <tr>\n",
       "      <th>166</th>\n",
       "      <td>Lead Prep Southeast</td>\n",
       "      <td>2.0</td>\n",
       "      <td>235.0</td>\n",
       "      <td>77.0</td>\n",
       "      <td>47.8</td>\n",
       "      <td>NaN</td>\n",
       "      <td>14.6</td>\n",
       "      <td>Public Charter</td>\n",
       "      <td>NaN</td>\n",
       "      <td>49.6</td>\n",
       "      <td>16.0</td>\n",
       "      <td>36.6</td>\n",
       "      <td>33.2</td>\n",
       "      <td>3.4</td>\n",
       "      <td>26.8</td>\n",
       "    </tr>\n",
       "    <tr>\n",
       "      <th>203</th>\n",
       "      <td>Murrell School</td>\n",
       "      <td>0.0</td>\n",
       "      <td>71.0</td>\n",
       "      <td>87.0</td>\n",
       "      <td>0.2</td>\n",
       "      <td>NaN</td>\n",
       "      <td>4.7</td>\n",
       "      <td>Public</td>\n",
       "      <td>NaN</td>\n",
       "      <td>0.1</td>\n",
       "      <td>15.0</td>\n",
       "      <td>76.1</td>\n",
       "      <td>15.5</td>\n",
       "      <td>0.0</td>\n",
       "      <td>5.6</td>\n",
       "    </tr>\n",
       "    <tr>\n",
       "      <th>213</th>\n",
       "      <td>North Middle School</td>\n",
       "      <td>1.0</td>\n",
       "      <td>344.0</td>\n",
       "      <td>74.0</td>\n",
       "      <td>27.1</td>\n",
       "      <td>NaN</td>\n",
       "      <td>19.1</td>\n",
       "      <td>Public</td>\n",
       "      <td>NaN</td>\n",
       "      <td>35.4</td>\n",
       "      <td>18.0</td>\n",
       "      <td>0.3</td>\n",
       "      <td>95.9</td>\n",
       "      <td>0.6</td>\n",
       "      <td>1.7</td>\n",
       "    </tr>\n",
       "  </tbody>\n",
       "</table>\n",
       "</div>"
      ],
      "text/plain": [
       "                            name  school_rating   size  reduced_lunch  \\\n",
       "29             Carmel Elementary            5.0  583.0           21.0   \n",
       "63   East End Preparatory School            4.0  383.0           87.0   \n",
       "157     Ketron Elementary School            1.0  722.0           78.0   \n",
       "166          Lead Prep Southeast            2.0  235.0           77.0   \n",
       "203               Murrell School            0.0   71.0           87.0   \n",
       "213          North Middle School            1.0  344.0           74.0   \n",
       "\n",
       "     state_percentile_16  state_percentile_15  stu_teach_ratio  \\\n",
       "29                  93.7                  NaN             14.9   \n",
       "63                  81.9                  NaN             22.5   \n",
       "157                 12.7                  NaN             17.6   \n",
       "166                 47.8                  NaN             14.6   \n",
       "203                  0.2                  NaN              4.7   \n",
       "213                 27.1                  NaN             19.1   \n",
       "\n",
       "        school_type  avg_score_15  avg_score_16  full_time_teachers  \\\n",
       "29           Public           NaN          89.0                39.0   \n",
       "63   Public Charter           NaN          75.7                17.0   \n",
       "157          Public           NaN          20.2                41.0   \n",
       "166  Public Charter           NaN          49.6                16.0   \n",
       "203          Public           NaN           0.1                15.0   \n",
       "213          Public           NaN          35.4                18.0   \n",
       "\n",
       "     percent_black  percent_white  percent_asian  percent_hispanic  \n",
       "29             3.4           79.6            1.9               8.9  \n",
       "63            74.7            8.1            0.5              13.6  \n",
       "157            1.1           93.4            0.1               2.9  \n",
       "166           36.6           33.2            3.4              26.8  \n",
       "203           76.1           15.5            0.0               5.6  \n",
       "213            0.3           95.9            0.6               1.7  "
      ]
     },
     "execution_count": 266,
     "metadata": {},
     "output_type": "execute_result"
    }
   ],
   "source": [
    "df[df.isna().any(axis=1)]"
   ]
  },
  {
   "cell_type": "code",
   "execution_count": 267,
   "metadata": {},
   "outputs": [],
   "source": [
    "df.dropna(inplace= True)"
   ]
  },
  {
   "cell_type": "markdown",
   "metadata": {},
   "source": [
    "#### After dropping null records"
   ]
  },
  {
   "cell_type": "code",
   "execution_count": 268,
   "metadata": {},
   "outputs": [
    {
     "data": {
      "text/plain": [
       "name                   0\n",
       "school_rating          0\n",
       "size                   0\n",
       "reduced_lunch          0\n",
       "state_percentile_16    0\n",
       "state_percentile_15    0\n",
       "stu_teach_ratio        0\n",
       "school_type            0\n",
       "avg_score_15           0\n",
       "avg_score_16           0\n",
       "full_time_teachers     0\n",
       "percent_black          0\n",
       "percent_white          0\n",
       "percent_asian          0\n",
       "percent_hispanic       0\n",
       "dtype: int64"
      ]
     },
     "execution_count": 268,
     "metadata": {},
     "output_type": "execute_result"
    }
   ],
   "source": [
    "df.isnull().sum()"
   ]
  },
  {
   "cell_type": "code",
   "execution_count": 269,
   "metadata": {},
   "outputs": [
    {
     "data": {
      "text/html": [
       "<div>\n",
       "<style scoped>\n",
       "    .dataframe tbody tr th:only-of-type {\n",
       "        vertical-align: middle;\n",
       "    }\n",
       "\n",
       "    .dataframe tbody tr th {\n",
       "        vertical-align: top;\n",
       "    }\n",
       "\n",
       "    .dataframe thead th {\n",
       "        text-align: right;\n",
       "    }\n",
       "</style>\n",
       "<table border=\"1\" class=\"dataframe\">\n",
       "  <thead>\n",
       "    <tr style=\"text-align: right;\">\n",
       "      <th></th>\n",
       "      <th>school_rating</th>\n",
       "      <th>size</th>\n",
       "      <th>reduced_lunch</th>\n",
       "      <th>state_percentile_16</th>\n",
       "      <th>state_percentile_15</th>\n",
       "      <th>stu_teach_ratio</th>\n",
       "      <th>avg_score_15</th>\n",
       "      <th>avg_score_16</th>\n",
       "      <th>full_time_teachers</th>\n",
       "      <th>percent_black</th>\n",
       "      <th>percent_white</th>\n",
       "      <th>percent_asian</th>\n",
       "      <th>percent_hispanic</th>\n",
       "    </tr>\n",
       "  </thead>\n",
       "  <tbody>\n",
       "    <tr>\n",
       "      <th>count</th>\n",
       "      <td>341.000000</td>\n",
       "      <td>341.000000</td>\n",
       "      <td>341.000000</td>\n",
       "      <td>341.000000</td>\n",
       "      <td>341.000000</td>\n",
       "      <td>341.000000</td>\n",
       "      <td>341.000000</td>\n",
       "      <td>341.000000</td>\n",
       "      <td>341.000000</td>\n",
       "      <td>341.000000</td>\n",
       "      <td>341.000000</td>\n",
       "      <td>341.000000</td>\n",
       "      <td>341.000000</td>\n",
       "    </tr>\n",
       "    <tr>\n",
       "      <th>mean</th>\n",
       "      <td>2.982405</td>\n",
       "      <td>704.923754</td>\n",
       "      <td>49.920821</td>\n",
       "      <td>59.063930</td>\n",
       "      <td>58.249267</td>\n",
       "      <td>15.459824</td>\n",
       "      <td>57.004692</td>\n",
       "      <td>57.261877</td>\n",
       "      <td>45.302053</td>\n",
       "      <td>21.007331</td>\n",
       "      <td>61.803519</td>\n",
       "      <td>2.670088</td>\n",
       "      <td>11.186510</td>\n",
       "    </tr>\n",
       "    <tr>\n",
       "      <th>std</th>\n",
       "      <td>1.685487</td>\n",
       "      <td>400.970851</td>\n",
       "      <td>25.379175</td>\n",
       "      <td>32.445386</td>\n",
       "      <td>32.702630</td>\n",
       "      <td>5.728366</td>\n",
       "      <td>26.696450</td>\n",
       "      <td>27.873337</td>\n",
       "      <td>22.025513</td>\n",
       "      <td>23.314544</td>\n",
       "      <td>27.066237</td>\n",
       "      <td>3.125867</td>\n",
       "      <td>12.082311</td>\n",
       "    </tr>\n",
       "    <tr>\n",
       "      <th>min</th>\n",
       "      <td>0.000000</td>\n",
       "      <td>53.000000</td>\n",
       "      <td>2.000000</td>\n",
       "      <td>0.500000</td>\n",
       "      <td>0.600000</td>\n",
       "      <td>7.300000</td>\n",
       "      <td>1.500000</td>\n",
       "      <td>1.900000</td>\n",
       "      <td>2.000000</td>\n",
       "      <td>0.000000</td>\n",
       "      <td>1.100000</td>\n",
       "      <td>0.000000</td>\n",
       "      <td>0.000000</td>\n",
       "    </tr>\n",
       "    <tr>\n",
       "      <th>25%</th>\n",
       "      <td>2.000000</td>\n",
       "      <td>424.000000</td>\n",
       "      <td>30.000000</td>\n",
       "      <td>31.700000</td>\n",
       "      <td>27.100000</td>\n",
       "      <td>13.700000</td>\n",
       "      <td>37.600000</td>\n",
       "      <td>37.600000</td>\n",
       "      <td>30.000000</td>\n",
       "      <td>3.700000</td>\n",
       "      <td>41.400000</td>\n",
       "      <td>0.800000</td>\n",
       "      <td>3.800000</td>\n",
       "    </tr>\n",
       "    <tr>\n",
       "      <th>50%</th>\n",
       "      <td>3.000000</td>\n",
       "      <td>606.000000</td>\n",
       "      <td>50.000000</td>\n",
       "      <td>67.600000</td>\n",
       "      <td>65.800000</td>\n",
       "      <td>15.000000</td>\n",
       "      <td>61.800000</td>\n",
       "      <td>60.800000</td>\n",
       "      <td>41.000000</td>\n",
       "      <td>13.500000</td>\n",
       "      <td>68.700000</td>\n",
       "      <td>1.600000</td>\n",
       "      <td>6.400000</td>\n",
       "    </tr>\n",
       "    <tr>\n",
       "      <th>75%</th>\n",
       "      <td>4.000000</td>\n",
       "      <td>851.000000</td>\n",
       "      <td>71.000000</td>\n",
       "      <td>88.200000</td>\n",
       "      <td>88.600000</td>\n",
       "      <td>16.600000</td>\n",
       "      <td>79.600000</td>\n",
       "      <td>80.500000</td>\n",
       "      <td>55.000000</td>\n",
       "      <td>28.000000</td>\n",
       "      <td>85.900000</td>\n",
       "      <td>3.100000</td>\n",
       "      <td>13.800000</td>\n",
       "    </tr>\n",
       "    <tr>\n",
       "      <th>max</th>\n",
       "      <td>5.000000</td>\n",
       "      <td>2314.000000</td>\n",
       "      <td>98.000000</td>\n",
       "      <td>99.800000</td>\n",
       "      <td>99.800000</td>\n",
       "      <td>111.000000</td>\n",
       "      <td>99.000000</td>\n",
       "      <td>98.900000</td>\n",
       "      <td>140.000000</td>\n",
       "      <td>97.400000</td>\n",
       "      <td>99.700000</td>\n",
       "      <td>21.100000</td>\n",
       "      <td>65.200000</td>\n",
       "    </tr>\n",
       "  </tbody>\n",
       "</table>\n",
       "</div>"
      ],
      "text/plain": [
       "       school_rating         size  reduced_lunch  state_percentile_16  \\\n",
       "count     341.000000   341.000000     341.000000           341.000000   \n",
       "mean        2.982405   704.923754      49.920821            59.063930   \n",
       "std         1.685487   400.970851      25.379175            32.445386   \n",
       "min         0.000000    53.000000       2.000000             0.500000   \n",
       "25%         2.000000   424.000000      30.000000            31.700000   \n",
       "50%         3.000000   606.000000      50.000000            67.600000   \n",
       "75%         4.000000   851.000000      71.000000            88.200000   \n",
       "max         5.000000  2314.000000      98.000000            99.800000   \n",
       "\n",
       "       state_percentile_15  stu_teach_ratio  avg_score_15  avg_score_16  \\\n",
       "count           341.000000       341.000000    341.000000    341.000000   \n",
       "mean             58.249267        15.459824     57.004692     57.261877   \n",
       "std              32.702630         5.728366     26.696450     27.873337   \n",
       "min               0.600000         7.300000      1.500000      1.900000   \n",
       "25%              27.100000        13.700000     37.600000     37.600000   \n",
       "50%              65.800000        15.000000     61.800000     60.800000   \n",
       "75%              88.600000        16.600000     79.600000     80.500000   \n",
       "max              99.800000       111.000000     99.000000     98.900000   \n",
       "\n",
       "       full_time_teachers  percent_black  percent_white  percent_asian  \\\n",
       "count          341.000000     341.000000     341.000000     341.000000   \n",
       "mean            45.302053      21.007331      61.803519       2.670088   \n",
       "std             22.025513      23.314544      27.066237       3.125867   \n",
       "min              2.000000       0.000000       1.100000       0.000000   \n",
       "25%             30.000000       3.700000      41.400000       0.800000   \n",
       "50%             41.000000      13.500000      68.700000       1.600000   \n",
       "75%             55.000000      28.000000      85.900000       3.100000   \n",
       "max            140.000000      97.400000      99.700000      21.100000   \n",
       "\n",
       "       percent_hispanic  \n",
       "count        341.000000  \n",
       "mean          11.186510  \n",
       "std           12.082311  \n",
       "min            0.000000  \n",
       "25%            3.800000  \n",
       "50%            6.400000  \n",
       "75%           13.800000  \n",
       "max           65.200000  "
      ]
     },
     "execution_count": 269,
     "metadata": {},
     "output_type": "execute_result"
    }
   ],
   "source": [
    "df.describe()"
   ]
  },
  {
   "cell_type": "code",
   "execution_count": 271,
   "metadata": {},
   "outputs": [
    {
     "data": {
      "text/html": [
       "<div>\n",
       "<style scoped>\n",
       "    .dataframe tbody tr th:only-of-type {\n",
       "        vertical-align: middle;\n",
       "    }\n",
       "\n",
       "    .dataframe tbody tr th {\n",
       "        vertical-align: top;\n",
       "    }\n",
       "\n",
       "    .dataframe thead th {\n",
       "        text-align: right;\n",
       "    }\n",
       "</style>\n",
       "<table border=\"1\" class=\"dataframe\">\n",
       "  <thead>\n",
       "    <tr style=\"text-align: right;\">\n",
       "      <th></th>\n",
       "      <th>name</th>\n",
       "      <th>school_rating</th>\n",
       "      <th>size</th>\n",
       "      <th>reduced_lunch</th>\n",
       "      <th>state_percentile_16</th>\n",
       "      <th>state_percentile_15</th>\n",
       "      <th>stu_teach_ratio</th>\n",
       "      <th>school_type</th>\n",
       "      <th>avg_score_15</th>\n",
       "      <th>avg_score_16</th>\n",
       "      <th>full_time_teachers</th>\n",
       "      <th>percent_black</th>\n",
       "      <th>percent_white</th>\n",
       "      <th>percent_asian</th>\n",
       "      <th>percent_hispanic</th>\n",
       "    </tr>\n",
       "  </thead>\n",
       "  <tbody>\n",
       "    <tr>\n",
       "      <th>0</th>\n",
       "      <td>Allendale Elementary School</td>\n",
       "      <td>5.0</td>\n",
       "      <td>851.0</td>\n",
       "      <td>10.0</td>\n",
       "      <td>90.2</td>\n",
       "      <td>95.8</td>\n",
       "      <td>15.7</td>\n",
       "      <td>Public</td>\n",
       "      <td>89.4</td>\n",
       "      <td>85.2</td>\n",
       "      <td>54.0</td>\n",
       "      <td>2.9</td>\n",
       "      <td>85.5</td>\n",
       "      <td>1.6</td>\n",
       "      <td>5.6</td>\n",
       "    </tr>\n",
       "    <tr>\n",
       "      <th>1</th>\n",
       "      <td>Anderson Elementary</td>\n",
       "      <td>2.0</td>\n",
       "      <td>412.0</td>\n",
       "      <td>71.0</td>\n",
       "      <td>32.8</td>\n",
       "      <td>37.3</td>\n",
       "      <td>12.8</td>\n",
       "      <td>Public</td>\n",
       "      <td>43.0</td>\n",
       "      <td>38.3</td>\n",
       "      <td>32.0</td>\n",
       "      <td>3.9</td>\n",
       "      <td>86.7</td>\n",
       "      <td>1.0</td>\n",
       "      <td>4.9</td>\n",
       "    </tr>\n",
       "    <tr>\n",
       "      <th>2</th>\n",
       "      <td>Avoca Elementary</td>\n",
       "      <td>4.0</td>\n",
       "      <td>482.0</td>\n",
       "      <td>43.0</td>\n",
       "      <td>78.4</td>\n",
       "      <td>83.6</td>\n",
       "      <td>16.6</td>\n",
       "      <td>Public</td>\n",
       "      <td>75.7</td>\n",
       "      <td>73.0</td>\n",
       "      <td>29.0</td>\n",
       "      <td>1.0</td>\n",
       "      <td>91.5</td>\n",
       "      <td>1.2</td>\n",
       "      <td>4.4</td>\n",
       "    </tr>\n",
       "    <tr>\n",
       "      <th>3</th>\n",
       "      <td>Bailey Middle</td>\n",
       "      <td>0.0</td>\n",
       "      <td>394.0</td>\n",
       "      <td>91.0</td>\n",
       "      <td>1.6</td>\n",
       "      <td>1.0</td>\n",
       "      <td>13.1</td>\n",
       "      <td>Public Magnet</td>\n",
       "      <td>2.1</td>\n",
       "      <td>4.4</td>\n",
       "      <td>30.0</td>\n",
       "      <td>80.7</td>\n",
       "      <td>11.7</td>\n",
       "      <td>2.3</td>\n",
       "      <td>4.3</td>\n",
       "    </tr>\n",
       "    <tr>\n",
       "      <th>4</th>\n",
       "      <td>Barfield Elementary</td>\n",
       "      <td>4.0</td>\n",
       "      <td>948.0</td>\n",
       "      <td>26.0</td>\n",
       "      <td>85.3</td>\n",
       "      <td>89.2</td>\n",
       "      <td>14.8</td>\n",
       "      <td>Public</td>\n",
       "      <td>81.3</td>\n",
       "      <td>79.6</td>\n",
       "      <td>64.0</td>\n",
       "      <td>11.8</td>\n",
       "      <td>71.2</td>\n",
       "      <td>7.1</td>\n",
       "      <td>6.0</td>\n",
       "    </tr>\n",
       "    <tr>\n",
       "      <th>5</th>\n",
       "      <td>Barkers Mill Elementary School</td>\n",
       "      <td>4.0</td>\n",
       "      <td>893.0</td>\n",
       "      <td>48.0</td>\n",
       "      <td>78.1</td>\n",
       "      <td>76.4</td>\n",
       "      <td>13.9</td>\n",
       "      <td>Public</td>\n",
       "      <td>69.4</td>\n",
       "      <td>72.3</td>\n",
       "      <td>64.0</td>\n",
       "      <td>28.6</td>\n",
       "      <td>39.9</td>\n",
       "      <td>2.2</td>\n",
       "      <td>17.8</td>\n",
       "    </tr>\n",
       "    <tr>\n",
       "      <th>6</th>\n",
       "      <td>Barksdale Elementary</td>\n",
       "      <td>4.0</td>\n",
       "      <td>580.0</td>\n",
       "      <td>58.0</td>\n",
       "      <td>83.2</td>\n",
       "      <td>74.6</td>\n",
       "      <td>13.8</td>\n",
       "      <td>Public</td>\n",
       "      <td>68.0</td>\n",
       "      <td>76.1</td>\n",
       "      <td>42.0</td>\n",
       "      <td>27.4</td>\n",
       "      <td>59.5</td>\n",
       "      <td>0.5</td>\n",
       "      <td>6.6</td>\n",
       "    </tr>\n",
       "    <tr>\n",
       "      <th>7</th>\n",
       "      <td>Beech Elementary</td>\n",
       "      <td>5.0</td>\n",
       "      <td>612.0</td>\n",
       "      <td>16.0</td>\n",
       "      <td>95.2</td>\n",
       "      <td>93.4</td>\n",
       "      <td>15.6</td>\n",
       "      <td>Public</td>\n",
       "      <td>85.9</td>\n",
       "      <td>90.3</td>\n",
       "      <td>39.0</td>\n",
       "      <td>4.2</td>\n",
       "      <td>90.5</td>\n",
       "      <td>0.3</td>\n",
       "      <td>3.1</td>\n",
       "    </tr>\n",
       "    <tr>\n",
       "      <th>8</th>\n",
       "      <td>Beech Senior High School</td>\n",
       "      <td>4.0</td>\n",
       "      <td>1274.0</td>\n",
       "      <td>21.0</td>\n",
       "      <td>82.5</td>\n",
       "      <td>77.9</td>\n",
       "      <td>14.9</td>\n",
       "      <td>Public</td>\n",
       "      <td>67.2</td>\n",
       "      <td>69.3</td>\n",
       "      <td>85.0</td>\n",
       "      <td>13.8</td>\n",
       "      <td>79.7</td>\n",
       "      <td>1.4</td>\n",
       "      <td>3.7</td>\n",
       "    </tr>\n",
       "    <tr>\n",
       "      <th>9</th>\n",
       "      <td>Bellevue Middle</td>\n",
       "      <td>3.0</td>\n",
       "      <td>680.0</td>\n",
       "      <td>50.0</td>\n",
       "      <td>53.0</td>\n",
       "      <td>55.5</td>\n",
       "      <td>16.5</td>\n",
       "      <td>Public Magnet</td>\n",
       "      <td>55.8</td>\n",
       "      <td>53.3</td>\n",
       "      <td>41.0</td>\n",
       "      <td>24.3</td>\n",
       "      <td>61.8</td>\n",
       "      <td>5.6</td>\n",
       "      <td>6.6</td>\n",
       "    </tr>\n",
       "  </tbody>\n",
       "</table>\n",
       "</div>"
      ],
      "text/plain": [
       "                             name  school_rating    size  reduced_lunch  \\\n",
       "0     Allendale Elementary School            5.0   851.0           10.0   \n",
       "1             Anderson Elementary            2.0   412.0           71.0   \n",
       "2                Avoca Elementary            4.0   482.0           43.0   \n",
       "3                   Bailey Middle            0.0   394.0           91.0   \n",
       "4             Barfield Elementary            4.0   948.0           26.0   \n",
       "5  Barkers Mill Elementary School            4.0   893.0           48.0   \n",
       "6            Barksdale Elementary            4.0   580.0           58.0   \n",
       "7                Beech Elementary            5.0   612.0           16.0   \n",
       "8        Beech Senior High School            4.0  1274.0           21.0   \n",
       "9                 Bellevue Middle            3.0   680.0           50.0   \n",
       "\n",
       "   state_percentile_16  state_percentile_15  stu_teach_ratio    school_type  \\\n",
       "0                 90.2                 95.8             15.7         Public   \n",
       "1                 32.8                 37.3             12.8         Public   \n",
       "2                 78.4                 83.6             16.6         Public   \n",
       "3                  1.6                  1.0             13.1  Public Magnet   \n",
       "4                 85.3                 89.2             14.8         Public   \n",
       "5                 78.1                 76.4             13.9         Public   \n",
       "6                 83.2                 74.6             13.8         Public   \n",
       "7                 95.2                 93.4             15.6         Public   \n",
       "8                 82.5                 77.9             14.9         Public   \n",
       "9                 53.0                 55.5             16.5  Public Magnet   \n",
       "\n",
       "   avg_score_15  avg_score_16  full_time_teachers  percent_black  \\\n",
       "0          89.4          85.2                54.0            2.9   \n",
       "1          43.0          38.3                32.0            3.9   \n",
       "2          75.7          73.0                29.0            1.0   \n",
       "3           2.1           4.4                30.0           80.7   \n",
       "4          81.3          79.6                64.0           11.8   \n",
       "5          69.4          72.3                64.0           28.6   \n",
       "6          68.0          76.1                42.0           27.4   \n",
       "7          85.9          90.3                39.0            4.2   \n",
       "8          67.2          69.3                85.0           13.8   \n",
       "9          55.8          53.3                41.0           24.3   \n",
       "\n",
       "   percent_white  percent_asian  percent_hispanic  \n",
       "0           85.5            1.6               5.6  \n",
       "1           86.7            1.0               4.9  \n",
       "2           91.5            1.2               4.4  \n",
       "3           11.7            2.3               4.3  \n",
       "4           71.2            7.1               6.0  \n",
       "5           39.9            2.2              17.8  \n",
       "6           59.5            0.5               6.6  \n",
       "7           90.5            0.3               3.1  \n",
       "8           79.7            1.4               3.7  \n",
       "9           61.8            5.6               6.6  "
      ]
     },
     "execution_count": 271,
     "metadata": {},
     "output_type": "execute_result"
    }
   ],
   "source": [
    "## Viewing first 5 rows\n",
    "df.head(10)"
   ]
  },
  {
   "cell_type": "markdown",
   "metadata": {},
   "source": [
    "#### Phase 2 - Group data by school ratings"
   ]
  },
  {
   "cell_type": "code",
   "execution_count": 277,
   "metadata": {},
   "outputs": [
    {
     "data": {
      "text/html": [
       "<div>\n",
       "<style scoped>\n",
       "    .dataframe tbody tr th:only-of-type {\n",
       "        vertical-align: middle;\n",
       "    }\n",
       "\n",
       "    .dataframe tbody tr th {\n",
       "        vertical-align: top;\n",
       "    }\n",
       "\n",
       "    .dataframe thead tr th {\n",
       "        text-align: left;\n",
       "    }\n",
       "\n",
       "    .dataframe thead tr:last-of-type th {\n",
       "        text-align: right;\n",
       "    }\n",
       "</style>\n",
       "<table border=\"1\" class=\"dataframe\">\n",
       "  <thead>\n",
       "    <tr>\n",
       "      <th></th>\n",
       "      <th colspan=\"8\" halign=\"left\">reduced_lunch</th>\n",
       "    </tr>\n",
       "    <tr>\n",
       "      <th></th>\n",
       "      <th>count</th>\n",
       "      <th>mean</th>\n",
       "      <th>std</th>\n",
       "      <th>min</th>\n",
       "      <th>25%</th>\n",
       "      <th>50%</th>\n",
       "      <th>75%</th>\n",
       "      <th>max</th>\n",
       "    </tr>\n",
       "    <tr>\n",
       "      <th>school_rating</th>\n",
       "      <th></th>\n",
       "      <th></th>\n",
       "      <th></th>\n",
       "      <th></th>\n",
       "      <th></th>\n",
       "      <th></th>\n",
       "      <th></th>\n",
       "      <th></th>\n",
       "    </tr>\n",
       "  </thead>\n",
       "  <tbody>\n",
       "    <tr>\n",
       "      <th>0.0</th>\n",
       "      <td>42.0</td>\n",
       "      <td>83.500000</td>\n",
       "      <td>8.903959</td>\n",
       "      <td>53.0</td>\n",
       "      <td>79.25</td>\n",
       "      <td>86.0</td>\n",
       "      <td>90.00</td>\n",
       "      <td>98.0</td>\n",
       "    </tr>\n",
       "    <tr>\n",
       "      <th>1.0</th>\n",
       "      <td>38.0</td>\n",
       "      <td>74.894737</td>\n",
       "      <td>11.943085</td>\n",
       "      <td>53.0</td>\n",
       "      <td>65.00</td>\n",
       "      <td>74.5</td>\n",
       "      <td>84.75</td>\n",
       "      <td>98.0</td>\n",
       "    </tr>\n",
       "    <tr>\n",
       "      <th>2.0</th>\n",
       "      <td>43.0</td>\n",
       "      <td>63.976744</td>\n",
       "      <td>11.933323</td>\n",
       "      <td>37.0</td>\n",
       "      <td>54.50</td>\n",
       "      <td>62.0</td>\n",
       "      <td>73.50</td>\n",
       "      <td>88.0</td>\n",
       "    </tr>\n",
       "    <tr>\n",
       "      <th>3.0</th>\n",
       "      <td>56.0</td>\n",
       "      <td>50.285714</td>\n",
       "      <td>13.550866</td>\n",
       "      <td>24.0</td>\n",
       "      <td>41.00</td>\n",
       "      <td>48.5</td>\n",
       "      <td>63.00</td>\n",
       "      <td>78.0</td>\n",
       "    </tr>\n",
       "    <tr>\n",
       "      <th>4.0</th>\n",
       "      <td>85.0</td>\n",
       "      <td>40.458824</td>\n",
       "      <td>16.002643</td>\n",
       "      <td>4.0</td>\n",
       "      <td>30.00</td>\n",
       "      <td>41.0</td>\n",
       "      <td>50.00</td>\n",
       "      <td>86.0</td>\n",
       "    </tr>\n",
       "    <tr>\n",
       "      <th>5.0</th>\n",
       "      <td>77.0</td>\n",
       "      <td>21.610390</td>\n",
       "      <td>17.766879</td>\n",
       "      <td>2.0</td>\n",
       "      <td>8.00</td>\n",
       "      <td>19.0</td>\n",
       "      <td>30.00</td>\n",
       "      <td>87.0</td>\n",
       "    </tr>\n",
       "  </tbody>\n",
       "</table>\n",
       "</div>"
      ],
      "text/plain": [
       "              reduced_lunch                                                  \\\n",
       "                      count       mean        std   min    25%   50%    75%   \n",
       "school_rating                                                                 \n",
       "0.0                    42.0  83.500000   8.903959  53.0  79.25  86.0  90.00   \n",
       "1.0                    38.0  74.894737  11.943085  53.0  65.00  74.5  84.75   \n",
       "2.0                    43.0  63.976744  11.933323  37.0  54.50  62.0  73.50   \n",
       "3.0                    56.0  50.285714  13.550866  24.0  41.00  48.5  63.00   \n",
       "4.0                    85.0  40.458824  16.002643   4.0  30.00  41.0  50.00   \n",
       "5.0                    77.0  21.610390  17.766879   2.0   8.00  19.0  30.00   \n",
       "\n",
       "                     \n",
       "                max  \n",
       "school_rating        \n",
       "0.0            98.0  \n",
       "1.0            98.0  \n",
       "2.0            88.0  \n",
       "3.0            78.0  \n",
       "4.0            86.0  \n",
       "5.0            87.0  "
      ]
     },
     "execution_count": 277,
     "metadata": {},
     "output_type": "execute_result"
    }
   ],
   "source": [
    "df[['reduced_lunch','school_rating']].groupby(['school_rating']).describe()"
   ]
  },
  {
   "cell_type": "markdown",
   "metadata": {},
   "source": [
    "#### Phase 3 – Correlation analysis"
   ]
  },
  {
   "cell_type": "code",
   "execution_count": 278,
   "metadata": {},
   "outputs": [
    {
     "data": {
      "text/html": [
       "<div>\n",
       "<style scoped>\n",
       "    .dataframe tbody tr th:only-of-type {\n",
       "        vertical-align: middle;\n",
       "    }\n",
       "\n",
       "    .dataframe tbody tr th {\n",
       "        vertical-align: top;\n",
       "    }\n",
       "\n",
       "    .dataframe thead th {\n",
       "        text-align: right;\n",
       "    }\n",
       "</style>\n",
       "<table border=\"1\" class=\"dataframe\">\n",
       "  <thead>\n",
       "    <tr style=\"text-align: right;\">\n",
       "      <th></th>\n",
       "      <th>reduced_lunch</th>\n",
       "      <th>school_rating</th>\n",
       "    </tr>\n",
       "  </thead>\n",
       "  <tbody>\n",
       "    <tr>\n",
       "      <th>reduced_lunch</th>\n",
       "      <td>1.000000</td>\n",
       "      <td>-0.818037</td>\n",
       "    </tr>\n",
       "    <tr>\n",
       "      <th>school_rating</th>\n",
       "      <td>-0.818037</td>\n",
       "      <td>1.000000</td>\n",
       "    </tr>\n",
       "  </tbody>\n",
       "</table>\n",
       "</div>"
      ],
      "text/plain": [
       "               reduced_lunch  school_rating\n",
       "reduced_lunch       1.000000      -0.818037\n",
       "school_rating      -0.818037       1.000000"
      ]
     },
     "execution_count": 278,
     "metadata": {},
     "output_type": "execute_result"
    }
   ],
   "source": [
    "df[['reduced_lunch','school_rating']].corr()"
   ]
  },
  {
   "cell_type": "markdown",
   "metadata": {},
   "source": [
    "#### Phase 4 – Scatter Plot"
   ]
  },
  {
   "cell_type": "code",
   "execution_count": 279,
   "metadata": {},
   "outputs": [],
   "source": [
    "import matplotlib.pyplot as plt\n",
    "import seaborn as sns"
   ]
  },
  {
   "cell_type": "code",
   "execution_count": 283,
   "metadata": {},
   "outputs": [
    {
     "data": {
      "text/plain": [
       "<matplotlib.axes._subplots.AxesSubplot at 0x7f90e2b64ad0>"
      ]
     },
     "execution_count": 283,
     "metadata": {},
     "output_type": "execute_result"
    },
    {
     "data": {
      "image/png": "[encoded data removed]",
      "text/plain": [
       "<Figure size 1008x576 with 1 Axes>"
      ]
     },
     "metadata": {},
     "output_type": "display_data"
    }
   ],
   "source": [
    "sns.set(font_scale=2)\n",
    "plt.figure(figsize=(14,8)) #sets the size of the graph\n",
    "sns.regplot(data=df, x='reduced_lunch', y='school_rating')"
   ]
  },
  {
   "cell_type": "code",
   "execution_count": null,
   "metadata": {},
   "outputs": [],
   "source": []
  },
  {
   "cell_type": "markdown",
   "metadata": {},
   "source": [
    "#### Phase 5 – Correlation Matrix"
   ]
  },
  {
   "cell_type": "code",
   "execution_count": 288,
   "metadata": {},
   "outputs": [
    {
     "name": "stdout",
     "output_type": "stream",
     "text": [
      "                     school_rating      size  reduced_lunch  \\\n",
      "school_rating             1.000000  0.174402      -0.818037   \n",
      "size                      0.174402  1.000000      -0.268493   \n",
      "reduced_lunch            -0.818037 -0.268493       1.000000   \n",
      "state_percentile_16       0.985476  0.165095      -0.819148   \n",
      "state_percentile_15       0.937817  0.162887      -0.825085   \n",
      "stu_teach_ratio           0.199151  0.140678      -0.201650   \n",
      "avg_score_15              0.941336  0.161788      -0.839536   \n",
      "avg_score_16              0.982491  0.136475      -0.820004   \n",
      "full_time_teachers        0.114626  0.966971      -0.201282   \n",
      "percent_black            -0.606631 -0.136791       0.561948   \n",
      "percent_white             0.656134  0.092990      -0.674078   \n",
      "percent_asian             0.156934  0.189146      -0.220604   \n",
      "percent_hispanic         -0.387348 -0.017239       0.499779   \n",
      "\n",
      "                     state_percentile_16  state_percentile_15  \\\n",
      "school_rating                   0.985476             0.937817   \n",
      "size                            0.165095             0.162887   \n",
      "reduced_lunch                  -0.819148            -0.825085   \n",
      "state_percentile_16             1.000000             0.949694   \n",
      "state_percentile_15             0.949694             1.000000   \n",
      "stu_teach_ratio                 0.181639             0.141066   \n",
      "avg_score_15                    0.949197             0.991847   \n",
      "avg_score_16                    0.994116             0.946101   \n",
      "full_time_teachers              0.110210             0.109569   \n",
      "percent_black                  -0.587216            -0.564929   \n",
      "percent_white                   0.643632             0.612183   \n",
      "percent_asian                   0.145926             0.181822   \n",
      "percent_hispanic               -0.395358            -0.371708   \n",
      "\n",
      "                     stu_teach_ratio  avg_score_15  avg_score_16  \\\n",
      "school_rating               0.199151      0.941336      0.982491   \n",
      "size                        0.140678      0.161788      0.136475   \n",
      "reduced_lunch              -0.201650     -0.839536     -0.820004   \n",
      "state_percentile_16         0.181639      0.949197      0.994116   \n",
      "state_percentile_15         0.141066      0.991847      0.946101   \n",
      "stu_teach_ratio             1.000000      0.147963      0.168907   \n",
      "avg_score_15                0.147963      1.000000      0.953714   \n",
      "avg_score_16                0.168907      0.953714      1.000000   \n",
      "full_time_teachers          0.018855      0.105186      0.081931   \n",
      "percent_black              -0.118310     -0.595062     -0.604458   \n",
      "percent_white               0.131754      0.637500      0.651621   \n",
      "percent_asian               0.090224      0.192656      0.168011   \n",
      "percent_hispanic           -0.090983     -0.374300     -0.385862   \n",
      "\n",
      "                     full_time_teachers  percent_black  percent_white  \\\n",
      "school_rating                  0.114626      -0.606631       0.656134   \n",
      "size                           0.966971      -0.136791       0.092990   \n",
      "reduced_lunch                 -0.201282       0.561948      -0.674078   \n",
      "state_percentile_16            0.110210      -0.587216       0.643632   \n",
      "state_percentile_15            0.109569      -0.564929       0.612183   \n",
      "stu_teach_ratio                0.018855      -0.118310       0.131754   \n",
      "avg_score_15                   0.105186      -0.595062       0.637500   \n",
      "avg_score_16                   0.081931      -0.604458       0.651621   \n",
      "full_time_teachers             1.000000      -0.100514       0.044505   \n",
      "percent_black                 -0.100514       1.000000      -0.870971   \n",
      "percent_white                  0.044505      -0.870971       1.000000   \n",
      "percent_asian                  0.140614      -0.109107      -0.095975   \n",
      "percent_hispanic               0.027066       0.083822      -0.540421   \n",
      "\n",
      "                     percent_asian  percent_hispanic  \n",
      "school_rating             0.156934         -0.387348  \n",
      "size                      0.189146         -0.017239  \n",
      "reduced_lunch            -0.220604          0.499779  \n",
      "state_percentile_16       0.145926         -0.395358  \n",
      "state_percentile_15       0.181822         -0.371708  \n",
      "stu_teach_ratio           0.090224         -0.090983  \n",
      "avg_score_15              0.192656         -0.374300  \n",
      "avg_score_16              0.168011         -0.385862  \n",
      "full_time_teachers        0.140614          0.027066  \n",
      "percent_black            -0.109107          0.083822  \n",
      "percent_white            -0.095975         -0.540421  \n",
      "percent_asian             1.000000          0.183831  \n",
      "percent_hispanic          0.183831          1.000000  \n"
     ]
    }
   ],
   "source": [
    "corr = df.corr()\n",
    "print(corr)"
   ]
  },
  {
   "cell_type": "code",
   "execution_count": 292,
   "metadata": {},
   "outputs": [
    {
     "data": {
      "text/plain": [
       "<matplotlib.axes._subplots.AxesSubplot at 0x7f90e40c8850>"
      ]
     },
     "execution_count": 292,
     "metadata": {},
     "output_type": "execute_result"
    },
    {
     "data": {
      "image/png": "[encoded data removed]",
      "text/plain": [
       "<Figure size 936x720 with 2 Axes>"
      ]
     },
     "metadata": {},
     "output_type": "display_data"
    }
   ],
   "source": [
    "## For better visibality displaying it using HeatMap\n",
    "\n",
    "plt.subplots(figsize=(13,10))\n",
    "sns.set(font_scale=1)\n",
    "\n",
    "## Getting heat map based on correlation matrix\n",
    "sns.heatmap(corr,\n",
    "            xticklabels=corr.columns.values,\n",
    "            yticklabels=corr.columns.values,\n",
    "            annot=True)"
   ]
  },
  {
   "cell_type": "code",
   "execution_count": null,
   "metadata": {},
   "outputs": [],
   "source": []
  }
 ],
 "metadata": {
  "kernelspec": {
   "display_name": "Python 3",
   "language": "python",
   "name": "python3"
  },
  "language_info": {
   "codemirror_mode": {
    "name": "ipython",
    "version": 3
   },
   "file_extension": ".py",
   "mimetype": "text/x-python",
   "name": "python",
   "nbconvert_exporter": "python",
   "pygments_lexer": "ipython3",
   "version": "3.7.6"
  }
 },
 "nbformat": 4,
 "nbformat_minor": 4
}
