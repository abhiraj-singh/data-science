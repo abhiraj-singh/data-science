{
 "cells": [
  {
   "cell_type": "markdown",
   "metadata": {},
   "source": [
    "# Domain – Banking Marketing"
   ]
  },
  {
   "cell_type": "code",
   "execution_count": 1,
   "metadata": {},
   "outputs": [],
   "source": [
    "#importing libraries\n",
    "import pprint"
   ]
  },
  {
   "cell_type": "code",
   "execution_count": 2,
   "metadata": {},
   "outputs": [],
   "source": [
    "## Reading data from the file:\n",
    "def get_data():\n",
    "    '''\n",
    "    This function is used to read file and process it\n",
    "    '''\n",
    "    filename = r'./datasets/bank-data.csv'\n",
    "    out_list=[]\n",
    "    with open(filename) as file:\n",
    "        lines = file.readlines()[1:]\n",
    "        for line in lines:\n",
    "            data = line.split(',')\n",
    "            out_list.append(list([int(data[0]),data[1],data[2],data[3].replace('\\n','')]))\n",
    "    \n",
    "    return out_list\n",
    "\n"
   ]
  },
  {
   "cell_type": "code",
   "execution_count": 8,
   "metadata": {},
   "outputs": [
    {
     "data": {
      "text/plain": [
       "[[20, 'student', 'single', 'yes'],\n",
       " [32, 'management', 'single', 'yes'],\n",
       " [49, 'technician', 'married', 'yes'],\n",
       " [32, 'blue-collar', 'married', 'yes'],\n",
       " [33, 'management', 'married', 'yes']]"
      ]
     },
     "execution_count": 8,
     "metadata": {},
     "output_type": "execute_result"
    }
   ],
   "source": [
    "## extracting data from file in the form of list\n",
    "data_list = get_data()\n",
    "data_list[:5]"
   ]
  },
  {
   "cell_type": "code",
   "execution_count": 4,
   "metadata": {},
   "outputs": [],
   "source": [
    "\n",
    "## Function to build data set for loan validation\n",
    "def process_data(data_list):\n",
    "    \n",
    "    '''\n",
    "    This function creates the data set for validation\n",
    "    loan_data = {student: {single:['yes',20,50], married:['yes',20,70], divorced:['yes',20,50]}}\n",
    "    '''\n",
    "    loan_data = {}\n",
    "    \n",
    "    for data in data_list:\n",
    "        d_list={}\n",
    "        if data[1].lower() in loan_data:\n",
    "            if data[2].lower() in loan_data[data[1].lower()]:\n",
    "                \n",
    "                if data[3].lower() == 'yes' and loan_data[data[1].lower()][data[2].lower()][0] == 'no':\n",
    "                    loan_data[data[1].lower()][data[2].lower()][0] = 'yes'\n",
    "                if loan_data[data[1].lower()][data[2].lower()][1] > data[0]:\n",
    "                    loan_data[data[1].lower()][data[2].lower()][1] = data[0]\n",
    "                if loan_data[data[1].lower()][data[2].lower()][2] < data[0]:\n",
    "                    loan_data[data[1].lower()][data[2].lower()][2] = data[0]\n",
    "                \n",
    "            else:\n",
    "                #print('Running')\n",
    "                loan_data[data[1].lower()][data[2].lower()] = list([data[3].lower(),data[0],data[0]])\n",
    "\n",
    "        else:\n",
    "            d_list[data[2].lower()] = list([data[3].lower(),data[0],data[0]])\n",
    "            loan_data[data[1].lower()] = d_list\n",
    "            #print(d_list)\n",
    "    \n",
    "    return loan_data\n",
    "\n",
    "#process_data(data_list)"
   ]
  },
  {
   "cell_type": "code",
   "execution_count": 5,
   "metadata": {},
   "outputs": [
    {
     "name": "stdout",
     "output_type": "stream",
     "text": [
      "{'admin.': {'divorced': ['yes', 27, 48],\n",
      "            'married': ['yes', 27, 61],\n",
      "            'single': ['yes', 25, 53]},\n",
      " 'blue-collar': {'divorced': ['yes', 34, 55],\n",
      "                 'married': ['yes', 28, 60],\n",
      "                 'single': ['yes', 24, 49]},\n",
      " 'entrepreneur': {'divorced': ['yes', 37, 55],\n",
      "                  'married': ['yes', 35, 63],\n",
      "                  'single': ['yes', 23, 38]},\n",
      " 'housemaid': {'divorced': ['yes', 38, 56],\n",
      "               'married': ['yes', 34, 80],\n",
      "               'single': ['yes', 29, 47]},\n",
      " 'management': {'divorced': ['yes', 32, 60],\n",
      "                'married': ['yes', 25, 62],\n",
      "                'single': ['yes', 25, 52]},\n",
      " 'self-employed': {'divorced': ['yes', 35, 62],\n",
      "                   'married': ['yes', 39, 60],\n",
      "                   'single': ['yes', 28, 44]},\n",
      " 'services': {'divorced': ['yes', 29, 58],\n",
      "              'married': ['yes', 24, 60],\n",
      "              'single': ['yes', 26, 47]},\n",
      " 'student': {'married': ['yes', 25, 25], 'single': ['yes', 19, 28]},\n",
      " 'technician': {'divorced': ['yes', 34, 55],\n",
      "                'married': ['yes', 24, 61],\n",
      "                'single': ['yes', 23, 60]}}\n"
     ]
    }
   ],
   "source": [
    "## Getting final data after processing loan validaton file\n",
    "data = process_data(data_list)\n",
    "pprint.pprint(data)"
   ]
  },
  {
   "cell_type": "code",
   "execution_count": 34,
   "metadata": {},
   "outputs": [],
   "source": [
    "## Function for loan validation\n",
    "\n",
    "def loan_validate(data):\n",
    "    '''\n",
    "    This function helps Tele caller for validation of loan \n",
    "    '''\n",
    "    ## Creating list of professions for display and action\n",
    "    \n",
    "    while True:\n",
    "        \n",
    "        choice = None\n",
    "        print('\\n*****************************************')\n",
    "        print(\"\\nEnter 'END' to close the session\")\n",
    "        prof = input('What is the profession of customer :').strip().lower()\n",
    "        \n",
    "        if prof in data:\n",
    "            print('Profession exists')\n",
    "            marital = input('Enter the marital stauts of customer:').strip().lower()\n",
    "            \n",
    "            if marital in data[prof]:\n",
    "                print('Marital Status exists')\n",
    "                age = int(input('Enter the age as a number:').strip())\n",
    "                \n",
    "                if age >= data[prof][marital][1] and age <= data[prof][marital][2]:\n",
    "                    \n",
    "                    if data[prof][marital][0] == 'yes':\n",
    "                        print(\"Customer is eligible\")\n",
    "                    else:\n",
    "                        print(\"ERROR: Customer is NOT eligible\")\n",
    "                        \n",
    "                else:\n",
    "                    print(f\"ERROR: Customer's age eligibility is between {data[prof][marital][1]} and {data[prof][marital][2]}\")\n",
    "                    print(\"TRY AGAIN...........\")\n",
    "    \n",
    "            else:\n",
    "                print(\"ERROR: Marital Status can only be:\")\n",
    "                for n,p in enumerate(data[prof].keys()):\n",
    "                    print(f\"{n+1} : {p}\")\n",
    "                print(\"Else customer is not eligible\")\n",
    "                print(\"TRY AGAIN...........\")\n",
    "            \n",
    "        elif prof == 'end':\n",
    "            print('***** Logging Off ******')\n",
    "            break\n",
    "        \n",
    "        else:\n",
    "            print(\"ERROR: Profession can only be:\")\n",
    "            for n,p in enumerate(data.keys()):\n",
    "                print(f\"{n+1} : {p}\")\n",
    "            print(\"Else customer is not eligible\")\n",
    "            print(\"TRY AGAIN...........\")\n"
   ]
  },
  {
   "cell_type": "code",
   "execution_count": 35,
   "metadata": {},
   "outputs": [
    {
     "name": "stdout",
     "output_type": "stream",
     "text": [
      "\n",
      "*****************************************\n",
      "\n",
      "Enter 'END' to close the session\n",
      "What is the profession of customer :student\n",
      "Profession exists\n",
      "Enter the marital stauts of customer:single\n",
      "Marital Status exists\n",
      "Enter the age as a number:25\n",
      "Customer is eligible\n",
      "\n",
      "*****************************************\n",
      "\n",
      "Enter 'END' to close the session\n",
      "What is the profession of customer :STUDENT\n",
      "Profession exists\n",
      "Enter the marital stauts of customer:SINGLE\n",
      "Marital Status exists\n",
      "Enter the age as a number:30\n",
      "ERROR: Customer's age eligibility is between 19 and 28\n",
      "TRY AGAIN...........\n",
      "\n",
      "*****************************************\n",
      "\n",
      "Enter 'END' to close the session\n",
      "What is the profession of customer :student\n",
      "Profession exists\n",
      "Enter the marital stauts of customer:DIVORCED\n",
      "ERROR: Marital Status can only be:\n",
      "1 : single\n",
      "2 : married\n",
      "Else customer is not eligible\n",
      "TRY AGAIN...........\n",
      "\n",
      "*****************************************\n",
      "\n",
      "Enter 'END' to close the session\n",
      "What is the profession of customer :TECH\n",
      "ERROR: Profession can only be:\n",
      "1 : student\n",
      "2 : management\n",
      "3 : technician\n",
      "4 : blue-collar\n",
      "5 : admin.\n",
      "6 : services\n",
      "7 : self-employed\n",
      "8 : entrepreneur\n",
      "9 : housemaid\n",
      "Else customer is not eligible\n",
      "TRY AGAIN...........\n",
      "\n",
      "*****************************************\n",
      "\n",
      "Enter 'END' to close the session\n",
      "What is the profession of customer :admin.\n",
      "Profession exists\n",
      "Enter the marital stauts of customer:divorced\n",
      "Marital Status exists\n",
      "Enter the age as a number:45\n",
      "Customer is eligible\n",
      "\n",
      "*****************************************\n",
      "\n",
      "Enter 'END' to close the session\n",
      "What is the profession of customer :ADMIN.\n",
      "Profession exists\n",
      "Enter the marital stauts of customer:DIVORCED\n",
      "Marital Status exists\n",
      "Enter the age as a number:50\n",
      "ERROR: Customer's age eligibility is between 27 and 48\n",
      "TRY AGAIN...........\n",
      "\n",
      "*****************************************\n",
      "\n",
      "Enter 'END' to close the session\n",
      "What is the profession of customer :end\n",
      "***** Logging Off ******\n"
     ]
    }
   ],
   "source": [
    "loan_validate(data)"
   ]
  },
  {
   "cell_type": "code",
   "execution_count": null,
   "metadata": {},
   "outputs": [],
   "source": []
  }
 ],
 "metadata": {
  "kernelspec": {
   "display_name": "Python 3",
   "language": "python",
   "name": "python3"
  },
  "language_info": {
   "codemirror_mode": {
    "name": "ipython",
    "version": 3
   },
   "file_extension": ".py",
   "mimetype": "text/x-python",
   "name": "python",
   "nbconvert_exporter": "python",
   "pygments_lexer": "ipython3",
   "version": "3.7.6"
  }
 },
 "nbformat": 4,
 "nbformat_minor": 4
}
