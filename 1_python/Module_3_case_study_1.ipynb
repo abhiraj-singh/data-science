{
  "nbformat": 4,
  "nbformat_minor": 0,
  "metadata": {
    "colab": {
      "name": "Module_3_case_study_1.ipynb",
      "provenance": [],
      "collapsed_sections": []
    },
    "kernelspec": {
      "name": "python3",
      "display_name": "Python 3"
    },
    "language_info": {
      "name": "python"
    }
  },
  "cells": [
    {
      "cell_type": "code",
      "metadata": {
        "id": "GLLuAuoc7PEw"
      },
      "source": [
        "import math"
      ],
      "execution_count": 1,
      "outputs": []
    },
    {
      "cell_type": "markdown",
      "metadata": {
        "id": "T6GHaAPm7Pl3"
      },
      "source": [
        "1. A Robot moves in a Plane starting from the origin point (0,0). The robot can move toward UP, DOWN, LEFT, RIGHT. \n",
        "  The trace of Robot movement is as given following:\n",
        "\n",
        "  UP 5\n",
        "\n",
        "  DOWN 3\n",
        "\n",
        "  LEFT 3\n",
        "\n",
        "  RIGHT 2\n",
        "\n",
        "  The numbers after directions are steps. Write a program to compute the distance current position after sequence of movements.\n",
        "\n",
        "  Hint: Use math module."
      ]
    },
    {
      "cell_type": "code",
      "metadata": {
        "colab": {
          "base_uri": "https://localhost:8080/",
          "height": 35
        },
        "id": "XvOdmpLc7ZtM",
        "outputId": "d7723f22-e5d5-433e-888f-fe3f6f63b542"
      },
      "source": [
        "def robot_distance(move_seq:list):\n",
        "  moves ={'UP':5,'DOWN':3,'LEFT':3,'RIGHT':2}\n",
        "  start = [0,0]\n",
        "  x,y = 0,0\n",
        "\n",
        "  for i in move_seq:\n",
        "    #print(i)\n",
        "    ## for Y-Axis\n",
        "    if i == 'UP':\n",
        "      y += moves[i]\n",
        "    elif i == 'DOWN':\n",
        "      y -= moves[i]\n",
        "    \n",
        "    ## For X-Axis\n",
        "    elif i == 'LEFT':\n",
        "      x -= moves[i]\n",
        "    elif i == 'RIGHT':\n",
        "      x += moves[i]\n",
        "    \n",
        "  #print(x,y)\n",
        "  ## Steps to calculate distnace from start\n",
        "  \n",
        "  final_dist = math.hypot(x - start[0],y - start[1])\n",
        "  return f\"Distance Moved = {final_dist:.2f}\"\n",
        "\n",
        "\n",
        "\n",
        "move_seq = ['RIGHT','DOWN','UP','UP','LEFT','RIGHT','RIGHT']\n",
        "robot_distance(move_seq)"
      ],
      "execution_count": 11,
      "outputs": [
        {
          "output_type": "execute_result",
          "data": {
            "application/vnd.google.colaboratory.intrinsic+json": {
              "type": "string"
            },
            "text/plain": [
              "'Distance Moved = 7.62'"
            ]
          },
          "metadata": {},
          "execution_count": 11
        }
      ]
    },
    {
      "cell_type": "code",
      "metadata": {
        "id": "Hq_sSfRi747e"
      },
      "source": [
        ""
      ],
      "execution_count": null,
      "outputs": []
    },
    {
      "cell_type": "markdown",
      "metadata": {
        "id": "hIDei1r4A-xK"
      },
      "source": [
        "2. Data of XYZ company is stored in sorted list. Write a program for searching specific data from that list.\n",
        "\n",
        "  Hint: Use if/elif to deal with conditions."
      ]
    },
    {
      "cell_type": "code",
      "metadata": {
        "colab": {
          "base_uri": "https://localhost:8080/"
        },
        "id": "ghYx5CyUBAjE",
        "outputId": "2e022070-a1e4-4ed6-94ff-e461bcc95eb5"
      },
      "source": [
        "\n",
        "def search_data(data_list:list,value):\n",
        "  left = 0\n",
        "  right = len(data_list) -1\n",
        "  mid = (left + right)//2\n",
        "\n",
        "  if value < data_list[left]:\n",
        "    return \"Value is smaller than minimum value stored\"\n",
        "  if value > data_list[right]:\n",
        "    return \"Value is larger than maximum value stored\"\n",
        "\n",
        "  while left < right or mid != left or mid!= right:\n",
        "\n",
        "    if value == data_list[mid]:\n",
        "      return f\"Data Found at position {mid}\"\n",
        "    if value == data_list[left]:\n",
        "      return f\"Data Found at position {left}\"\n",
        "    if value == data_list[right]:\n",
        "      return f\"Data Found at position {right}\"\n",
        "    \n",
        "    if value > data_list[mid]:\n",
        "      left = mid\n",
        "      mid = (left + right)//2 \n",
        "      if mid == left:\n",
        "        break\n",
        "    elif value < data_list[mid]:\n",
        "      right = mid\n",
        "      mid = (left + right)//2\n",
        "      if mid == right:\n",
        "        break\n",
        "    #print(left,right,mid)\n",
        "  \n",
        "  return \"Value Not found\"\n",
        "\n",
        "\n",
        "data_list=[1,2,3,4,5,6,7,8,10]\n",
        "print(search_data(data_list,11))\n",
        "print(search_data(data_list,0))\n",
        "print(search_data(data_list,3))\n",
        "print(search_data(data_list,8))\n",
        "print(search_data(data_list,9))"
      ],
      "execution_count": 22,
      "outputs": [
        {
          "output_type": "stream",
          "name": "stdout",
          "text": [
            "Value is larger than maximum value stored\n",
            "Value is smaller than minimum value stored\n",
            "Data Found at position 2\n",
            "Data Found at position 7\n",
            "Value Not found\n"
          ]
        }
      ]
    },
    {
      "cell_type": "code",
      "metadata": {
        "id": "BguuI1hPDrwS"
      },
      "source": [
        ""
      ],
      "execution_count": null,
      "outputs": []
    },
    {
      "cell_type": "markdown",
      "metadata": {
        "id": "YsheaomsFEai"
      },
      "source": [
        "3. Weather forecasting organization wants to show is it day or night. So, write a program for such organization to find whether is it dark outside or not.\n",
        "  \n",
        "  Hint: Use time module."
      ]
    },
    {
      "cell_type": "code",
      "metadata": {
        "id": "U4lyOpd5FKqC"
      },
      "source": [
        "import time"
      ],
      "execution_count": 23,
      "outputs": []
    },
    {
      "cell_type": "code",
      "metadata": {
        "colab": {
          "base_uri": "https://localhost:8080/",
          "height": 35
        },
        "id": "3JXBc-q8FMDB",
        "outputId": "1f3e9644-1e2d-44d7-a2a1-c88493e2a3ec"
      },
      "source": [
        "#time.localtime().tm_hour\n",
        "\n",
        "def check_daylight():\n",
        "  hr = time.localtime().tm_hour\n",
        "\n",
        "  if hr >= 18 or hr <=6:\n",
        "    return \"Dark Outside\"\n",
        "  else:\n",
        "    return \"Light Outside\"\n",
        "\n",
        "check_daylight()"
      ],
      "execution_count": 35,
      "outputs": [
        {
          "output_type": "execute_result",
          "data": {
            "application/vnd.google.colaboratory.intrinsic+json": {
              "type": "string"
            },
            "text/plain": [
              "'Dark Outside'"
            ]
          },
          "metadata": {},
          "execution_count": 35
        }
      ]
    },
    {
      "cell_type": "code",
      "metadata": {
        "id": "rhb_PzsjGGmD"
      },
      "source": [
        ""
      ],
      "execution_count": null,
      "outputs": []
    },
    {
      "cell_type": "markdown",
      "metadata": {
        "id": "iQVibZQSIcOz"
      },
      "source": [
        "4. Write a program to find distance between two locations when their latitude and longitudes are given.\n",
        "\n",
        "  Hint: Use math module."
      ]
    },
    {
      "cell_type": "code",
      "metadata": {
        "colab": {
          "base_uri": "https://localhost:8080/",
          "height": 35
        },
        "id": "05YaE-LFIfL3",
        "outputId": "a94f264a-197a-4f24-f20d-eec80a2ca6f3"
      },
      "source": [
        "def world_distance(origin:tuple,destination:tuple):\n",
        "  radius = 6371  # km approx\n",
        "  lat1,lon1 = origin\n",
        "  lat2,lon2 = destination\n",
        "\n",
        "  dist_lat = math.radians(lat2 - lat1)\n",
        "  dist_lon = math.radians(lon2 - lon1)\n",
        "\n",
        "  a = (math.sin(dist_lat / 2) * math.sin(dist_lat / 2) + math.cos(math.radians(lat1)) * math.cos(math.radians(lat2)) * math.sin(dist_lon / 2) * math.sin(dist_lon / 2))\n",
        "  c = 2 * math.atan2(math.sqrt(a), math.sqrt(1 - a))\n",
        "  dist = radius * c\n",
        "  return f\"Distance is {dist:.2f} Kms\"\n",
        "\n",
        "\n",
        "origin = (45.7597, 4.8422)\n",
        "destination = (48.8567, 2.3508)\n",
        "world_distance(origin,destination)"
      ],
      "execution_count": 38,
      "outputs": [
        {
          "output_type": "execute_result",
          "data": {
            "application/vnd.google.colaboratory.intrinsic+json": {
              "type": "string"
            },
            "text/plain": [
              "'Distance is 392.22 Kms'"
            ]
          },
          "metadata": {},
          "execution_count": 38
        }
      ]
    },
    {
      "cell_type": "code",
      "metadata": {
        "id": "xSrGIJd5JOAD"
      },
      "source": [
        ""
      ],
      "execution_count": null,
      "outputs": []
    },
    {
      "cell_type": "markdown",
      "metadata": {
        "id": "muxlGfhrLydv"
      },
      "source": [
        "5. Design a software for bank system. There should be options like cash withdraw, cash credit and change password. According to user input, the software should provide required output.\n",
        "\n",
        "  Hint: Use if else statements and functions."
      ]
    },
    {
      "cell_type": "code",
      "metadata": {
        "colab": {
          "base_uri": "https://localhost:8080/"
        },
        "id": "XThIpRBrL72H",
        "outputId": "67e3b6ab-a7f6-4710-c2be-5e912df2ae59"
      },
      "source": [
        "## Below code is built for bank teller\n",
        "def bank_system():\n",
        "  user_input = {1:'add user',2:'deposit',3:'withdraw',4:'balance check',5:'change password',6:'List all Users',7:'quit'}\n",
        "  user={}\n",
        "\n",
        "  check = True\n",
        "  while check:\n",
        "    print(\"********************************************************\")\n",
        "    print(\"What would you like to do today :\")\n",
        "    print(\"1:add user \\n2:deposit \\n3:withdraw \\n4:balance check \\n5:change password \\n6:List all Users \\n7:quit\")\n",
        "    user_input = int(input(\"Please enter any number between 1-7 :\").strip())\n",
        "    print(\"********************************************************\")\n",
        "\n",
        "    if user_input ==1:  ## Adding a user\n",
        "      dep = int(input(\"Enter Deposit amount: \").strip())\n",
        "\n",
        "      if not user:\n",
        "        user[1]=[dep,None]\n",
        "      else:\n",
        "        user[(list(user.keys())[-1] + 1)]=[dep,None]\n",
        "      \n",
        "      print(f\"User created with Account# {list(user.keys())[-1]} and Balance# {dep}\")\n",
        "\n",
        "    elif user_input ==2: ## Deposit an amount\n",
        "      user_id = int(input(\"Enter Account Number: \").strip())\n",
        "\n",
        "      if user_id in user:\n",
        "        print(f\"Current Balance : {user[user_id][0]}\")\n",
        "        dep_amt = int(input(\"Enter Deposit amount: \").strip())\n",
        "        user[user_id][0] = user[user_id][0] + dep_amt\n",
        "        print(f\"Amount Deposited. New Balance : {user[user_id][0]}\")\n",
        "\n",
        "      else:\n",
        "        print(f\"ERROR: Account Number {user_id} doesnot exist\")\n",
        "\n",
        "    elif user_input ==3: ## Withdraw an amount \n",
        "        user_id = int(input(\"Enter Account Number: \").strip())\n",
        "\n",
        "        if user_id in user:\n",
        "          print(f\"Current Balance : {user[user_id][0]}\")\n",
        "          withdraw_amt = int(input(\"Enter Withdrawl amount: \").strip())\n",
        "\n",
        "          if withdraw_amt > user[user_id][0]:\n",
        "            print(\"ERROR: Cannot withdraw more than Current Balance\")\n",
        "          else:\n",
        "            user[user_id][0] = user[user_id][0] - withdraw_amt\n",
        "            print(f\"Amount Withdrawn. New Balance : {user[user_id][0]}\")\n",
        "\n",
        "        else:\n",
        "          print(f\"ERROR: Account Number {user_id} doesnot exist\")\n",
        "\n",
        "    elif user_input ==4: ## Check Balance \n",
        "        user_id = int(input(\"Enter Account Number: \").strip())\n",
        "\n",
        "        if user_id in user:\n",
        "          print(f\"Current Balance : {user[user_id][0]}\")\n",
        "        else:\n",
        "          print(f\"ERROR: Account Number {user_id} doesnot exist\")\n",
        "    \n",
        "    elif user_input ==5: ## change password \n",
        "        user_id = int(input(\"Enter Account Number: \").strip())\n",
        "\n",
        "        if user_id in user:\n",
        "          user_pass = input(\"Enter new password: \").strip()\n",
        "          user[user_id][1] = user_pass\n",
        "          print(\"Password changed\")\n",
        "        else:\n",
        "          print(f\"ERROR: Account Number {user_id} doesnot exist\")\n",
        "\n",
        "    elif user_input ==6: ## List all users\n",
        "        if user:\n",
        "          for k,v in user.items():\n",
        "            print(f\"Account Number = {k}   Balance = {v[0]}\")\n",
        "        else:\n",
        "          print(\"ERROR: there are no account for display\")\n",
        "\n",
        "    elif user_input == 7:\n",
        "      print(\"**** Logging off ****\")\n",
        "      check = False\n",
        "\n",
        "    else:\n",
        "      print(\"ERROR: Please enter between 1-7\")\n",
        "\n",
        "\n",
        "bank_system()"
      ],
      "execution_count": 63,
      "outputs": [
        {
          "output_type": "stream",
          "name": "stdout",
          "text": [
            "********************************************************\n",
            "What would you like to do today :\n",
            "1:add user \n",
            "2:deposit \n",
            "3:withdraw \n",
            "4:balance check \n",
            "5:change password \n",
            "6:List all Users \n",
            "7:quit\n",
            "Please enter any number between 1-7 :1\n",
            "********************************************************\n",
            "Enter Deposit amount: 100\n",
            "User created with Account# 1 and Balance# 100\n",
            "********************************************************\n",
            "What would you like to do today :\n",
            "1:add user \n",
            "2:deposit \n",
            "3:withdraw \n",
            "4:balance check \n",
            "5:change password \n",
            "6:List all Users \n",
            "7:quit\n",
            "Please enter any number between 1-7 :1\n",
            "********************************************************\n",
            "Enter Deposit amount: 250\n",
            "User created with Account# 2 and Balance# 250\n",
            "********************************************************\n",
            "What would you like to do today :\n",
            "1:add user \n",
            "2:deposit \n",
            "3:withdraw \n",
            "4:balance check \n",
            "5:change password \n",
            "6:List all Users \n",
            "7:quit\n",
            "Please enter any number between 1-7 :2\n",
            "********************************************************\n",
            "Enter Account Number: 1\n",
            "Current Balance : 100\n",
            "Enter Deposit amount: 75\n",
            "Amount Deposited. New Balance : 175\n",
            "********************************************************\n",
            "What would you like to do today :\n",
            "1:add user \n",
            "2:deposit \n",
            "3:withdraw \n",
            "4:balance check \n",
            "5:change password \n",
            "6:List all Users \n",
            "7:quit\n",
            "Please enter any number between 1-7 :3\n",
            "********************************************************\n",
            "Enter Account Number: 2\n",
            "Current Balance : 250\n",
            "Enter Withdrawl amount: 75\n",
            "Amount Withdrawn. New Balance : 175\n",
            "********************************************************\n",
            "What would you like to do today :\n",
            "1:add user \n",
            "2:deposit \n",
            "3:withdraw \n",
            "4:balance check \n",
            "5:change password \n",
            "6:List all Users \n",
            "7:quit\n",
            "Please enter any number between 1-7 :2\n",
            "********************************************************\n",
            "Enter Account Number: 4\n",
            "ERROR: Account Number 4 doesnot exist\n",
            "********************************************************\n",
            "What would you like to do today :\n",
            "1:add user \n",
            "2:deposit \n",
            "3:withdraw \n",
            "4:balance check \n",
            "5:change password \n",
            "6:List all Users \n",
            "7:quit\n",
            "Please enter any number between 1-7 :3\n",
            "********************************************************\n",
            "Enter Account Number: 4\n",
            "ERROR: Account Number 4 doesnot exist\n",
            "********************************************************\n",
            "What would you like to do today :\n",
            "1:add user \n",
            "2:deposit \n",
            "3:withdraw \n",
            "4:balance check \n",
            "5:change password \n",
            "6:List all Users \n",
            "7:quit\n",
            "Please enter any number between 1-7 :4\n",
            "********************************************************\n",
            "Enter Account Number: 2\n",
            "Current Balance : 175\n",
            "********************************************************\n",
            "What would you like to do today :\n",
            "1:add user \n",
            "2:deposit \n",
            "3:withdraw \n",
            "4:balance check \n",
            "5:change password \n",
            "6:List all Users \n",
            "7:quit\n",
            "Please enter any number between 1-7 :4\n",
            "********************************************************\n",
            "Enter Account Number: 5\n",
            "ERROR: Account Number 5 doesnot exist\n",
            "********************************************************\n",
            "What would you like to do today :\n",
            "1:add user \n",
            "2:deposit \n",
            "3:withdraw \n",
            "4:balance check \n",
            "5:change password \n",
            "6:List all Users \n",
            "7:quit\n",
            "Please enter any number between 1-7 :5\n",
            "********************************************************\n",
            "Enter Account Number: 4\n",
            "ERROR: Account Number 4 doesnot exist\n",
            "********************************************************\n",
            "What would you like to do today :\n",
            "1:add user \n",
            "2:deposit \n",
            "3:withdraw \n",
            "4:balance check \n",
            "5:change password \n",
            "6:List all Users \n",
            "7:quit\n",
            "Please enter any number between 1-7 :5\n",
            "********************************************************\n",
            "Enter Account Number: 2\n",
            "Enter new password: pass\n",
            "Password changed\n",
            "********************************************************\n",
            "What would you like to do today :\n",
            "1:add user \n",
            "2:deposit \n",
            "3:withdraw \n",
            "4:balance check \n",
            "5:change password \n",
            "6:List all Users \n",
            "7:quit\n",
            "Please enter any number between 1-7 :6\n",
            "********************************************************\n",
            "Account Number = 1   Balance = 175\n",
            "Account Number = 2   Balance = 175\n",
            "********************************************************\n",
            "What would you like to do today :\n",
            "1:add user \n",
            "2:deposit \n",
            "3:withdraw \n",
            "4:balance check \n",
            "5:change password \n",
            "6:List all Users \n",
            "7:quit\n",
            "Please enter any number between 1-7 :7\n",
            "********************************************************\n",
            "**** Logging off ****\n"
          ]
        }
      ]
    },
    {
      "cell_type": "code",
      "metadata": {
        "id": "6Y2fNDVi8Adu"
      },
      "source": [
        "\n"
      ],
      "execution_count": null,
      "outputs": []
    },
    {
      "cell_type": "markdown",
      "metadata": {
        "id": "0dUWqYtGE9is"
      },
      "source": [
        "6. Write a program which will find all such numbers which are divisible by 7 but are not a multiple of 5, between 2000 and 3200 (both included). The numbers obtained should be printed in a comma-separated sequence on a single line."
      ]
    },
    {
      "cell_type": "code",
      "metadata": {
        "colab": {
          "base_uri": "https://localhost:8080/",
          "height": 105
        },
        "id": "7y2nzArnFBNi",
        "outputId": "d596f5f4-eed5-4110-f7e7-9f1862ca794a"
      },
      "source": [
        "start = 2000\n",
        "end = 3200\n",
        "def check_number(start,end):\n",
        "  s =\"\"\n",
        "  for i in range(start,end+1):\n",
        "    if i%7 == 0:\n",
        "      if i%5 != 0:\n",
        "        s = s+\",\"+str(i)\n",
        "  return s[1:]\n",
        "\n",
        "check_number(start,end)"
      ],
      "execution_count": 66,
      "outputs": [
        {
          "output_type": "execute_result",
          "data": {
            "application/vnd.google.colaboratory.intrinsic+json": {
              "type": "string"
            },
            "text/plain": [
              "'2002,2009,2016,2023,2037,2044,2051,2058,2072,2079,2086,2093,2107,2114,2121,2128,2142,2149,2156,2163,2177,2184,2191,2198,2212,2219,2226,2233,2247,2254,2261,2268,2282,2289,2296,2303,2317,2324,2331,2338,2352,2359,2366,2373,2387,2394,2401,2408,2422,2429,2436,2443,2457,2464,2471,2478,2492,2499,2506,2513,2527,2534,2541,2548,2562,2569,2576,2583,2597,2604,2611,2618,2632,2639,2646,2653,2667,2674,2681,2688,2702,2709,2716,2723,2737,2744,2751,2758,2772,2779,2786,2793,2807,2814,2821,2828,2842,2849,2856,2863,2877,2884,2891,2898,2912,2919,2926,2933,2947,2954,2961,2968,2982,2989,2996,3003,3017,3024,3031,3038,3052,3059,3066,3073,3087,3094,3101,3108,3122,3129,3136,3143,3157,3164,3171,3178,3192,3199'"
            ]
          },
          "metadata": {},
          "execution_count": 66
        }
      ]
    },
    {
      "cell_type": "code",
      "metadata": {
        "id": "ir_EB6c-FsIu"
      },
      "source": [
        ""
      ],
      "execution_count": null,
      "outputs": []
    },
    {
      "cell_type": "markdown",
      "metadata": {
        "id": "WEBQ1rRKF7P9"
      },
      "source": [
        "7. Write a program which can compute the factorial of a given numbers. Use recursion to find it.\n",
        "\n",
        "  Hint: Suppose the following input is supplied to the program:\n",
        "  \n",
        "  8\n",
        "\n",
        "  Then, the output should be:\n",
        "\n",
        "  40320"
      ]
    },
    {
      "cell_type": "code",
      "metadata": {
        "colab": {
          "base_uri": "https://localhost:8080/"
        },
        "id": "_yB0OX2gGHEO",
        "outputId": "ffc124a2-8eee-4615-ab51-564eaa462ac9"
      },
      "source": [
        "def factorial(n:int):\n",
        "  #print(n)\n",
        "  if n == 1:\n",
        "    return 1\n",
        "  return n * factorial(n - 1)\n",
        "\n",
        "factorial(8)"
      ],
      "execution_count": 71,
      "outputs": [
        {
          "output_type": "execute_result",
          "data": {
            "text/plain": [
              "40320"
            ]
          },
          "metadata": {},
          "execution_count": 71
        }
      ]
    },
    {
      "cell_type": "code",
      "metadata": {
        "id": "9KsOWO3UGb_R"
      },
      "source": [
        ""
      ],
      "execution_count": null,
      "outputs": []
    },
    {
      "cell_type": "markdown",
      "metadata": {
        "id": "REGAVmaSG-ss"
      },
      "source": [
        "8. Write a program that calculates and prints the value according to the given formula:\n",
        "\n",
        "    Q = Square root of [(2 * C * D)/H]\n",
        "\n",
        "    Following are the fixed values of C and H: C is 50. H is 30.\n",
        "\n",
        "    D is the variable whose values should be input to your program in a comma- separated sequence.\n",
        "\n",
        "    Example:\n",
        "    Let us assume the following comma separated input sequence is given to the program:\n",
        "\n",
        "    100,150,180\n",
        "\n",
        "    The output of the program should be:\n",
        "\n",
        "    18,22,24"
      ]
    },
    {
      "cell_type": "code",
      "metadata": {
        "colab": {
          "base_uri": "https://localhost:8080/",
          "height": 53
        },
        "id": "bf-YrBjcHJSO",
        "outputId": "25fe68ec-1091-493d-9ce8-6c97ced2535a"
      },
      "source": [
        "user_input = input(\"Enter comma seperated sequence of numbers: \").strip().split(',')\n",
        "\n",
        "def calc_value(user_input:list):\n",
        "  c = 50\n",
        "  h = 30\n",
        "  s = \"\"\n",
        "  for i in user_input:\n",
        "    if i.strip().isdigit():\n",
        "      out = math.sqrt((2 * c * int(i)) / h)//1\n",
        "      s = s+\",\"+str(int(out))\n",
        "    else:\n",
        "      print(f\"input {i} is not a digit\")\n",
        "  \n",
        "  return s[1:]\n",
        "\n",
        "calc_value(user_input)"
      ],
      "execution_count": 82,
      "outputs": [
        {
          "name": "stdout",
          "output_type": "stream",
          "text": [
            "Enter comma seperated sequence of numbers: 100,150,180\n"
          ]
        },
        {
          "output_type": "execute_result",
          "data": {
            "application/vnd.google.colaboratory.intrinsic+json": {
              "type": "string"
            },
            "text/plain": [
              "'18,22,24'"
            ]
          },
          "metadata": {},
          "execution_count": 82
        }
      ]
    },
    {
      "cell_type": "code",
      "metadata": {
        "id": "7nI3wogQHu_x"
      },
      "source": [
        ""
      ],
      "execution_count": 80,
      "outputs": []
    },
    {
      "cell_type": "markdown",
      "metadata": {
        "id": "P1hG54f-Ji7l"
      },
      "source": [
        "9. Write a program which takes 2 digits, X,Y as input and generates a 2-dimensional array. The element value in the i-th row and j-th column of the array should be i*j.\n",
        "\n",
        "  Note: i=0,1.., X-1; j=0,1,¡Y-1.\n",
        "\n",
        "  Example:\n",
        "  Suppose the following inputs are given to the program:\n",
        "\n",
        "  3,5\n",
        "\n",
        "  Then, the output of the program should be:\n",
        "\n",
        "  [[0, 0, 0, 0, 0],\n",
        "\n",
        "  [0, 1, 2, 3, 4], \n",
        "  \n",
        "  [0, 2, 4, 6, 8]]"
      ]
    },
    {
      "cell_type": "code",
      "metadata": {
        "colab": {
          "base_uri": "https://localhost:8080/"
        },
        "id": "RF8g6GuOKFdY",
        "outputId": "cd4ccafb-8b81-4880-d6e1-ff466fc98169"
      },
      "source": [
        "def generate_array(x,y):\n",
        "  ar=[]\n",
        "\n",
        "  for i in range(x):\n",
        "    ar_temp=[]\n",
        "    for j in range(y):\n",
        "      ar_temp.append(i*j)\n",
        "    ar.append(ar_temp)\n",
        "  \n",
        "  return ar\n",
        "\n",
        "generate_array(3,5)\n"
      ],
      "execution_count": 83,
      "outputs": [
        {
          "output_type": "execute_result",
          "data": {
            "text/plain": [
              "[[0, 0, 0, 0, 0], [0, 1, 2, 3, 4], [0, 2, 4, 6, 8]]"
            ]
          },
          "metadata": {},
          "execution_count": 83
        }
      ]
    },
    {
      "cell_type": "code",
      "metadata": {
        "id": "aPgwiI6mK0NL"
      },
      "source": [
        ""
      ],
      "execution_count": null,
      "outputs": []
    },
    {
      "cell_type": "markdown",
      "metadata": {
        "id": "FaGj-aw3K_Pi"
      },
      "source": [
        "10. Write a program that accepts a comma separated sequence of words as input and prints the words in a comma-separated sequence after sorting them alphabetically.\n",
        "\n",
        "  Suppose the following input is supplied to the program:\n",
        "\n",
        "  without,hello,bag,world\n",
        "\n",
        "  Then, the output should be:\n",
        "\n",
        "  bag,hello,without,world"
      ]
    },
    {
      "cell_type": "code",
      "metadata": {
        "colab": {
          "base_uri": "https://localhost:8080/",
          "height": 53
        },
        "id": "ynbGJECULCaX",
        "outputId": "be595bbc-b039-4173-a542-e15cc44f610c"
      },
      "source": [
        "word_seq = input(\"Enter words as comma seperated : \").split(',')\n",
        "\n",
        "def word_sort(word_seq:list):\n",
        "  word_seq = sorted(word_seq)\n",
        "  s=\"\"\n",
        "  for w in word_seq:\n",
        "    s = s+\",\"+w.strip()\n",
        "\n",
        "  return s[1:] \n",
        "\n",
        "word_sort(word_seq)\n"
      ],
      "execution_count": 84,
      "outputs": [
        {
          "name": "stdout",
          "output_type": "stream",
          "text": [
            "Enter words as comma seperated : without,hello,bag,world\n"
          ]
        },
        {
          "output_type": "execute_result",
          "data": {
            "application/vnd.google.colaboratory.intrinsic+json": {
              "type": "string"
            },
            "text/plain": [
              "'bag,hello,without,world'"
            ]
          },
          "metadata": {},
          "execution_count": 84
        }
      ]
    },
    {
      "cell_type": "code",
      "metadata": {
        "id": "XJf-aLdkLsVP"
      },
      "source": [
        ""
      ],
      "execution_count": null,
      "outputs": []
    },
    {
      "cell_type": "markdown",
      "metadata": {
        "id": "B8zCs7nZLvIS"
      },
      "source": [
        "11. Write a program that accepts sequence of lines as input and prints the lines after making all characters in the sentence capitalized.\n",
        "\n",
        "  Suppose the following input is supplied to the program:\n",
        "\n",
        "  Hello world \n",
        "  \n",
        "  Practice makes perfect\n",
        "\n",
        "  Then, the output should be:\n",
        "\n",
        "  HELLO WORLD \n",
        "  \n",
        "  PRACTICE MAKES PERFECT"
      ]
    },
    {
      "cell_type": "code",
      "metadata": {
        "colab": {
          "base_uri": "https://localhost:8080/"
        },
        "id": "lhaBjk_eMFC7",
        "outputId": "8bf98ce4-51b7-4838-bee3-6b017428c774"
      },
      "source": [
        "def capital_words():\n",
        "  lines = []\n",
        "  while True:\n",
        "      l = input()\n",
        "      if l:\n",
        "          lines.append(l.upper())\n",
        "      else:\n",
        "          break;\n",
        "\n",
        "  for l in lines:\n",
        "      print(l)\n",
        "\n",
        "capital_words()"
      ],
      "execution_count": 86,
      "outputs": [
        {
          "output_type": "stream",
          "name": "stdout",
          "text": [
            "Hello world\n",
            "Practice makes perfect\n",
            "\n",
            "HELLO WORLD\n",
            "PRACTICE MAKES PERFECT\n"
          ]
        }
      ]
    },
    {
      "cell_type": "code",
      "metadata": {
        "id": "a1LihN6GNLa5"
      },
      "source": [
        ""
      ],
      "execution_count": null,
      "outputs": []
    },
    {
      "cell_type": "markdown",
      "metadata": {
        "id": "Q9sflIq9Ncoy"
      },
      "source": [
        "12. Write a program that accepts a sequence of whitespace separated words as input and prints the words after removing all duplicate words and sorting them alphanumerically.\n",
        "\n",
        "  Suppose the following input is supplied to the program:\n",
        "\n",
        "  hello world and practice makes perfect and hello world again\n",
        "\n",
        "  Then, the output should be:\n",
        "\n",
        "  again and hello makes perfect practice world"
      ]
    },
    {
      "cell_type": "code",
      "metadata": {
        "colab": {
          "base_uri": "https://localhost:8080/",
          "height": 53
        },
        "id": "z10LBdX8NhN7",
        "outputId": "55209e64-be8d-4195-9e8d-b0998240f6af"
      },
      "source": [
        "def remove_duplicate():\n",
        "  word = input(\"Enter the sentence: \").strip().split()\n",
        "\n",
        "  word = set(word)\n",
        "  word = sorted(list(word))\n",
        "\n",
        "  s=\"\"\n",
        "  for w in word:\n",
        "    s = s+\" \"+w\n",
        "  \n",
        "  return s[1:]\n",
        "\n",
        "remove_duplicate()\n"
      ],
      "execution_count": 88,
      "outputs": [
        {
          "name": "stdout",
          "output_type": "stream",
          "text": [
            "Enter the sentence: hello world and practice makes perfect and hello world again\n"
          ]
        },
        {
          "output_type": "execute_result",
          "data": {
            "application/vnd.google.colaboratory.intrinsic+json": {
              "type": "string"
            },
            "text/plain": [
              "'again and hello makes perfect practice world'"
            ]
          },
          "metadata": {},
          "execution_count": 88
        }
      ]
    },
    {
      "cell_type": "code",
      "metadata": {
        "id": "lZWK-H31OO5U"
      },
      "source": [
        ""
      ],
      "execution_count": 88,
      "outputs": []
    },
    {
      "cell_type": "markdown",
      "metadata": {
        "id": "CeVfaiUUOXlE"
      },
      "source": [
        "13. Write a program which accepts a sequence of comma separated 4 digit binary numbers as its input and then check whether they are divisible by 5 or not. The numbers that are divisible by 5 are to be printed in a comma separated sequence.\n",
        "\n",
        "  Example:\n",
        "\n",
        "  0100,0011,1010,1001\n",
        "\n",
        "  Then the output should be:\n",
        "\n",
        "  1010"
      ]
    },
    {
      "cell_type": "code",
      "metadata": {
        "colab": {
          "base_uri": "https://localhost:8080/",
          "height": 53
        },
        "id": "EECvmGpgOdKF",
        "outputId": "c380bf08-906b-43fe-eecf-1d122dd8ad18"
      },
      "source": [
        "def divide_binary(divisor:int):\n",
        "  bi = [8,4,2,1]\n",
        "  bin_seq = input(\"Enter the Binary Sequence: \").strip().split(',')\n",
        "  s = \"\"\n",
        "  for b in bin_seq:\n",
        "    sum = int(b[0])*int(bi[0]) + int(b[1])*int(bi[1]) + int(b[2])*int(bi[2]) + int(b[3])*int(bi[3])\n",
        "    if sum%divisor ==0:\n",
        "      s= s+\",\"+b\n",
        "  \n",
        "  return s[1:]\n",
        "\n",
        "divide_binary(5)"
      ],
      "execution_count": 90,
      "outputs": [
        {
          "name": "stdout",
          "output_type": "stream",
          "text": [
            "Enter the Binary Sequence: 0100,0011,1010,1001\n"
          ]
        },
        {
          "output_type": "execute_result",
          "data": {
            "application/vnd.google.colaboratory.intrinsic+json": {
              "type": "string"
            },
            "text/plain": [
              "'1010'"
            ]
          },
          "metadata": {},
          "execution_count": 90
        }
      ]
    },
    {
      "cell_type": "code",
      "metadata": {
        "id": "KOUEq-E4QvOm"
      },
      "source": [
        ""
      ],
      "execution_count": null,
      "outputs": []
    },
    {
      "cell_type": "markdown",
      "metadata": {
        "id": "IPQcrL5NRAxn"
      },
      "source": [
        "14. Write a program that accepts a sentence and calculate the number of upper case letters and lower case letters.\n",
        "\n",
        "  Suppose the following input is supplied to the program:\n",
        "\n",
        "  Hello world!\n",
        "\n",
        "  Then, the output should be:\n",
        "\n",
        "  UPPER CASE 1\n",
        "\n",
        "  LOWER CASE 9"
      ]
    },
    {
      "cell_type": "code",
      "metadata": {
        "colab": {
          "base_uri": "https://localhost:8080/",
          "height": 53
        },
        "id": "CndR392mRKSq",
        "outputId": "8bcd4289-1fa5-4724-868d-090909769098"
      },
      "source": [
        "def check_letters():\n",
        "  lower_word=0\n",
        "  upper_word=0\n",
        "  word_seq = input(\"Enter the sentence: \").strip()\n",
        "  for w in word_seq:\n",
        "    if w.isupper():\n",
        "      upper_word += 1\n",
        "    elif w.islower():\n",
        "      lower_word += 1\n",
        "\n",
        "  return f\"UPPER CASE: {upper_word}  LOWER CASE: {lower_word}\"\n",
        "\n",
        "check_letters()"
      ],
      "execution_count": 91,
      "outputs": [
        {
          "name": "stdout",
          "output_type": "stream",
          "text": [
            "Enter the sentence: Hello world!\n"
          ]
        },
        {
          "output_type": "execute_result",
          "data": {
            "application/vnd.google.colaboratory.intrinsic+json": {
              "type": "string"
            },
            "text/plain": [
              "'UPPER CASE: 1  LOWER CASE: 9'"
            ]
          },
          "metadata": {},
          "execution_count": 91
        }
      ]
    },
    {
      "cell_type": "code",
      "metadata": {
        "id": "j_jFA7uSSJxM"
      },
      "source": [
        ""
      ],
      "execution_count": null,
      "outputs": []
    },
    {
      "cell_type": "markdown",
      "metadata": {
        "id": "8-8t8N-1SNuU"
      },
      "source": [
        "15. Give example of fsum and sum function of math library."
      ]
    },
    {
      "cell_type": "code",
      "metadata": {
        "colab": {
          "base_uri": "https://localhost:8080/"
        },
        "id": "0P74X8N9SPuF",
        "outputId": "f274cb05-537a-4a9a-e069-66716dc63e40"
      },
      "source": [
        "numbers = [1,2,3,4,5,1,4,5]\n",
        "sum(numbers)"
      ],
      "execution_count": 102,
      "outputs": [
        {
          "output_type": "execute_result",
          "data": {
            "text/plain": [
              "25"
            ]
          },
          "metadata": {},
          "execution_count": 102
        }
      ]
    },
    {
      "cell_type": "code",
      "metadata": {
        "colab": {
          "base_uri": "https://localhost:8080/"
        },
        "id": "SmSwGc4bTATz",
        "outputId": "ae145c8a-7efd-4f5e-a6e3-76d3e3bbe41c"
      },
      "source": [
        "\n",
        "math.fsum(numbers)"
      ],
      "execution_count": 103,
      "outputs": [
        {
          "output_type": "execute_result",
          "data": {
            "text/plain": [
              "25.0"
            ]
          },
          "metadata": {},
          "execution_count": 103
        }
      ]
    },
    {
      "cell_type": "code",
      "metadata": {
        "id": "8s__NdDTTD2D"
      },
      "source": [
        ""
      ],
      "execution_count": null,
      "outputs": []
    }
  ]
}