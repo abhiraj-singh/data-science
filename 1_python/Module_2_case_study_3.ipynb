{
  "nbformat": 4,
  "nbformat_minor": 0,
  "metadata": {
    "colab": {
      "name": "Module_2_case_study_3.ipynb",
      "provenance": [],
      "collapsed_sections": []
    },
    "kernelspec": {
      "name": "python3",
      "display_name": "Python 3"
    },
    "language_info": {
      "name": "python"
    }
  },
  "cells": [
    {
      "cell_type": "code",
      "metadata": {
        "id": "UfWW2SsC4ZzZ"
      },
      "source": [
        "import hashlib\n",
        "import re"
      ],
      "execution_count": null,
      "outputs": []
    },
    {
      "cell_type": "code",
      "metadata": {
        "id": "_PmzA-7K78fK"
      },
      "source": [
        "class Telecom():\n",
        "  __user_ref_id={}\n",
        "\n",
        "  ## to add a user\n",
        "  def add_user(self):\n",
        "    ref_id = input(\"Enter 12 charater Reference Id: \")\n",
        "\n",
        "    check_ref = self.__verify_ref_id(ref_id)\n",
        "\n",
        "    if check_ref[0]:\n",
        "      enc_ref_id = self.__get_encryption(ref_id)\n",
        "      if enc_ref_id in self.__user_ref_id:\n",
        "        if self.__user_ref_id[enc_ref_id][0] == ref_id:\n",
        "          return \"Reference Id Already exists\"\n",
        "      else:\n",
        "        self.__user_ref_id[enc_ref_id] = [ref_id,None] ## 'None' can be use later on to store fingerprint id\n",
        "        return f\"Reference Id record is created, New Cross Reference Id = {enc_ref_id}\"\n",
        "    else:\n",
        "      return check_ref[1]\n",
        "\n",
        "  ## Function to verify reference id\n",
        "  def __verify_ref_id(self,ref_id):\n",
        "\n",
        "    if len(ref_id) != 12:\n",
        "      return (False,\"Reference Id should be 12 characters with no special characters\")\n",
        "    \n",
        "    ref = re.findall(r\"\\w\",ref_id)\n",
        "\n",
        "    if len(ref) != 12:\n",
        "      return (False,\"Reference Id contains special characters. It should be characters or digits\")\n",
        "    \n",
        "    return (True,None)\n",
        "  \n",
        "  ## Get encrytpted has value\n",
        "  def __get_encryption(self,ref_id):\n",
        "    return hashlib.sha224(ref_id.encode(\"utf-8\")).hexdigest()\n",
        "\n",
        "  ## Verify if user id exists\n",
        "  def verify_user(self):\n",
        "    ref_id = input(\"Enter 12 charater Reference Id for verification: \")\n",
        "    check_ref = self.__verify_ref_id(ref_id) \n",
        "    if check_ref[0]:\n",
        "      enc_ref_id = self.__get_encryption(ref_id)\n",
        "      if enc_ref_id in self.__user_ref_id:\n",
        "        return f\"Reference Id exists. Cross Reference Id = {enc_ref_id}\"\n",
        "      else:\n",
        "        return \"Reference Id does not exists\" \n",
        "    else:\n",
        "      return check_ref[1]\n",
        "  \n",
        "  def verify_cross_reference_number(self):\n",
        "    cross_ref_id = input(\"Enter Cross Reference Id for verification: \")\n",
        "    if cross_ref_id in self.__user_ref_id:\n",
        "      return f\"Reference Id is {self.__user_ref_id[cross_ref_id][0]}\"\n",
        "    else:\n",
        "      return \"Cross Reference Id doesnot exist\"\n"
      ],
      "execution_count": 51,
      "outputs": []
    },
    {
      "cell_type": "code",
      "metadata": {
        "id": "O9n7dojRH2NZ"
      },
      "source": [
        "lt = Telecom()"
      ],
      "execution_count": 52,
      "outputs": []
    },
    {
      "cell_type": "code",
      "metadata": {
        "colab": {
          "base_uri": "https://localhost:8080/",
          "height": 53
        },
        "id": "vPhiP3R-IAI9",
        "outputId": "c178e626-9aff-475e-c82d-fa7b5def5de9"
      },
      "source": [
        "## Verufing if a Reference Id exists\n",
        "lt.verify_user()"
      ],
      "execution_count": 53,
      "outputs": [
        {
          "name": "stdout",
          "output_type": "stream",
          "text": [
            "Enter 12 charater Reference Id for verification: abcd123\n"
          ]
        },
        {
          "output_type": "execute_result",
          "data": {
            "application/vnd.google.colaboratory.intrinsic+json": {
              "type": "string"
            },
            "text/plain": [
              "'Reference Id should be 12 characters with no special characters'"
            ]
          },
          "metadata": {},
          "execution_count": 53
        }
      ]
    },
    {
      "cell_type": "code",
      "metadata": {
        "colab": {
          "base_uri": "https://localhost:8080/",
          "height": 53
        },
        "id": "hL4kJT3xLeq7",
        "outputId": "f8c7ab1c-3713-4e80-d90e-a0696bbbe371"
      },
      "source": [
        "## Verufing if a Reference Id exists\n",
        "lt.verify_user()"
      ],
      "execution_count": 54,
      "outputs": [
        {
          "name": "stdout",
          "output_type": "stream",
          "text": [
            "Enter 12 charater Reference Id for verification: abcd@1234\n"
          ]
        },
        {
          "output_type": "execute_result",
          "data": {
            "application/vnd.google.colaboratory.intrinsic+json": {
              "type": "string"
            },
            "text/plain": [
              "'Reference Id should be 12 characters with no special characters'"
            ]
          },
          "metadata": {},
          "execution_count": 54
        }
      ]
    },
    {
      "cell_type": "code",
      "metadata": {
        "colab": {
          "base_uri": "https://localhost:8080/",
          "height": 53
        },
        "id": "R6i0CKT-IAO5",
        "outputId": "f0b420c1-7d01-48d6-e207-970a6414590a"
      },
      "source": [
        "## Verufing if a Reference Id exists\n",
        "lt.verify_user()"
      ],
      "execution_count": 55,
      "outputs": [
        {
          "name": "stdout",
          "output_type": "stream",
          "text": [
            "Enter 12 charater Reference Id for verification: abcdefghijkl\n"
          ]
        },
        {
          "output_type": "execute_result",
          "data": {
            "application/vnd.google.colaboratory.intrinsic+json": {
              "type": "string"
            },
            "text/plain": [
              "'Reference Id does not exists'"
            ]
          },
          "metadata": {},
          "execution_count": 55
        }
      ]
    },
    {
      "cell_type": "code",
      "metadata": {
        "colab": {
          "base_uri": "https://localhost:8080/",
          "height": 53
        },
        "id": "zcrl6pdXIhLH",
        "outputId": "6a9c37cc-1656-46b3-8bb9-fe80c226848e"
      },
      "source": [
        "## Adding a reference Id in system\n",
        "lt.add_user()"
      ],
      "execution_count": 56,
      "outputs": [
        {
          "name": "stdout",
          "output_type": "stream",
          "text": [
            "Enter 12 charater Reference Id: abcdefghijkl\n"
          ]
        },
        {
          "output_type": "execute_result",
          "data": {
            "application/vnd.google.colaboratory.intrinsic+json": {
              "type": "string"
            },
            "text/plain": [
              "'Reference Id record is created, New Cross Reference Id = 0c99b06967bf1b9fad345a843fcc040ca9cea17006b8e2bf54cc4239'"
            ]
          },
          "metadata": {},
          "execution_count": 56
        }
      ]
    },
    {
      "cell_type": "code",
      "metadata": {
        "colab": {
          "base_uri": "https://localhost:8080/",
          "height": 53
        },
        "id": "ip8ltmAUIhN5",
        "outputId": "e73519f0-1c6f-49f3-ea09-a904ce2f0d49"
      },
      "source": [
        "## Verifying if a reference id exists\n",
        "lt.verify_user()"
      ],
      "execution_count": 59,
      "outputs": [
        {
          "name": "stdout",
          "output_type": "stream",
          "text": [
            "Enter 12 charater Reference Id for verification: abcdefghijkl\n"
          ]
        },
        {
          "output_type": "execute_result",
          "data": {
            "application/vnd.google.colaboratory.intrinsic+json": {
              "type": "string"
            },
            "text/plain": [
              "'Reference Id exists. Cross Reference Id = 0c99b06967bf1b9fad345a843fcc040ca9cea17006b8e2bf54cc4239'"
            ]
          },
          "metadata": {},
          "execution_count": 59
        }
      ]
    },
    {
      "cell_type": "code",
      "metadata": {
        "colab": {
          "base_uri": "https://localhost:8080/",
          "height": 53
        },
        "id": "ZNrm3rgEIhQS",
        "outputId": "b708d238-d251-4edf-da52-d490ea36d235"
      },
      "source": [
        "## Giving facility to get Referecne Id if they have excrytped cross reference number\n",
        "lt.verify_cross_reference_number()"
      ],
      "execution_count": 61,
      "outputs": [
        {
          "name": "stdout",
          "output_type": "stream",
          "text": [
            "Enter Cross Reference Id for verification: 0c99b06967bf1b9fad345a843fcc040ca9cea17006b8e2bf54cc4239\n"
          ]
        },
        {
          "output_type": "execute_result",
          "data": {
            "application/vnd.google.colaboratory.intrinsic+json": {
              "type": "string"
            },
            "text/plain": [
              "'Reference Id is abcdefghijkl'"
            ]
          },
          "metadata": {},
          "execution_count": 61
        }
      ]
    },
    {
      "cell_type": "code",
      "metadata": {
        "colab": {
          "base_uri": "https://localhost:8080/",
          "height": 53
        },
        "id": "BCzJs0seIhSc",
        "outputId": "e3d13412-7470-41e7-ebaa-4e242528d175"
      },
      "source": [
        "## Giving facility to get Referecne Id if they have excrytped cross reference number\n",
        "lt.verify_cross_reference_number()"
      ],
      "execution_count": 63,
      "outputs": [
        {
          "name": "stdout",
          "output_type": "stream",
          "text": [
            "Enter Cross Reference Id for verification: abcdefghijkl\n"
          ]
        },
        {
          "output_type": "execute_result",
          "data": {
            "application/vnd.google.colaboratory.intrinsic+json": {
              "type": "string"
            },
            "text/plain": [
              "'Cross Reference Id doesnot exist'"
            ]
          },
          "metadata": {},
          "execution_count": 63
        }
      ]
    },
    {
      "cell_type": "code",
      "metadata": {
        "id": "SBnaTGXzDAx7"
      },
      "source": [
        ""
      ],
      "execution_count": null,
      "outputs": []
    }
  ]
}