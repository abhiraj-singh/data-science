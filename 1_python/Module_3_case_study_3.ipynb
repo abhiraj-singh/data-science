{
 "cells": [
  {
   "cell_type": "markdown",
   "metadata": {},
   "source": [
    "# Domain – E-Commerce"
   ]
  },
  {
   "cell_type": "code",
   "execution_count": 39,
   "metadata": {},
   "outputs": [],
   "source": [
    "## importing Libraries\n",
    "import re"
   ]
  },
  {
   "cell_type": "code",
   "execution_count": 64,
   "metadata": {},
   "outputs": [],
   "source": [
    "class Customer():\n",
    "    \n",
    "    def __init__(self,title,first_name,last_name,status):\n",
    "        self.title = title\n",
    "        self.firstname=first_name\n",
    "        self.lastname=last_name\n",
    "        self.status=status\n",
    "    \n",
    "    def get_customer_details(self):\n",
    "        return (self.title,self.firstname,self.lastname)\n",
    "\n",
    "    def get_customer_status(self):\n",
    "        return self.status\n",
    "    \n",
    "    def set_customer_status(self,status):\n",
    "        self.status = status\n",
    "    "
   ]
  },
  {
   "cell_type": "code",
   "execution_count": 92,
   "metadata": {},
   "outputs": [
    {
     "name": "stdout",
     "output_type": "stream",
     "text": [
      "Customer is Blacklisted. No order can be initiated\n"
     ]
    }
   ],
   "source": [
    "class CustomerNotAllowedException(Exception):\n",
    "    pass"
   ]
  },
  {
   "cell_type": "code",
   "execution_count": 65,
   "metadata": {},
   "outputs": [],
   "source": [
    "global_next_id = 0\n",
    "class Order():\n",
    "    def __init__(self,order_name):\n",
    "        self.ordername=order_name\n",
    "        global global_next_id\n",
    "        global_next_id += 1\n",
    "        self.id = global_next_id\n",
    "        \n",
    "    \n",
    "    def get_order_id(self):\n",
    "        return self.id\n",
    "    \n",
    "    def order_details(self):\n",
    "        return (self.id,self.ordername)"
   ]
  },
  {
   "cell_type": "code",
   "execution_count": 66,
   "metadata": {},
   "outputs": [],
   "source": [
    "## Function to load fairdeal customer data\n",
    "\n",
    "file_name=r\"./datasets/FairDealCustomerData.csv\"\n",
    "\n",
    "def load_customer(filename):\n",
    "    out_list=[]\n",
    "    TITLE = r\"(?:[A-Z][a-z]*\\.\\s*)?\"\n",
    "    with open(filename) as file:\n",
    "        lines = file.readlines()\n",
    "        for line in lines:\n",
    "            data = line.split(\",\")\n",
    "            data[2]= data[2].replace('\\n','')\n",
    "            title= re.findall(TITLE,data[1].strip())[0].strip()\n",
    "            first_name= data[1][data[1].find(\".\")+1:].strip()\n",
    "            last_name= data[0].strip()\n",
    "            \n",
    "            ##print((title,first_name,last_name,int(data[2].strip())))\n",
    "            \n",
    "            c = Customer(title,first_name,last_name,int(data[2].strip()))\n",
    "            \n",
    "            out_list.append(c)\n",
    "    \n",
    "    return out_list\n",
    "#load_customer(file_name)"
   ]
  },
  {
   "cell_type": "code",
   "execution_count": 67,
   "metadata": {},
   "outputs": [],
   "source": [
    "customer_list = load_customer(file_name)"
   ]
  },
  {
   "cell_type": "code",
   "execution_count": 111,
   "metadata": {},
   "outputs": [],
   "source": [
    "## Function to create an order\n",
    "\n",
    "def createOrder(customer_list):\n",
    "    user_input=input(\"Enter Customer Name: \")\n",
    "    customer_name = user_input[user_input.find(\".\")+1:].strip().lower()\n",
    "    check = True\n",
    "    \n",
    "    for cust in customer_list:\n",
    "        cust_details = cust.get_customer_details()\n",
    "        #print(cust_details)\n",
    "        cust_name = cust_details[1:]\n",
    "        #print(cust_name)\n",
    "        \n",
    "        if cust_details[1].lower() in customer_name and cust_details[2].lower() in customer_name.lower():\n",
    "            print(f\"Customer {user_input} is Present\")\n",
    "            check= False\n",
    "            try:\n",
    "                if cust.get_customer_status() == 1:\n",
    "                    raise CustomerNotAllowedException\n",
    "                else:\n",
    "                    print(\"Initiating the order\")\n",
    "                    order = Order(customer_name.title())\n",
    "                    o = order.order_details()\n",
    "                    print(f\"Order created with Order Id: {o[0]} and Order Name: {o[1]}\")\n",
    "                    \n",
    "                    \n",
    "            except CustomerNotAllowedException:\n",
    "                print(\"ERROR: Customer is Blacklisted. No order can be initiated.\")\n",
    "                print()\n",
    "        \n",
    "        #break\n",
    "    \n",
    "    if check:\n",
    "        print(\"Customer not found in database\")\n",
    "    "
   ]
  },
  {
   "cell_type": "code",
   "execution_count": 114,
   "metadata": {},
   "outputs": [
    {
     "name": "stdout",
     "output_type": "stream",
     "text": [
      "Do you want to place another oder(YES or NO) :YES\n",
      "Enter Customer Name: Mr. James  Moran\n",
      "Customer Mr. James  Moran is Present\n",
      "Initiating the order\n",
      "Order created with Order Id: 5 and Order Name: James  Moran\n",
      "**************************\n",
      "\n",
      "Do you want to place another oder(YES or NO) :YES\n",
      "Enter Customer Name: Mr. Joseph J  Fynney\n",
      "Customer Mr. Joseph J  Fynney is Present\n",
      "Initiating the order\n",
      "Order created with Order Id: 6 and Order Name: Joseph J  Fynney\n",
      "**************************\n",
      "\n",
      "Do you want to place another oder(YES or NO) :YES\n",
      "Enter Customer Name: Mr. Owen Harris Braund\n",
      "Customer Mr. Owen Harris Braund is Present\n",
      "ERROR: Customer is Blacklisted. No order can be initiated.\n",
      "\n",
      "**************************\n",
      "\n",
      "Do you want to place another oder(YES or NO) :No\n",
      "\n"
     ]
    }
   ],
   "source": [
    "#Mr. Owen Harris Braund\n",
    "#Mr. James  Moran\n",
    "#Mr. Joseph J  Fynney\n",
    "\n",
    "\n",
    "## Statmement to place orders\n",
    "while True:\n",
    "    user = input(\"Do you want to place another oder(YES or NO) :\").strip().upper()\n",
    "    if user == \"NO\":\n",
    "        print()\n",
    "        break\n",
    "    else:\n",
    "        createOrder(customer_list)\n",
    "        print(\"**************************\")\n",
    "        print()\n"
   ]
  },
  {
   "cell_type": "code",
   "execution_count": null,
   "metadata": {},
   "outputs": [],
   "source": []
  },
  {
   "cell_type": "code",
   "execution_count": null,
   "metadata": {},
   "outputs": [],
   "source": []
  }
 ],
 "metadata": {
  "kernelspec": {
   "display_name": "Python 3",
   "language": "python",
   "name": "python3"
  },
  "language_info": {
   "codemirror_mode": {
    "name": "ipython",
    "version": 3
   },
   "file_extension": ".py",
   "mimetype": "text/x-python",
   "name": "python",
   "nbconvert_exporter": "python",
   "pygments_lexer": "ipython3",
   "version": "3.7.6"
  }
 },
 "nbformat": 4,
 "nbformat_minor": 4
}
