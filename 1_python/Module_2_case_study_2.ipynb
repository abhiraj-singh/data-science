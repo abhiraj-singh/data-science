{
  "nbformat": 4,
  "nbformat_minor": 0,
  "metadata": {
    "colab": {
      "name": "Module_2_case_study_2.ipynb",
      "provenance": []
    },
    "kernelspec": {
      "name": "python3",
      "display_name": "Python 3"
    },
    "language_info": {
      "name": "python"
    }
  },
  "cells": [
    {
      "cell_type": "markdown",
      "metadata": {
        "id": "zwOj8qOFgzAl"
      },
      "source": [
        "1. What is the output of the following code? nums = set([1,1,2,3,3,3,4,4]) print(len(nums))\n",
        "Hint: Set consists unique element.\n",
        "\n",
        "**Answer: 4**\n",
        "\n",
        "2. What will be the output? d = {\"john\":40, \"peter\":45} print(list(d.keys())) Hint: d.keys() is the function which will show keys.\n",
        "\n",
        "**Answer: ['john','peter']**\n"
      ]
    },
    {
      "cell_type": "markdown",
      "metadata": {
        "id": "DujUW5pfhL93"
      },
      "source": [
        "3. A website requires a user to input username and password to register. Write a program to check the validity of password given by user. Following are the criteria for checking password:\n",
        "\n",
        "      a. At least 1 letter between [a-z]\n",
        "\n",
        "      b. At least 1 number between [0-9]\n",
        "\n",
        "      c. At least 1 letter between [A-Z]\n",
        "\n",
        "      d At least 1 character from [$#@]\n",
        "\n",
        "      e. Minimum length of transaction password: 6\n",
        "\n",
        "      f. Maximum length of transaction password: 12\n",
        "\n",
        "Hint: In case of input data being supplied to the question, it should be assumed to be a console input."
      ]
    },
    {
      "cell_type": "code",
      "metadata": {
        "id": "gEZTJjrbi_Ue"
      },
      "source": [
        "import re"
      ],
      "execution_count": 4,
      "outputs": []
    },
    {
      "cell_type": "code",
      "metadata": {
        "colab": {
          "base_uri": "https://localhost:8080/",
          "height": 53
        },
        "id": "Ef4JugSUhM1u",
        "outputId": "64157fe6-8530-4b1f-b778-74aaa971f558"
      },
      "source": [
        "passwd = input(\"Enter your password: \")\n",
        "def check_pass(passwd):\n",
        "  if len(passwd) < 6 or len(passwd) > 12:\n",
        "    return \"Enter password of minimum 6 and maximum 12 characters\"\n",
        "\n",
        "  char_check_list=['$','#','@']\n",
        "\n",
        "  num = re.findall('[0-9]+', passwd)\n",
        "  if not num:\n",
        "    return \"Atleast 1 number is required in password\"\n",
        "  \n",
        "  lower_char = re.findall('[a-z]+', passwd)\n",
        "  if not lower_char:\n",
        "    return \"At least 1 letter between [a-z] is required in password\"\n",
        "  \n",
        "  upper_char = re.findall('[A-Z]+', passwd)\n",
        "  if not upper_char:\n",
        "    return \"At least 1 letter between [A-Z] is required in password\"\n",
        "\n",
        "  special_char = re.findall(r\"\\W\",passwd)\n",
        "  check = True\n",
        "  for c in special_char:\n",
        "    \n",
        "    if c in char_check_list:\n",
        "      check = False\n",
        "      break\n",
        "  \n",
        "  if check:\n",
        "    return \"At least 1 character from [$ # @] is required in password\"\n",
        "\n",
        "  return \"Password validation is successful\"\n",
        "\n",
        "check_pass(passwd)"
      ],
      "execution_count": 40,
      "outputs": [
        {
          "name": "stdout",
          "output_type": "stream",
          "text": [
            "Enter your password: Harry@34\n"
          ]
        },
        {
          "output_type": "execute_result",
          "data": {
            "application/vnd.google.colaboratory.intrinsic+json": {
              "type": "string"
            },
            "text/plain": [
              "'Password validation is successful'"
            ]
          },
          "metadata": {},
          "execution_count": 40
        }
      ]
    },
    {
      "cell_type": "code",
      "metadata": {
        "id": "OXhOFc0Un10R"
      },
      "source": [
        ""
      ],
      "execution_count": null,
      "outputs": []
    },
    {
      "cell_type": "markdown",
      "metadata": {
        "id": "0TNtDMI9pjzB"
      },
      "source": [
        "4. Write a for loop that prints all elements of a list and their position in the list.\n",
        "\n",
        "  a = [4,7,3,2,5,9]\n",
        "\n",
        "  Hint: Use Loop to iterate through list elements."
      ]
    },
    {
      "cell_type": "code",
      "metadata": {
        "colab": {
          "base_uri": "https://localhost:8080/"
        },
        "id": "4L9uRWLPprvw",
        "outputId": "362b0156-58f9-44ff-8a20-3d3e07bd9468"
      },
      "source": [
        "a = [4,7,3,2,5,9]\n",
        "for pos,num in enumerate(a):\n",
        "  print(f\"Position = {pos} and Number = {num}\")"
      ],
      "execution_count": 42,
      "outputs": [
        {
          "output_type": "stream",
          "name": "stdout",
          "text": [
            "Position = 0 and Number = 4\n",
            "Position = 1 and Number = 7\n",
            "Position = 2 and Number = 3\n",
            "Position = 3 and Number = 2\n",
            "Position = 4 and Number = 5\n",
            "Position = 5 and Number = 9\n"
          ]
        }
      ]
    },
    {
      "cell_type": "code",
      "metadata": {
        "id": "1phF04Q5qmji"
      },
      "source": [
        ""
      ],
      "execution_count": null,
      "outputs": []
    },
    {
      "cell_type": "markdown",
      "metadata": {
        "id": "mYqgXqH5qgeh"
      },
      "source": [
        "5. Please write a program which accepts a string from console and print the characters that have even indexes.\n",
        "\n",
        "  Example: If the following string is given as input to the program:\n",
        "  \n",
        "  H1e2l3l4o5w6o7r8l9d\n",
        "  \n",
        "  Then, the output of the program should be:\n",
        "  \n",
        "  Helloworld"
      ]
    },
    {
      "cell_type": "code",
      "metadata": {
        "colab": {
          "base_uri": "https://localhost:8080/"
        },
        "id": "5N5homwrqjJo",
        "outputId": "d4e59c5a-d2a0-449f-bb44-051024eb1d1d"
      },
      "source": [
        "word = input(\"Enter your word: \")\n",
        "#word = \"H1e2l3l4o5w6o7r8l9d\"\n",
        "l = len(word)\n",
        "i = 0 \n",
        "final_word = \"\"\n",
        "\n",
        "while i < l:\n",
        "  final_word += word[i]\n",
        "  i+=2\n",
        "\n",
        "print(final_word)\n"
      ],
      "execution_count": 45,
      "outputs": [
        {
          "output_type": "stream",
          "name": "stdout",
          "text": [
            "Enter your word: H1e2l3l4o5w6o7r8l9d\n",
            "Helloworld\n"
          ]
        }
      ]
    },
    {
      "cell_type": "code",
      "metadata": {
        "id": "arLR1mZVrWxc"
      },
      "source": [
        ""
      ],
      "execution_count": null,
      "outputs": []
    },
    {
      "cell_type": "markdown",
      "metadata": {
        "id": "8HVNVQiHrlSu"
      },
      "source": [
        "6. Please write a program which accepts a string from console and print it in reverse order.\n",
        "\n",
        "    Example: If the following string is given as input to the program:\n",
        "\n",
        "    rise to vote sir\n",
        "\n",
        "    Then, the output of the program should be:\n",
        "\n",
        "    ris etov ot esir"
      ]
    },
    {
      "cell_type": "code",
      "metadata": {
        "colab": {
          "base_uri": "https://localhost:8080/"
        },
        "id": "TNE5A4DCrrXO",
        "outputId": "2d84333c-8466-467e-8463-f3f28d226758"
      },
      "source": [
        "word = input(\"Enter your word: \")\n",
        "#word = \"rise to vote sir\"\n",
        "print(word[::-1])"
      ],
      "execution_count": 46,
      "outputs": [
        {
          "output_type": "stream",
          "name": "stdout",
          "text": [
            "ris etov ot esir\n"
          ]
        }
      ]
    },
    {
      "cell_type": "code",
      "metadata": {
        "id": "VJ4CDfJ_r3_b"
      },
      "source": [
        ""
      ],
      "execution_count": null,
      "outputs": []
    },
    {
      "cell_type": "markdown",
      "metadata": {
        "id": "GNDdggAesNga"
      },
      "source": [
        "7. Please write a program which count and print the numbers of each character in a string input by console.\n",
        "\n",
        "  Example: If the following string is given as input to the program:\n",
        "\n",
        "  abcdefgabc\n",
        "\n",
        "  Then, the output of the program should be:\n",
        "\n",
        "  a,2\n",
        "\n",
        "  c,2\n",
        "\n",
        "  b,2\n",
        "\n",
        "  e,1\n",
        "\n",
        "  d,1\n",
        "\n",
        "  g,1\n",
        "\n",
        "  f,1"
      ]
    },
    {
      "cell_type": "code",
      "metadata": {
        "colab": {
          "base_uri": "https://localhost:8080/"
        },
        "id": "B1vEm6hQsMW8",
        "outputId": "127ed47e-c158-4d03-e2ee-3fecf3e8dfe2"
      },
      "source": [
        "word = input(\"Enter your word: \")\n",
        "#word = \"abcdefgabc\"\n",
        "\n",
        "def word_count(word):\n",
        "  d = {}\n",
        "  for w in word:\n",
        "    if w in d:\n",
        "      d[w] += 1\n",
        "    else:\n",
        "      d[w] = 1\n",
        "  \n",
        "  for k,v in d.items():\n",
        "    print(f\"{k},{v}\")\n",
        "\n",
        "word_count(word)"
      ],
      "execution_count": 52,
      "outputs": [
        {
          "output_type": "stream",
          "name": "stdout",
          "text": [
            "a,2\n",
            "b,2\n",
            "c,2\n",
            "d,1\n",
            "e,1\n",
            "f,1\n",
            "g,1\n"
          ]
        }
      ]
    },
    {
      "cell_type": "code",
      "metadata": {
        "id": "zDOT3j7euAmZ"
      },
      "source": [
        ""
      ],
      "execution_count": null,
      "outputs": []
    },
    {
      "cell_type": "markdown",
      "metadata": {
        "id": "0NuezWO0uf_G"
      },
      "source": [
        "8. With two given lists [1,3,6,78,35,55] and [12,24,35,24,88,120,155], write a program to make a list whose elements are intersection of the above given lists."
      ]
    },
    {
      "cell_type": "code",
      "metadata": {
        "colab": {
          "base_uri": "https://localhost:8080/"
        },
        "id": "7y4Eh-xyuqXX",
        "outputId": "f8a59e6e-1038-4699-bb02-0f1d65a9c46a"
      },
      "source": [
        "a = [1,3,6,78,35,55]\n",
        "b = [12,24,35,24,88,120,155]\n",
        "\n",
        "def list_intersection(a,b):\n",
        "  x = set(a)\n",
        "  y = set(b)\n",
        "  z = x.intersection(y)\n",
        "  print(list(z))\n",
        "\n",
        "list_intersection(a,b)"
      ],
      "execution_count": 55,
      "outputs": [
        {
          "output_type": "stream",
          "name": "stdout",
          "text": [
            "[35]\n"
          ]
        }
      ]
    },
    {
      "cell_type": "code",
      "metadata": {
        "id": "-YBpTmqKvDsg"
      },
      "source": [
        ""
      ],
      "execution_count": null,
      "outputs": []
    },
    {
      "cell_type": "markdown",
      "metadata": {
        "id": "Be9qODVdve2O"
      },
      "source": [
        "9. By using list comprehension, please write a program to print the list after removing the value 24 in [12,24,35,24,88,120,155]."
      ]
    },
    {
      "cell_type": "code",
      "metadata": {
        "colab": {
          "base_uri": "https://localhost:8080/"
        },
        "id": "WnyJZigDvfzf",
        "outputId": "17d7593e-0905-466e-b4f6-dcff69486a75"
      },
      "source": [
        "a = [12,24,35,24,88,120,155]\n",
        "[x for x in a if x != 24]"
      ],
      "execution_count": 56,
      "outputs": [
        {
          "output_type": "execute_result",
          "data": {
            "text/plain": [
              "[12, 35, 88, 120, 155]"
            ]
          },
          "metadata": {},
          "execution_count": 56
        }
      ]
    },
    {
      "cell_type": "code",
      "metadata": {
        "id": "lKWOC1sovnBe"
      },
      "source": [
        ""
      ],
      "execution_count": null,
      "outputs": []
    },
    {
      "cell_type": "markdown",
      "metadata": {
        "id": "TZSQKnyIvqZL"
      },
      "source": [
        "10. By using list comprehension, please write a program to print the list after removing the 0th,4th,5th numbers in [12,24,35,70,88,120,155]."
      ]
    },
    {
      "cell_type": "code",
      "metadata": {
        "colab": {
          "base_uri": "https://localhost:8080/"
        },
        "id": "xi70jPosvtiy",
        "outputId": "daae37b0-8574-46d2-e551-50141ffbdf8f"
      },
      "source": [
        "a = [12,24,35,70,88,120,155]\n",
        "\n",
        "[y for x,y in enumerate(a) if x not in [0,4,5]]"
      ],
      "execution_count": 58,
      "outputs": [
        {
          "output_type": "execute_result",
          "data": {
            "text/plain": [
              "[24, 35, 70, 155]"
            ]
          },
          "metadata": {},
          "execution_count": 58
        }
      ]
    },
    {
      "cell_type": "code",
      "metadata": {
        "id": "AKYMuMQYwAuy"
      },
      "source": [
        ""
      ],
      "execution_count": null,
      "outputs": []
    },
    {
      "cell_type": "markdown",
      "metadata": {
        "id": "WAS7SLOcwNyl"
      },
      "source": [
        "11. By using list comprehension, please write a program to print the list after removing delete numbers which are divisible by 5 and 7 in [12,24,35,70,88,120,155]."
      ]
    },
    {
      "cell_type": "code",
      "metadata": {
        "colab": {
          "base_uri": "https://localhost:8080/"
        },
        "id": "PJp0AFPgwQlE",
        "outputId": "3a82890e-c65a-441e-9bf3-95fa75446142"
      },
      "source": [
        "a = [12,24,35,70,88,120,155]\n",
        "\n",
        "[x for x in a if x%5 != 0 and x%7 != 0]"
      ],
      "execution_count": 61,
      "outputs": [
        {
          "output_type": "execute_result",
          "data": {
            "text/plain": [
              "[12, 24, 88]"
            ]
          },
          "metadata": {},
          "execution_count": 61
        }
      ]
    },
    {
      "cell_type": "code",
      "metadata": {
        "id": "3caCqgeHwkc7"
      },
      "source": [
        ""
      ],
      "execution_count": null,
      "outputs": []
    },
    {
      "cell_type": "markdown",
      "metadata": {
        "id": "3wGV2Bgaxd2k"
      },
      "source": [
        "12. Write a program to compute 1/2+2/3+3/4+...+n/n+1 with a given n input by console (n>0).\n",
        "\n",
        "    Example:\n",
        "\n",
        "    If the following n is given as input to the program:\n",
        "\n",
        "    5\n",
        "\n",
        "    Then, the output of the program should be:\n",
        "\n",
        "    3.55"
      ]
    },
    {
      "cell_type": "code",
      "metadata": {
        "colab": {
          "base_uri": "https://localhost:8080/"
        },
        "id": "T_egSoFax2hp",
        "outputId": "08c17e5b-c754-4b31-971a-89384cc6ff89"
      },
      "source": [
        "num = int(input(\"Enter a number : \"))\n",
        "#num = 5\n",
        "i = 1\n",
        "sum = 0\n",
        "while i <= num:\n",
        "  sum += i/(i+1)\n",
        "  i += 1\n",
        "\n",
        "print(f\"Output = {sum:.2f}\")"
      ],
      "execution_count": 68,
      "outputs": [
        {
          "output_type": "stream",
          "name": "stdout",
          "text": [
            "Enter a number : 5\n",
            "Output = 3.55\n"
          ]
        }
      ]
    },
    {
      "cell_type": "code",
      "metadata": {
        "id": "LxA6k_zIyWuG"
      },
      "source": [
        ""
      ],
      "execution_count": null,
      "outputs": []
    }
  ]
}