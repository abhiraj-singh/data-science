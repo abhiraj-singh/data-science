{
  "nbformat": 4,
  "nbformat_minor": 0,
  "metadata": {
    "colab": {
      "name": "Module_2_case_study_1.ipynb",
      "provenance": []
    },
    "kernelspec": {
      "name": "python3",
      "display_name": "Python 3"
    },
    "language_info": {
      "name": "python"
    }
  },
  "cells": [
    {
      "cell_type": "code",
      "metadata": {
        "colab": {
          "base_uri": "https://localhost:8080/"
        },
        "id": "yW2k1VWkyOWj",
        "outputId": "18cb3c90-ab11-44c5-e7c0-564fdae63a3d"
      },
      "source": [
        "\"\"\"\n",
        "Write a program which will find factors of given number and find whether the factor is even or odd.\n",
        "Hint: Use Loop with if-else statements\n",
        "\"\"\"\n",
        "\n",
        "def find_factor(number : int):\n",
        "  if number < 1:\n",
        "    return -1\n",
        "  i=1\n",
        "  while i <= number:\n",
        "    if number%i == 0:\n",
        "      if i%2 == 0:\n",
        "        print(\"{} is Even\".format(i))\n",
        "      else:\n",
        "        print(\"{} is Odd\".format(i))\n",
        "    \n",
        "    i +=1\n",
        "\n",
        "\n",
        "find_factor(10)\n"
      ],
      "execution_count": null,
      "outputs": [
        {
          "output_type": "stream",
          "name": "stdout",
          "text": [
            "1 is Odd\n",
            "2 is Even\n",
            "5 is Odd\n",
            "10 is Even\n"
          ]
        }
      ]
    },
    {
      "cell_type": "code",
      "metadata": {
        "colab": {
          "base_uri": "https://localhost:8080/",
          "height": 103
        },
        "id": "svzSpCAHzzk5",
        "outputId": "6b5de152-6162-41ac-90dd-0ebe4491adeb"
      },
      "source": [
        "\"\"\"\n",
        "Write a program, which will find all the numbers between 1000 and 3000 (both included) such that each digit of a number is an even number. \n",
        "The numbers obtained should be printed in a comma separated sequence on a single line.\n",
        "Hint: In case of input data being supplied to the question, it should be assumed to be a console input. \n",
        "Divide each digit with 2 and verify is it even or not.\n",
        "\"\"\"\n",
        "\n",
        "def num_range():\n",
        "  start = 1000\n",
        "  end = 3000\n",
        "  s=\"\"\n",
        "  for num in range(start, end + 1):\n",
        "    ns = str(num)\n",
        "    #print(ns,ns[0],ns[1],ns[2],ns[3])\n",
        "    #print(int(ns[3])%2)\n",
        "    if int(ns[0])%2 == 0 and int(ns[1])%2 == 0 and int(ns[2])%2 == 0 and int(ns[3])%2 == 0:\n",
        "      s = s +\",\"+ ns\n",
        "  return s[1:]\n",
        "\n",
        "num_range()"
      ],
      "execution_count": null,
      "outputs": [
        {
          "output_type": "execute_result",
          "data": {
            "application/vnd.google.colaboratory.intrinsic+json": {
              "type": "string"
            },
            "text/plain": [
              "'2000,2002,2004,2006,2008,2020,2022,2024,2026,2028,2040,2042,2044,2046,2048,2060,2062,2064,2066,2068,2080,2082,2084,2086,2088,2200,2202,2204,2206,2208,2220,2222,2224,2226,2228,2240,2242,2244,2246,2248,2260,2262,2264,2266,2268,2280,2282,2284,2286,2288,2400,2402,2404,2406,2408,2420,2422,2424,2426,2428,2440,2442,2444,2446,2448,2460,2462,2464,2466,2468,2480,2482,2484,2486,2488,2600,2602,2604,2606,2608,2620,2622,2624,2626,2628,2640,2642,2644,2646,2648,2660,2662,2664,2666,2668,2680,2682,2684,2686,2688,2800,2802,2804,2806,2808,2820,2822,2824,2826,2828,2840,2842,2844,2846,2848,2860,2862,2864,2866,2868,2880,2882,2884,2886,2888'"
            ]
          },
          "metadata": {},
          "execution_count": 45
        }
      ]
    },
    {
      "cell_type": "code",
      "metadata": {
        "colab": {
          "base_uri": "https://localhost:8080/",
          "height": 35
        },
        "id": "DKpVnKi4-tdp",
        "outputId": "cb2db6f8-8651-4825-a56f-7d30390809dc"
      },
      "source": [
        "'''\n",
        "Write a program that accepts a sentence and calculate the number of letters and digits.\n",
        "Suppose if the entered string is: Python0325\n",
        "Then the output will be:\n",
        "LETTERS: 6\n",
        "DIGITS:4\n",
        "Hint: Use built-in functions of string.\n",
        "'''\n",
        "\n",
        "def check_sentence(word:str):\n",
        "  d = 0\n",
        "  w = 0\n",
        "  for i in word:\n",
        "    if i.isdigit():\n",
        "      d += 1 \n",
        "    elif i.isalpha():\n",
        "      w += 1\n",
        "\n",
        "  return \"LETTERS : {} & DIGITS : {}\".format(str(w),str(d))\n",
        "\n",
        "check_sentence(\"Taj123 Mahal90\")"
      ],
      "execution_count": null,
      "outputs": [
        {
          "output_type": "execute_result",
          "data": {
            "application/vnd.google.colaboratory.intrinsic+json": {
              "type": "string"
            },
            "text/plain": [
              "'LETTERS : 8 & DIGITS : 5'"
            ]
          },
          "metadata": {},
          "execution_count": 56
        }
      ]
    },
    {
      "cell_type": "code",
      "metadata": {
        "colab": {
          "base_uri": "https://localhost:8080/"
        },
        "id": "sJdmZbvyCjox",
        "outputId": "2b3f0e58-5335-4dc5-8ad9-1b48fa6666f7"
      },
      "source": [
        "\"\"\"\n",
        "Design a code which will find the given number is Palindrome number or not.\n",
        "Hint: Use built-in functions of string.\n",
        "\"\"\"\n",
        "\n",
        "def check_palindrome(num:int):\n",
        "  num = str(num)\n",
        "  if num[::] == num[::-1]:\n",
        "    return True \n",
        "  else: \n",
        "    return False\n",
        "\n",
        "print(check_palindrome(12321))\n",
        "print(check_palindrome(123))"
      ],
      "execution_count": null,
      "outputs": [
        {
          "output_type": "stream",
          "name": "stdout",
          "text": [
            "True\n",
            "False\n"
          ]
        }
      ]
    },
    {
      "cell_type": "code",
      "metadata": {
        "id": "W9odtKuvbaPz"
      },
      "source": [
        ""
      ],
      "execution_count": null,
      "outputs": []
    }
  ]
}