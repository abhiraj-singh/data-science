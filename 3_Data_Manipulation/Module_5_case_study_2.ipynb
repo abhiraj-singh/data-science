{
 "cells": [
  {
   "cell_type": "code",
   "execution_count": 40,
   "metadata": {},
   "outputs": [],
   "source": [
    "## Importing Libraries\n",
    "\n",
    "import numpy as np\n",
    "import pandas as pd\n",
    "import matplotlib.pyplot as plt\n",
    "import seaborn as sns"
   ]
  },
  {
   "cell_type": "markdown",
   "metadata": {},
   "source": [
    "### From the data provided on Hollywood movies:\n",
    "### 1. Find the highest rated movie in the “Quest” story type."
   ]
  },
  {
   "cell_type": "code",
   "execution_count": 2,
   "metadata": {},
   "outputs": [],
   "source": [
    "## Reading data from file into dataframe\n",
    "\n",
    "df_movies=pd.read_csv(r\"./datasets/HollywoodMovies.csv\")"
   ]
  },
  {
   "cell_type": "code",
   "execution_count": 3,
   "metadata": {},
   "outputs": [
    {
     "data": {
      "text/html": [
       "<div>\n",
       "<style scoped>\n",
       "    .dataframe tbody tr th:only-of-type {\n",
       "        vertical-align: middle;\n",
       "    }\n",
       "\n",
       "    .dataframe tbody tr th {\n",
       "        vertical-align: top;\n",
       "    }\n",
       "\n",
       "    .dataframe thead th {\n",
       "        text-align: right;\n",
       "    }\n",
       "</style>\n",
       "<table border=\"1\" class=\"dataframe\">\n",
       "  <thead>\n",
       "    <tr style=\"text-align: right;\">\n",
       "      <th></th>\n",
       "      <th>Movie</th>\n",
       "      <th>LeadStudio</th>\n",
       "      <th>RottenTomatoes</th>\n",
       "      <th>AudienceScore</th>\n",
       "      <th>Story</th>\n",
       "      <th>Genre</th>\n",
       "      <th>TheatersOpenWeek</th>\n",
       "      <th>OpeningWeekend</th>\n",
       "      <th>BOAvgOpenWeekend</th>\n",
       "      <th>DomesticGross</th>\n",
       "      <th>ForeignGross</th>\n",
       "      <th>WorldGross</th>\n",
       "      <th>Budget</th>\n",
       "      <th>Profitability</th>\n",
       "      <th>OpenProfit</th>\n",
       "      <th>Year</th>\n",
       "    </tr>\n",
       "  </thead>\n",
       "  <tbody>\n",
       "    <tr>\n",
       "      <th>0</th>\n",
       "      <td>Spider-Man 3</td>\n",
       "      <td>Sony</td>\n",
       "      <td>61.0</td>\n",
       "      <td>54.0</td>\n",
       "      <td>Metamorphosis</td>\n",
       "      <td>Action</td>\n",
       "      <td>4252.0</td>\n",
       "      <td>151.1</td>\n",
       "      <td>35540.0</td>\n",
       "      <td>336.53</td>\n",
       "      <td>554.34</td>\n",
       "      <td>890.87</td>\n",
       "      <td>258.0</td>\n",
       "      <td>345.30</td>\n",
       "      <td>58.57</td>\n",
       "      <td>2007</td>\n",
       "    </tr>\n",
       "    <tr>\n",
       "      <th>1</th>\n",
       "      <td>Shrek the Third</td>\n",
       "      <td>Paramount</td>\n",
       "      <td>42.0</td>\n",
       "      <td>57.0</td>\n",
       "      <td>Quest</td>\n",
       "      <td>Animation</td>\n",
       "      <td>4122.0</td>\n",
       "      <td>121.6</td>\n",
       "      <td>29507.0</td>\n",
       "      <td>322.72</td>\n",
       "      <td>476.24</td>\n",
       "      <td>798.96</td>\n",
       "      <td>160.0</td>\n",
       "      <td>499.35</td>\n",
       "      <td>76.00</td>\n",
       "      <td>2007</td>\n",
       "    </tr>\n",
       "    <tr>\n",
       "      <th>2</th>\n",
       "      <td>Transformers</td>\n",
       "      <td>Paramount</td>\n",
       "      <td>57.0</td>\n",
       "      <td>89.0</td>\n",
       "      <td>Monster Force</td>\n",
       "      <td>Action</td>\n",
       "      <td>4011.0</td>\n",
       "      <td>70.5</td>\n",
       "      <td>17577.0</td>\n",
       "      <td>319.25</td>\n",
       "      <td>390.46</td>\n",
       "      <td>709.71</td>\n",
       "      <td>150.0</td>\n",
       "      <td>473.14</td>\n",
       "      <td>47.00</td>\n",
       "      <td>2007</td>\n",
       "    </tr>\n",
       "    <tr>\n",
       "      <th>3</th>\n",
       "      <td>Pirates of the Caribbean: At World's End</td>\n",
       "      <td>Disney</td>\n",
       "      <td>45.0</td>\n",
       "      <td>74.0</td>\n",
       "      <td>Rescue</td>\n",
       "      <td>Action</td>\n",
       "      <td>4362.0</td>\n",
       "      <td>114.7</td>\n",
       "      <td>26302.0</td>\n",
       "      <td>309.42</td>\n",
       "      <td>654.00</td>\n",
       "      <td>963.42</td>\n",
       "      <td>300.0</td>\n",
       "      <td>321.14</td>\n",
       "      <td>38.23</td>\n",
       "      <td>2007</td>\n",
       "    </tr>\n",
       "    <tr>\n",
       "      <th>4</th>\n",
       "      <td>Harry Potter and the Order of the Phoenix</td>\n",
       "      <td>Warner Bros</td>\n",
       "      <td>78.0</td>\n",
       "      <td>82.0</td>\n",
       "      <td>Quest</td>\n",
       "      <td>Adventure</td>\n",
       "      <td>4285.0</td>\n",
       "      <td>77.1</td>\n",
       "      <td>17998.0</td>\n",
       "      <td>292.00</td>\n",
       "      <td>647.88</td>\n",
       "      <td>939.89</td>\n",
       "      <td>150.0</td>\n",
       "      <td>626.59</td>\n",
       "      <td>51.40</td>\n",
       "      <td>2007</td>\n",
       "    </tr>\n",
       "  </tbody>\n",
       "</table>\n",
       "</div>"
      ],
      "text/plain": [
       "                                       Movie   LeadStudio  RottenTomatoes  \\\n",
       "0                               Spider-Man 3         Sony            61.0   \n",
       "1                            Shrek the Third    Paramount            42.0   \n",
       "2                               Transformers    Paramount            57.0   \n",
       "3   Pirates of the Caribbean: At World's End       Disney            45.0   \n",
       "4  Harry Potter and the Order of the Phoenix  Warner Bros            78.0   \n",
       "\n",
       "   AudienceScore          Story      Genre  TheatersOpenWeek  OpeningWeekend  \\\n",
       "0           54.0  Metamorphosis     Action            4252.0           151.1   \n",
       "1           57.0          Quest  Animation            4122.0           121.6   \n",
       "2           89.0  Monster Force     Action            4011.0            70.5   \n",
       "3           74.0         Rescue     Action            4362.0           114.7   \n",
       "4           82.0          Quest  Adventure            4285.0            77.1   \n",
       "\n",
       "   BOAvgOpenWeekend  DomesticGross  ForeignGross  WorldGross  Budget  \\\n",
       "0           35540.0         336.53        554.34      890.87   258.0   \n",
       "1           29507.0         322.72        476.24      798.96   160.0   \n",
       "2           17577.0         319.25        390.46      709.71   150.0   \n",
       "3           26302.0         309.42        654.00      963.42   300.0   \n",
       "4           17998.0         292.00        647.88      939.89   150.0   \n",
       "\n",
       "   Profitability  OpenProfit  Year  \n",
       "0         345.30       58.57  2007  \n",
       "1         499.35       76.00  2007  \n",
       "2         473.14       47.00  2007  \n",
       "3         321.14       38.23  2007  \n",
       "4         626.59       51.40  2007  "
      ]
     },
     "execution_count": 3,
     "metadata": {},
     "output_type": "execute_result"
    }
   ],
   "source": [
    "df_movies.head()"
   ]
  },
  {
   "cell_type": "code",
   "execution_count": 4,
   "metadata": {},
   "outputs": [
    {
     "data": {
      "text/html": [
       "<div>\n",
       "<style scoped>\n",
       "    .dataframe tbody tr th:only-of-type {\n",
       "        vertical-align: middle;\n",
       "    }\n",
       "\n",
       "    .dataframe tbody tr th {\n",
       "        vertical-align: top;\n",
       "    }\n",
       "\n",
       "    .dataframe thead th {\n",
       "        text-align: right;\n",
       "    }\n",
       "</style>\n",
       "<table border=\"1\" class=\"dataframe\">\n",
       "  <thead>\n",
       "    <tr style=\"text-align: right;\">\n",
       "      <th></th>\n",
       "      <th>RottenTomatoes</th>\n",
       "      <th>AudienceScore</th>\n",
       "      <th>TheatersOpenWeek</th>\n",
       "      <th>OpeningWeekend</th>\n",
       "      <th>BOAvgOpenWeekend</th>\n",
       "      <th>DomesticGross</th>\n",
       "      <th>ForeignGross</th>\n",
       "      <th>WorldGross</th>\n",
       "      <th>Budget</th>\n",
       "      <th>Profitability</th>\n",
       "      <th>OpenProfit</th>\n",
       "      <th>Year</th>\n",
       "    </tr>\n",
       "  </thead>\n",
       "  <tbody>\n",
       "    <tr>\n",
       "      <th>count</th>\n",
       "      <td>913.000000</td>\n",
       "      <td>907.000000</td>\n",
       "      <td>949.000000</td>\n",
       "      <td>969.000000</td>\n",
       "      <td>945.000000</td>\n",
       "      <td>970.000000</td>\n",
       "      <td>876.000000</td>\n",
       "      <td>914.000000</td>\n",
       "      <td>897.000000</td>\n",
       "      <td>896.000000</td>\n",
       "      <td>895.000000</td>\n",
       "      <td>970.000000</td>\n",
       "    </tr>\n",
       "    <tr>\n",
       "      <th>mean</th>\n",
       "      <td>51.707558</td>\n",
       "      <td>61.271224</td>\n",
       "      <td>2495.246575</td>\n",
       "      <td>20.620826</td>\n",
       "      <td>8562.593651</td>\n",
       "      <td>68.162544</td>\n",
       "      <td>101.237419</td>\n",
       "      <td>169.009945</td>\n",
       "      <td>56.117168</td>\n",
       "      <td>384.620100</td>\n",
       "      <td>62.223575</td>\n",
       "      <td>2010.236082</td>\n",
       "    </tr>\n",
       "    <tr>\n",
       "      <th>std</th>\n",
       "      <td>26.821268</td>\n",
       "      <td>16.602457</td>\n",
       "      <td>1164.223356</td>\n",
       "      <td>25.338689</td>\n",
       "      <td>10645.135565</td>\n",
       "      <td>80.409969</td>\n",
       "      <td>155.987696</td>\n",
       "      <td>227.744380</td>\n",
       "      <td>53.755914</td>\n",
       "      <td>631.666012</td>\n",
       "      <td>159.713218</td>\n",
       "      <td>1.954840</td>\n",
       "    </tr>\n",
       "    <tr>\n",
       "      <th>min</th>\n",
       "      <td>0.000000</td>\n",
       "      <td>19.000000</td>\n",
       "      <td>1.000000</td>\n",
       "      <td>0.010000</td>\n",
       "      <td>28.000000</td>\n",
       "      <td>0.060000</td>\n",
       "      <td>0.000000</td>\n",
       "      <td>0.100000</td>\n",
       "      <td>0.000000</td>\n",
       "      <td>2.300000</td>\n",
       "      <td>0.160000</td>\n",
       "      <td>2007.000000</td>\n",
       "    </tr>\n",
       "    <tr>\n",
       "      <th>25%</th>\n",
       "      <td>28.000000</td>\n",
       "      <td>49.000000</td>\n",
       "      <td>2054.000000</td>\n",
       "      <td>5.300000</td>\n",
       "      <td>3528.000000</td>\n",
       "      <td>17.565000</td>\n",
       "      <td>16.667500</td>\n",
       "      <td>38.357500</td>\n",
       "      <td>20.000000</td>\n",
       "      <td>150.020000</td>\n",
       "      <td>19.505000</td>\n",
       "      <td>2009.000000</td>\n",
       "    </tr>\n",
       "    <tr>\n",
       "      <th>50%</th>\n",
       "      <td>52.000000</td>\n",
       "      <td>61.000000</td>\n",
       "      <td>2798.000000</td>\n",
       "      <td>13.150000</td>\n",
       "      <td>5983.000000</td>\n",
       "      <td>40.415000</td>\n",
       "      <td>46.655000</td>\n",
       "      <td>88.180000</td>\n",
       "      <td>35.000000</td>\n",
       "      <td>254.820000</td>\n",
       "      <td>34.610000</td>\n",
       "      <td>2010.000000</td>\n",
       "    </tr>\n",
       "    <tr>\n",
       "      <th>75%</th>\n",
       "      <td>75.000000</td>\n",
       "      <td>74.000000</td>\n",
       "      <td>3285.000000</td>\n",
       "      <td>26.200000</td>\n",
       "      <td>9790.000000</td>\n",
       "      <td>89.252500</td>\n",
       "      <td>111.908750</td>\n",
       "      <td>202.310000</td>\n",
       "      <td>75.000000</td>\n",
       "      <td>417.987500</td>\n",
       "      <td>58.375000</td>\n",
       "      <td>2012.000000</td>\n",
       "    </tr>\n",
       "    <tr>\n",
       "      <th>max</th>\n",
       "      <td>99.000000</td>\n",
       "      <td>96.000000</td>\n",
       "      <td>4468.000000</td>\n",
       "      <td>207.440000</td>\n",
       "      <td>147262.000000</td>\n",
       "      <td>760.500000</td>\n",
       "      <td>2021.000000</td>\n",
       "      <td>2781.500000</td>\n",
       "      <td>300.000000</td>\n",
       "      <td>10175.850000</td>\n",
       "      <td>3373.000000</td>\n",
       "      <td>2013.000000</td>\n",
       "    </tr>\n",
       "  </tbody>\n",
       "</table>\n",
       "</div>"
      ],
      "text/plain": [
       "       RottenTomatoes  AudienceScore  TheatersOpenWeek  OpeningWeekend  \\\n",
       "count      913.000000     907.000000        949.000000      969.000000   \n",
       "mean        51.707558      61.271224       2495.246575       20.620826   \n",
       "std         26.821268      16.602457       1164.223356       25.338689   \n",
       "min          0.000000      19.000000          1.000000        0.010000   \n",
       "25%         28.000000      49.000000       2054.000000        5.300000   \n",
       "50%         52.000000      61.000000       2798.000000       13.150000   \n",
       "75%         75.000000      74.000000       3285.000000       26.200000   \n",
       "max         99.000000      96.000000       4468.000000      207.440000   \n",
       "\n",
       "       BOAvgOpenWeekend  DomesticGross  ForeignGross   WorldGross      Budget  \\\n",
       "count        945.000000     970.000000    876.000000   914.000000  897.000000   \n",
       "mean        8562.593651      68.162544    101.237419   169.009945   56.117168   \n",
       "std        10645.135565      80.409969    155.987696   227.744380   53.755914   \n",
       "min           28.000000       0.060000      0.000000     0.100000    0.000000   \n",
       "25%         3528.000000      17.565000     16.667500    38.357500   20.000000   \n",
       "50%         5983.000000      40.415000     46.655000    88.180000   35.000000   \n",
       "75%         9790.000000      89.252500    111.908750   202.310000   75.000000   \n",
       "max       147262.000000     760.500000   2021.000000  2781.500000  300.000000   \n",
       "\n",
       "       Profitability   OpenProfit         Year  \n",
       "count     896.000000   895.000000   970.000000  \n",
       "mean      384.620100    62.223575  2010.236082  \n",
       "std       631.666012   159.713218     1.954840  \n",
       "min         2.300000     0.160000  2007.000000  \n",
       "25%       150.020000    19.505000  2009.000000  \n",
       "50%       254.820000    34.610000  2010.000000  \n",
       "75%       417.987500    58.375000  2012.000000  \n",
       "max     10175.850000  3373.000000  2013.000000  "
      ]
     },
     "execution_count": 4,
     "metadata": {},
     "output_type": "execute_result"
    }
   ],
   "source": [
    "df_movies.describe()"
   ]
  },
  {
   "cell_type": "code",
   "execution_count": 5,
   "metadata": {},
   "outputs": [
    {
     "name": "stdout",
     "output_type": "stream",
     "text": [
      "<class 'pandas.core.frame.DataFrame'>\n",
      "RangeIndex: 970 entries, 0 to 969\n",
      "Data columns (total 16 columns):\n",
      " #   Column            Non-Null Count  Dtype  \n",
      "---  ------            --------------  -----  \n",
      " 0   Movie             970 non-null    object \n",
      " 1   LeadStudio        961 non-null    object \n",
      " 2   RottenTomatoes    913 non-null    float64\n",
      " 3   AudienceScore     907 non-null    float64\n",
      " 4   Story             641 non-null    object \n",
      " 5   Genre             691 non-null    object \n",
      " 6   TheatersOpenWeek  949 non-null    float64\n",
      " 7   OpeningWeekend    969 non-null    float64\n",
      " 8   BOAvgOpenWeekend  945 non-null    float64\n",
      " 9   DomesticGross     970 non-null    float64\n",
      " 10  ForeignGross      876 non-null    float64\n",
      " 11  WorldGross        914 non-null    float64\n",
      " 12  Budget            897 non-null    float64\n",
      " 13  Profitability     896 non-null    float64\n",
      " 14  OpenProfit        895 non-null    float64\n",
      " 15  Year              970 non-null    int64  \n",
      "dtypes: float64(11), int64(1), object(4)\n",
      "memory usage: 121.4+ KB\n"
     ]
    }
   ],
   "source": [
    "df_movies.info()"
   ]
  },
  {
   "cell_type": "code",
   "execution_count": 6,
   "metadata": {},
   "outputs": [
    {
     "data": {
      "text/plain": [
       "Movie                 0\n",
       "LeadStudio            9\n",
       "RottenTomatoes       57\n",
       "AudienceScore        63\n",
       "Story               329\n",
       "Genre               279\n",
       "TheatersOpenWeek     21\n",
       "OpeningWeekend        1\n",
       "BOAvgOpenWeekend     25\n",
       "DomesticGross         0\n",
       "ForeignGross         94\n",
       "WorldGross           56\n",
       "Budget               73\n",
       "Profitability        74\n",
       "OpenProfit           75\n",
       "Year                  0\n",
       "dtype: int64"
      ]
     },
     "execution_count": 6,
     "metadata": {},
     "output_type": "execute_result"
    }
   ],
   "source": [
    "df_movies.isnull().sum()"
   ]
  },
  {
   "cell_type": "code",
   "execution_count": 7,
   "metadata": {},
   "outputs": [],
   "source": [
    "highest_rating = max(df_movies[df_movies[\"Story\"] == \"Quest\"][\"AudienceScore\"])"
   ]
  },
  {
   "cell_type": "code",
   "execution_count": 8,
   "metadata": {},
   "outputs": [
    {
     "data": {
      "text/plain": [
       "['Harry Potter and the Deathly Hallows Part 1', 'The Muppets']"
      ]
     },
     "execution_count": 8,
     "metadata": {},
     "output_type": "execute_result"
    }
   ],
   "source": [
    "## Movies with highest rating by Audience\n",
    "df_movies[(df_movies[\"Story\"] == \"Quest\") & (df_movies[\"AudienceScore\"] == highest_rating)][\"Movie\"].to_list()"
   ]
  },
  {
   "cell_type": "code",
   "execution_count": null,
   "metadata": {},
   "outputs": [],
   "source": []
  },
  {
   "cell_type": "markdown",
   "metadata": {},
   "source": [
    "### 2. Find the genre in which there has been the greatest number of movie releases"
   ]
  },
  {
   "cell_type": "code",
   "execution_count": 24,
   "metadata": {},
   "outputs": [
    {
     "data": {
      "text/plain": [
       "Comedy         177\n",
       "Action         166\n",
       "Drama          109\n",
       "Horror          52\n",
       "Animation       51\n",
       "Thriller        35\n",
       "Adventure       30\n",
       "Romance         20\n",
       "Crime           15\n",
       "Biography       14\n",
       "Documentary      7\n",
       "Fantasy          6\n",
       "Mystery          5\n",
       "Musical          4\n",
       "Name: Genre, dtype: int64"
      ]
     },
     "execution_count": 24,
     "metadata": {},
     "output_type": "execute_result"
    }
   ],
   "source": [
    "df_movies[\"Genre\"].value_counts()"
   ]
  },
  {
   "cell_type": "markdown",
   "metadata": {},
   "source": [
    "#### Comedy Movies has greatest number of moview releases"
   ]
  },
  {
   "cell_type": "code",
   "execution_count": null,
   "metadata": {},
   "outputs": [],
   "source": []
  },
  {
   "cell_type": "markdown",
   "metadata": {},
   "source": [
    "### 3. Print the names of the top five movies with the costliest budgets."
   ]
  },
  {
   "cell_type": "code",
   "execution_count": 53,
   "metadata": {},
   "outputs": [],
   "source": [
    "## Sorting the movie based on budget\n",
    "df_movies_sort = df_movies.sort_values(by=['Budget'], ascending=False)"
   ]
  },
  {
   "cell_type": "code",
   "execution_count": 63,
   "metadata": {},
   "outputs": [
    {
     "data": {
      "text/html": [
       "<div>\n",
       "<style scoped>\n",
       "    .dataframe tbody tr th:only-of-type {\n",
       "        vertical-align: middle;\n",
       "    }\n",
       "\n",
       "    .dataframe tbody tr th {\n",
       "        vertical-align: top;\n",
       "    }\n",
       "\n",
       "    .dataframe thead th {\n",
       "        text-align: right;\n",
       "    }\n",
       "</style>\n",
       "<table border=\"1\" class=\"dataframe\">\n",
       "  <thead>\n",
       "    <tr style=\"text-align: right;\">\n",
       "      <th></th>\n",
       "      <th>Movie</th>\n",
       "      <th>Budget</th>\n",
       "    </tr>\n",
       "  </thead>\n",
       "  <tbody>\n",
       "    <tr>\n",
       "      <th>3</th>\n",
       "      <td>Pirates of the Caribbean: At World's End</td>\n",
       "      <td>300.0</td>\n",
       "    </tr>\n",
       "    <tr>\n",
       "      <th>468</th>\n",
       "      <td>Tangled</td>\n",
       "      <td>260.0</td>\n",
       "    </tr>\n",
       "    <tr>\n",
       "      <th>0</th>\n",
       "      <td>Spider-Man 3</td>\n",
       "      <td>258.0</td>\n",
       "    </tr>\n",
       "    <tr>\n",
       "      <th>778</th>\n",
       "      <td>The Dark Knight Rises</td>\n",
       "      <td>250.0</td>\n",
       "    </tr>\n",
       "    <tr>\n",
       "      <th>241</th>\n",
       "      <td>Harry Potter and the Half-Blood Prince</td>\n",
       "      <td>250.0</td>\n",
       "    </tr>\n",
       "    <tr>\n",
       "      <th>586</th>\n",
       "      <td>Pirates of the Caribbean:On Stranger Tides</td>\n",
       "      <td>250.0</td>\n",
       "    </tr>\n",
       "    <tr>\n",
       "      <th>710</th>\n",
       "      <td>John Carter</td>\n",
       "      <td>250.0</td>\n",
       "    </tr>\n",
       "    <tr>\n",
       "      <th>239</th>\n",
       "      <td>Avatar</td>\n",
       "      <td>237.0</td>\n",
       "    </tr>\n",
       "    <tr>\n",
       "      <th>99</th>\n",
       "      <td>Quantum of Solace</td>\n",
       "      <td>230.0</td>\n",
       "    </tr>\n",
       "    <tr>\n",
       "      <th>770</th>\n",
       "      <td>The Amazing Spider-Man</td>\n",
       "      <td>230.0</td>\n",
       "    </tr>\n",
       "  </tbody>\n",
       "</table>\n",
       "</div>"
      ],
      "text/plain": [
       "                                          Movie  Budget\n",
       "3      Pirates of the Caribbean: At World's End   300.0\n",
       "468                                     Tangled   260.0\n",
       "0                                  Spider-Man 3   258.0\n",
       "778                       The Dark Knight Rises   250.0\n",
       "241      Harry Potter and the Half-Blood Prince   250.0\n",
       "586  Pirates of the Caribbean:On Stranger Tides   250.0\n",
       "710                                 John Carter   250.0\n",
       "239                                      Avatar   237.0\n",
       "99                            Quantum of Solace   230.0\n",
       "770                      The Amazing Spider-Man   230.0"
      ]
     },
     "execution_count": 63,
     "metadata": {},
     "output_type": "execute_result"
    }
   ],
   "source": [
    "df_movies_sort[[\"Movie\",\"Budget\"]].head(10)"
   ]
  },
  {
   "cell_type": "code",
   "execution_count": 62,
   "metadata": {},
   "outputs": [
    {
     "data": {
      "text/plain": [
       "[\"Pirates of the Caribbean: At World's End\",\n",
       " 'Tangled',\n",
       " 'Spider-Man 3',\n",
       " 'The Dark Knight Rises',\n",
       " 'Harry Potter and the Half-Blood Prince']"
      ]
     },
     "execution_count": 62,
     "metadata": {},
     "output_type": "execute_result"
    }
   ],
   "source": [
    "## Top 5 movies with heighest budget\n",
    "df_movies_sort.head(5).Movie.to_list()"
   ]
  },
  {
   "cell_type": "code",
   "execution_count": null,
   "metadata": {},
   "outputs": [],
   "source": []
  },
  {
   "cell_type": "markdown",
   "metadata": {},
   "source": [
    "### 4. Is there any correspondence between the critics’ evaluation of a movie and its\n",
    "### acceptance by the public? Find out, by plotting the net profitability of a movie\n",
    "### against the ratings it receives on Rotten Tomatoes."
   ]
  },
  {
   "cell_type": "code",
   "execution_count": 39,
   "metadata": {},
   "outputs": [
    {
     "data": {
      "text/html": [
       "<div>\n",
       "<style scoped>\n",
       "    .dataframe tbody tr th:only-of-type {\n",
       "        vertical-align: middle;\n",
       "    }\n",
       "\n",
       "    .dataframe tbody tr th {\n",
       "        vertical-align: top;\n",
       "    }\n",
       "\n",
       "    .dataframe thead th {\n",
       "        text-align: right;\n",
       "    }\n",
       "</style>\n",
       "<table border=\"1\" class=\"dataframe\">\n",
       "  <thead>\n",
       "    <tr style=\"text-align: right;\">\n",
       "      <th></th>\n",
       "      <th>RottenTomatoes</th>\n",
       "      <th>Profitability</th>\n",
       "    </tr>\n",
       "  </thead>\n",
       "  <tbody>\n",
       "    <tr>\n",
       "      <th>0</th>\n",
       "      <td>61.0</td>\n",
       "      <td>345.30</td>\n",
       "    </tr>\n",
       "    <tr>\n",
       "      <th>1</th>\n",
       "      <td>42.0</td>\n",
       "      <td>499.35</td>\n",
       "    </tr>\n",
       "    <tr>\n",
       "      <th>2</th>\n",
       "      <td>57.0</td>\n",
       "      <td>473.14</td>\n",
       "    </tr>\n",
       "    <tr>\n",
       "      <th>3</th>\n",
       "      <td>45.0</td>\n",
       "      <td>321.14</td>\n",
       "    </tr>\n",
       "    <tr>\n",
       "      <th>4</th>\n",
       "      <td>78.0</td>\n",
       "      <td>626.59</td>\n",
       "    </tr>\n",
       "  </tbody>\n",
       "</table>\n",
       "</div>"
      ],
      "text/plain": [
       "   RottenTomatoes  Profitability\n",
       "0            61.0         345.30\n",
       "1            42.0         499.35\n",
       "2            57.0         473.14\n",
       "3            45.0         321.14\n",
       "4            78.0         626.59"
      ]
     },
     "execution_count": 39,
     "metadata": {},
     "output_type": "execute_result"
    }
   ],
   "source": [
    "df_movies[[\"RottenTomatoes\",\"Profitability\"]].head()"
   ]
  },
  {
   "cell_type": "code",
   "execution_count": 41,
   "metadata": {},
   "outputs": [],
   "source": [
    "X=df_movies[\"RottenTomatoes\"]\n",
    "Y=df_movies[\"Profitability\"]"
   ]
  },
  {
   "cell_type": "code",
   "execution_count": 51,
   "metadata": {},
   "outputs": [
    {
     "data": {
      "image/png": "[encoded data removed]",
      "text/plain": [
       "<Figure size 1600x1000 with 1 Axes>"
      ]
     },
     "metadata": {
      "needs_background": "light"
     },
     "output_type": "display_data"
    }
   ],
   "source": [
    "plt.figure(figsize=(16, 10), dpi=100)\n",
    "plt.scatter(X,Y,marker= 'o',color='red')\n",
    "plt.xlabel(\"RottenTomatoes Reviews\")\n",
    "plt.ylabel(\"Profitability per movie\")\n",
    "plt.title(\"RottenTomatoes Reviews vs Profitability\")\n",
    "plt.show()"
   ]
  },
  {
   "cell_type": "markdown",
   "metadata": {},
   "source": [
    "#### The above plot doesnot give better visibility of relationship between Reviews and profitability. So limiting the value of y-axis for better view"
   ]
  },
  {
   "cell_type": "code",
   "execution_count": 50,
   "metadata": {},
   "outputs": [
    {
     "data": {
      "image/png": "[encoded data removed]",
      "text/plain": [
       "<Figure size 1600x1000 with 1 Axes>"
      ]
     },
     "metadata": {
      "needs_background": "light"
     },
     "output_type": "display_data"
    }
   ],
   "source": [
    "plt.figure(figsize=(16, 10), dpi=100)\n",
    "plt.scatter(X,Y,marker= 'o',color='red')\n",
    "plt.ylim(0,1000)\n",
    "plt.xlabel(\"RottenTomatoes Reviews\")\n",
    "plt.ylabel(\"Profitability per movie\")\n",
    "plt.title(\"RottenTomatoes Reviews vs Profitability\")\n",
    "plt.show()"
   ]
  },
  {
   "cell_type": "code",
   "execution_count": null,
   "metadata": {},
   "outputs": [],
   "source": []
  },
  {
   "cell_type": "markdown",
   "metadata": {},
   "source": [
    "### 5. Perform Operations on Files\n",
    "#### 5.1: From the raw data below create a data frame\n",
    "#### 'first_name': ['Jason', 'Molly', 'Tina', 'Jake', 'Amy'],\n",
    "#### 'last_name': ['Miller', 'Jacobson', \".\", 'Milner', 'Cooze'],\n",
    "#### 'age': [42, 52, 36, 24, 73],\n",
    "#### 'preTestScore': [4, 24, 31, \".\", \".\"],\n",
    "#### 'postTestScore': [\"25,000\", \"94,000\", 57, 62, 70]"
   ]
  },
  {
   "cell_type": "code",
   "execution_count": 77,
   "metadata": {},
   "outputs": [],
   "source": [
    "data = {\n",
    "    'first_name': ['Jason', 'Molly', 'Tina', 'Jake', 'Amy'],\n",
    "'last_name': ['Miller', 'Jacobson', \".\", 'Milner', 'Cooze'],\n",
    "'age': [42, 52, 36, 24, 73],\n",
    "'preTestScore': [4, 24, 31, \".\", \".\"],\n",
    "'postTestScore': [\"25,000\", \"94,000\", 57, 62, 70]\n",
    "}"
   ]
  },
  {
   "cell_type": "code",
   "execution_count": 78,
   "metadata": {},
   "outputs": [],
   "source": [
    "df = pd.DataFrame(data)"
   ]
  },
  {
   "cell_type": "code",
   "execution_count": 79,
   "metadata": {},
   "outputs": [
    {
     "data": {
      "text/html": [
       "<div>\n",
       "<style scoped>\n",
       "    .dataframe tbody tr th:only-of-type {\n",
       "        vertical-align: middle;\n",
       "    }\n",
       "\n",
       "    .dataframe tbody tr th {\n",
       "        vertical-align: top;\n",
       "    }\n",
       "\n",
       "    .dataframe thead th {\n",
       "        text-align: right;\n",
       "    }\n",
       "</style>\n",
       "<table border=\"1\" class=\"dataframe\">\n",
       "  <thead>\n",
       "    <tr style=\"text-align: right;\">\n",
       "      <th></th>\n",
       "      <th>first_name</th>\n",
       "      <th>last_name</th>\n",
       "      <th>age</th>\n",
       "      <th>preTestScore</th>\n",
       "      <th>postTestScore</th>\n",
       "    </tr>\n",
       "  </thead>\n",
       "  <tbody>\n",
       "    <tr>\n",
       "      <th>0</th>\n",
       "      <td>Jason</td>\n",
       "      <td>Miller</td>\n",
       "      <td>42</td>\n",
       "      <td>4</td>\n",
       "      <td>25,000</td>\n",
       "    </tr>\n",
       "    <tr>\n",
       "      <th>1</th>\n",
       "      <td>Molly</td>\n",
       "      <td>Jacobson</td>\n",
       "      <td>52</td>\n",
       "      <td>24</td>\n",
       "      <td>94,000</td>\n",
       "    </tr>\n",
       "    <tr>\n",
       "      <th>2</th>\n",
       "      <td>Tina</td>\n",
       "      <td>.</td>\n",
       "      <td>36</td>\n",
       "      <td>31</td>\n",
       "      <td>57</td>\n",
       "    </tr>\n",
       "    <tr>\n",
       "      <th>3</th>\n",
       "      <td>Jake</td>\n",
       "      <td>Milner</td>\n",
       "      <td>24</td>\n",
       "      <td>.</td>\n",
       "      <td>62</td>\n",
       "    </tr>\n",
       "    <tr>\n",
       "      <th>4</th>\n",
       "      <td>Amy</td>\n",
       "      <td>Cooze</td>\n",
       "      <td>73</td>\n",
       "      <td>.</td>\n",
       "      <td>70</td>\n",
       "    </tr>\n",
       "  </tbody>\n",
       "</table>\n",
       "</div>"
      ],
      "text/plain": [
       "  first_name last_name  age preTestScore postTestScore\n",
       "0      Jason    Miller   42            4        25,000\n",
       "1      Molly  Jacobson   52           24        94,000\n",
       "2       Tina         .   36           31            57\n",
       "3       Jake    Milner   24            .            62\n",
       "4        Amy     Cooze   73            .            70"
      ]
     },
     "execution_count": 79,
     "metadata": {},
     "output_type": "execute_result"
    }
   ],
   "source": [
    "df"
   ]
  },
  {
   "cell_type": "markdown",
   "metadata": {},
   "source": [
    "#### 5.2: Save the dataframe into a csv file as example.csv"
   ]
  },
  {
   "cell_type": "code",
   "execution_count": 80,
   "metadata": {},
   "outputs": [],
   "source": [
    "df.to_csv(r\"./datasets/example.csv\",index=False)"
   ]
  },
  {
   "cell_type": "code",
   "execution_count": 81,
   "metadata": {},
   "outputs": [
    {
     "name": "stdout",
     "output_type": "stream",
     "text": [
      "-rw-r--r--  1 necessaryevil  staff  163 15 Dec 09:44 ./datasets/example.csv\r\n"
     ]
    }
   ],
   "source": [
    "!ls -ltr ./datasets/example.csv"
   ]
  },
  {
   "cell_type": "markdown",
   "metadata": {},
   "source": [
    "### 5.3: Read the example.csv and print the data frame"
   ]
  },
  {
   "cell_type": "code",
   "execution_count": 82,
   "metadata": {},
   "outputs": [],
   "source": [
    "df = pd.read_csv(r\"./datasets/example.csv\")"
   ]
  },
  {
   "cell_type": "code",
   "execution_count": 83,
   "metadata": {},
   "outputs": [
    {
     "data": {
      "text/html": [
       "<div>\n",
       "<style scoped>\n",
       "    .dataframe tbody tr th:only-of-type {\n",
       "        vertical-align: middle;\n",
       "    }\n",
       "\n",
       "    .dataframe tbody tr th {\n",
       "        vertical-align: top;\n",
       "    }\n",
       "\n",
       "    .dataframe thead th {\n",
       "        text-align: right;\n",
       "    }\n",
       "</style>\n",
       "<table border=\"1\" class=\"dataframe\">\n",
       "  <thead>\n",
       "    <tr style=\"text-align: right;\">\n",
       "      <th></th>\n",
       "      <th>first_name</th>\n",
       "      <th>last_name</th>\n",
       "      <th>age</th>\n",
       "      <th>preTestScore</th>\n",
       "      <th>postTestScore</th>\n",
       "    </tr>\n",
       "  </thead>\n",
       "  <tbody>\n",
       "    <tr>\n",
       "      <th>0</th>\n",
       "      <td>Jason</td>\n",
       "      <td>Miller</td>\n",
       "      <td>42</td>\n",
       "      <td>4</td>\n",
       "      <td>25,000</td>\n",
       "    </tr>\n",
       "    <tr>\n",
       "      <th>1</th>\n",
       "      <td>Molly</td>\n",
       "      <td>Jacobson</td>\n",
       "      <td>52</td>\n",
       "      <td>24</td>\n",
       "      <td>94,000</td>\n",
       "    </tr>\n",
       "    <tr>\n",
       "      <th>2</th>\n",
       "      <td>Tina</td>\n",
       "      <td>.</td>\n",
       "      <td>36</td>\n",
       "      <td>31</td>\n",
       "      <td>57</td>\n",
       "    </tr>\n",
       "    <tr>\n",
       "      <th>3</th>\n",
       "      <td>Jake</td>\n",
       "      <td>Milner</td>\n",
       "      <td>24</td>\n",
       "      <td>.</td>\n",
       "      <td>62</td>\n",
       "    </tr>\n",
       "    <tr>\n",
       "      <th>4</th>\n",
       "      <td>Amy</td>\n",
       "      <td>Cooze</td>\n",
       "      <td>73</td>\n",
       "      <td>.</td>\n",
       "      <td>70</td>\n",
       "    </tr>\n",
       "  </tbody>\n",
       "</table>\n",
       "</div>"
      ],
      "text/plain": [
       "  first_name last_name  age preTestScore postTestScore\n",
       "0      Jason    Miller   42            4        25,000\n",
       "1      Molly  Jacobson   52           24        94,000\n",
       "2       Tina         .   36           31            57\n",
       "3       Jake    Milner   24            .            62\n",
       "4        Amy     Cooze   73            .            70"
      ]
     },
     "execution_count": 83,
     "metadata": {},
     "output_type": "execute_result"
    }
   ],
   "source": [
    "df"
   ]
  },
  {
   "cell_type": "markdown",
   "metadata": {},
   "source": [
    "### 5.4: Read the example.csv without column heading"
   ]
  },
  {
   "cell_type": "code",
   "execution_count": 84,
   "metadata": {},
   "outputs": [],
   "source": [
    "df_2 = pd.read_csv(r\"./datasets/example.csv\",header=None)"
   ]
  },
  {
   "cell_type": "code",
   "execution_count": 85,
   "metadata": {},
   "outputs": [
    {
     "data": {
      "text/html": [
       "<div>\n",
       "<style scoped>\n",
       "    .dataframe tbody tr th:only-of-type {\n",
       "        vertical-align: middle;\n",
       "    }\n",
       "\n",
       "    .dataframe tbody tr th {\n",
       "        vertical-align: top;\n",
       "    }\n",
       "\n",
       "    .dataframe thead th {\n",
       "        text-align: right;\n",
       "    }\n",
       "</style>\n",
       "<table border=\"1\" class=\"dataframe\">\n",
       "  <thead>\n",
       "    <tr style=\"text-align: right;\">\n",
       "      <th></th>\n",
       "      <th>0</th>\n",
       "      <th>1</th>\n",
       "      <th>2</th>\n",
       "      <th>3</th>\n",
       "      <th>4</th>\n",
       "    </tr>\n",
       "  </thead>\n",
       "  <tbody>\n",
       "    <tr>\n",
       "      <th>0</th>\n",
       "      <td>first_name</td>\n",
       "      <td>last_name</td>\n",
       "      <td>age</td>\n",
       "      <td>preTestScore</td>\n",
       "      <td>postTestScore</td>\n",
       "    </tr>\n",
       "    <tr>\n",
       "      <th>1</th>\n",
       "      <td>Jason</td>\n",
       "      <td>Miller</td>\n",
       "      <td>42</td>\n",
       "      <td>4</td>\n",
       "      <td>25,000</td>\n",
       "    </tr>\n",
       "    <tr>\n",
       "      <th>2</th>\n",
       "      <td>Molly</td>\n",
       "      <td>Jacobson</td>\n",
       "      <td>52</td>\n",
       "      <td>24</td>\n",
       "      <td>94,000</td>\n",
       "    </tr>\n",
       "    <tr>\n",
       "      <th>3</th>\n",
       "      <td>Tina</td>\n",
       "      <td>.</td>\n",
       "      <td>36</td>\n",
       "      <td>31</td>\n",
       "      <td>57</td>\n",
       "    </tr>\n",
       "    <tr>\n",
       "      <th>4</th>\n",
       "      <td>Jake</td>\n",
       "      <td>Milner</td>\n",
       "      <td>24</td>\n",
       "      <td>.</td>\n",
       "      <td>62</td>\n",
       "    </tr>\n",
       "    <tr>\n",
       "      <th>5</th>\n",
       "      <td>Amy</td>\n",
       "      <td>Cooze</td>\n",
       "      <td>73</td>\n",
       "      <td>.</td>\n",
       "      <td>70</td>\n",
       "    </tr>\n",
       "  </tbody>\n",
       "</table>\n",
       "</div>"
      ],
      "text/plain": [
       "            0          1    2             3              4\n",
       "0  first_name  last_name  age  preTestScore  postTestScore\n",
       "1       Jason     Miller   42             4         25,000\n",
       "2       Molly   Jacobson   52            24         94,000\n",
       "3        Tina          .   36            31             57\n",
       "4        Jake     Milner   24             .             62\n",
       "5         Amy      Cooze   73             .             70"
      ]
     },
     "execution_count": 85,
     "metadata": {},
     "output_type": "execute_result"
    }
   ],
   "source": [
    "df_2"
   ]
  },
  {
   "cell_type": "code",
   "execution_count": null,
   "metadata": {},
   "outputs": [],
   "source": []
  },
  {
   "cell_type": "markdown",
   "metadata": {},
   "source": [
    "### Question 5: Read the example.csv and make the index columns as 'First Name’ and 'Last Name'"
   ]
  },
  {
   "cell_type": "code",
   "execution_count": 86,
   "metadata": {},
   "outputs": [
    {
     "data": {
      "text/html": [
       "<div>\n",
       "<style scoped>\n",
       "    .dataframe tbody tr th:only-of-type {\n",
       "        vertical-align: middle;\n",
       "    }\n",
       "\n",
       "    .dataframe tbody tr th {\n",
       "        vertical-align: top;\n",
       "    }\n",
       "\n",
       "    .dataframe thead th {\n",
       "        text-align: right;\n",
       "    }\n",
       "</style>\n",
       "<table border=\"1\" class=\"dataframe\">\n",
       "  <thead>\n",
       "    <tr style=\"text-align: right;\">\n",
       "      <th></th>\n",
       "      <th>first_name</th>\n",
       "      <th>last_name</th>\n",
       "      <th>age</th>\n",
       "      <th>preTestScore</th>\n",
       "      <th>postTestScore</th>\n",
       "    </tr>\n",
       "  </thead>\n",
       "  <tbody>\n",
       "    <tr>\n",
       "      <th>0</th>\n",
       "      <td>Jason</td>\n",
       "      <td>Miller</td>\n",
       "      <td>42</td>\n",
       "      <td>4</td>\n",
       "      <td>25,000</td>\n",
       "    </tr>\n",
       "    <tr>\n",
       "      <th>1</th>\n",
       "      <td>Molly</td>\n",
       "      <td>Jacobson</td>\n",
       "      <td>52</td>\n",
       "      <td>24</td>\n",
       "      <td>94,000</td>\n",
       "    </tr>\n",
       "    <tr>\n",
       "      <th>2</th>\n",
       "      <td>Tina</td>\n",
       "      <td>.</td>\n",
       "      <td>36</td>\n",
       "      <td>31</td>\n",
       "      <td>57</td>\n",
       "    </tr>\n",
       "    <tr>\n",
       "      <th>3</th>\n",
       "      <td>Jake</td>\n",
       "      <td>Milner</td>\n",
       "      <td>24</td>\n",
       "      <td>.</td>\n",
       "      <td>62</td>\n",
       "    </tr>\n",
       "    <tr>\n",
       "      <th>4</th>\n",
       "      <td>Amy</td>\n",
       "      <td>Cooze</td>\n",
       "      <td>73</td>\n",
       "      <td>.</td>\n",
       "      <td>70</td>\n",
       "    </tr>\n",
       "  </tbody>\n",
       "</table>\n",
       "</div>"
      ],
      "text/plain": [
       "  first_name last_name  age preTestScore postTestScore\n",
       "0      Jason    Miller   42            4        25,000\n",
       "1      Molly  Jacobson   52           24        94,000\n",
       "2       Tina         .   36           31            57\n",
       "3       Jake    Milner   24            .            62\n",
       "4        Amy     Cooze   73            .            70"
      ]
     },
     "execution_count": 86,
     "metadata": {},
     "output_type": "execute_result"
    }
   ],
   "source": [
    "df"
   ]
  },
  {
   "cell_type": "code",
   "execution_count": 88,
   "metadata": {},
   "outputs": [],
   "source": [
    "df.set_index([\"first_name\",\"last_name\"],inplace=True)"
   ]
  },
  {
   "cell_type": "code",
   "execution_count": 89,
   "metadata": {},
   "outputs": [
    {
     "data": {
      "text/html": [
       "<div>\n",
       "<style scoped>\n",
       "    .dataframe tbody tr th:only-of-type {\n",
       "        vertical-align: middle;\n",
       "    }\n",
       "\n",
       "    .dataframe tbody tr th {\n",
       "        vertical-align: top;\n",
       "    }\n",
       "\n",
       "    .dataframe thead th {\n",
       "        text-align: right;\n",
       "    }\n",
       "</style>\n",
       "<table border=\"1\" class=\"dataframe\">\n",
       "  <thead>\n",
       "    <tr style=\"text-align: right;\">\n",
       "      <th></th>\n",
       "      <th></th>\n",
       "      <th>age</th>\n",
       "      <th>preTestScore</th>\n",
       "      <th>postTestScore</th>\n",
       "    </tr>\n",
       "    <tr>\n",
       "      <th>first_name</th>\n",
       "      <th>last_name</th>\n",
       "      <th></th>\n",
       "      <th></th>\n",
       "      <th></th>\n",
       "    </tr>\n",
       "  </thead>\n",
       "  <tbody>\n",
       "    <tr>\n",
       "      <th>Jason</th>\n",
       "      <th>Miller</th>\n",
       "      <td>42</td>\n",
       "      <td>4</td>\n",
       "      <td>25,000</td>\n",
       "    </tr>\n",
       "    <tr>\n",
       "      <th>Molly</th>\n",
       "      <th>Jacobson</th>\n",
       "      <td>52</td>\n",
       "      <td>24</td>\n",
       "      <td>94,000</td>\n",
       "    </tr>\n",
       "    <tr>\n",
       "      <th>Tina</th>\n",
       "      <th>.</th>\n",
       "      <td>36</td>\n",
       "      <td>31</td>\n",
       "      <td>57</td>\n",
       "    </tr>\n",
       "    <tr>\n",
       "      <th>Jake</th>\n",
       "      <th>Milner</th>\n",
       "      <td>24</td>\n",
       "      <td>.</td>\n",
       "      <td>62</td>\n",
       "    </tr>\n",
       "    <tr>\n",
       "      <th>Amy</th>\n",
       "      <th>Cooze</th>\n",
       "      <td>73</td>\n",
       "      <td>.</td>\n",
       "      <td>70</td>\n",
       "    </tr>\n",
       "  </tbody>\n",
       "</table>\n",
       "</div>"
      ],
      "text/plain": [
       "                      age preTestScore postTestScore\n",
       "first_name last_name                                \n",
       "Jason      Miller      42            4        25,000\n",
       "Molly      Jacobson    52           24        94,000\n",
       "Tina       .           36           31            57\n",
       "Jake       Milner      24            .            62\n",
       "Amy        Cooze       73            .            70"
      ]
     },
     "execution_count": 89,
     "metadata": {},
     "output_type": "execute_result"
    }
   ],
   "source": [
    "df"
   ]
  },
  {
   "cell_type": "code",
   "execution_count": null,
   "metadata": {},
   "outputs": [],
   "source": []
  },
  {
   "cell_type": "markdown",
   "metadata": {},
   "source": [
    "### 5.6: Print the data frame in a Boolean form as True or False. True for Null/ NaN values and false for non-null values"
   ]
  },
  {
   "cell_type": "code",
   "execution_count": 90,
   "metadata": {},
   "outputs": [
    {
     "data": {
      "text/html": [
       "<div>\n",
       "<style scoped>\n",
       "    .dataframe tbody tr th:only-of-type {\n",
       "        vertical-align: middle;\n",
       "    }\n",
       "\n",
       "    .dataframe tbody tr th {\n",
       "        vertical-align: top;\n",
       "    }\n",
       "\n",
       "    .dataframe thead th {\n",
       "        text-align: right;\n",
       "    }\n",
       "</style>\n",
       "<table border=\"1\" class=\"dataframe\">\n",
       "  <thead>\n",
       "    <tr style=\"text-align: right;\">\n",
       "      <th></th>\n",
       "      <th></th>\n",
       "      <th>age</th>\n",
       "      <th>preTestScore</th>\n",
       "      <th>postTestScore</th>\n",
       "    </tr>\n",
       "    <tr>\n",
       "      <th>first_name</th>\n",
       "      <th>last_name</th>\n",
       "      <th></th>\n",
       "      <th></th>\n",
       "      <th></th>\n",
       "    </tr>\n",
       "  </thead>\n",
       "  <tbody>\n",
       "    <tr>\n",
       "      <th>Jason</th>\n",
       "      <th>Miller</th>\n",
       "      <td>False</td>\n",
       "      <td>False</td>\n",
       "      <td>False</td>\n",
       "    </tr>\n",
       "    <tr>\n",
       "      <th>Molly</th>\n",
       "      <th>Jacobson</th>\n",
       "      <td>False</td>\n",
       "      <td>False</td>\n",
       "      <td>False</td>\n",
       "    </tr>\n",
       "    <tr>\n",
       "      <th>Tina</th>\n",
       "      <th>.</th>\n",
       "      <td>False</td>\n",
       "      <td>False</td>\n",
       "      <td>False</td>\n",
       "    </tr>\n",
       "    <tr>\n",
       "      <th>Jake</th>\n",
       "      <th>Milner</th>\n",
       "      <td>False</td>\n",
       "      <td>False</td>\n",
       "      <td>False</td>\n",
       "    </tr>\n",
       "    <tr>\n",
       "      <th>Amy</th>\n",
       "      <th>Cooze</th>\n",
       "      <td>False</td>\n",
       "      <td>False</td>\n",
       "      <td>False</td>\n",
       "    </tr>\n",
       "  </tbody>\n",
       "</table>\n",
       "</div>"
      ],
      "text/plain": [
       "                        age  preTestScore  postTestScore\n",
       "first_name last_name                                    \n",
       "Jason      Miller     False         False          False\n",
       "Molly      Jacobson   False         False          False\n",
       "Tina       .          False         False          False\n",
       "Jake       Milner     False         False          False\n",
       "Amy        Cooze      False         False          False"
      ]
     },
     "execution_count": 90,
     "metadata": {},
     "output_type": "execute_result"
    }
   ],
   "source": [
    "df.isnull()"
   ]
  },
  {
   "cell_type": "markdown",
   "metadata": {},
   "source": [
    "### 5.7: Read the dataframe by skipping first 3 rows and print the data frame"
   ]
  },
  {
   "cell_type": "code",
   "execution_count": 93,
   "metadata": {},
   "outputs": [
    {
     "data": {
      "text/html": [
       "<div>\n",
       "<style scoped>\n",
       "    .dataframe tbody tr th:only-of-type {\n",
       "        vertical-align: middle;\n",
       "    }\n",
       "\n",
       "    .dataframe tbody tr th {\n",
       "        vertical-align: top;\n",
       "    }\n",
       "\n",
       "    .dataframe thead th {\n",
       "        text-align: right;\n",
       "    }\n",
       "</style>\n",
       "<table border=\"1\" class=\"dataframe\">\n",
       "  <thead>\n",
       "    <tr style=\"text-align: right;\">\n",
       "      <th></th>\n",
       "      <th></th>\n",
       "      <th>age</th>\n",
       "      <th>preTestScore</th>\n",
       "      <th>postTestScore</th>\n",
       "    </tr>\n",
       "    <tr>\n",
       "      <th>first_name</th>\n",
       "      <th>last_name</th>\n",
       "      <th></th>\n",
       "      <th></th>\n",
       "      <th></th>\n",
       "    </tr>\n",
       "  </thead>\n",
       "  <tbody>\n",
       "    <tr>\n",
       "      <th>Jake</th>\n",
       "      <th>Milner</th>\n",
       "      <td>24</td>\n",
       "      <td>.</td>\n",
       "      <td>62</td>\n",
       "    </tr>\n",
       "    <tr>\n",
       "      <th>Amy</th>\n",
       "      <th>Cooze</th>\n",
       "      <td>73</td>\n",
       "      <td>.</td>\n",
       "      <td>70</td>\n",
       "    </tr>\n",
       "  </tbody>\n",
       "</table>\n",
       "</div>"
      ],
      "text/plain": [
       "                      age preTestScore postTestScore\n",
       "first_name last_name                                \n",
       "Jake       Milner      24            .            62\n",
       "Amy        Cooze       73            .            70"
      ]
     },
     "execution_count": 93,
     "metadata": {},
     "output_type": "execute_result"
    }
   ],
   "source": [
    "df[3:]"
   ]
  },
  {
   "cell_type": "code",
   "execution_count": null,
   "metadata": {},
   "outputs": [],
   "source": []
  },
  {
   "cell_type": "markdown",
   "metadata": {},
   "source": [
    "### 5.8: Load a csv file while interpreting \",\" in strings around numbers as thousandsseperators. Check the raw data 'postTestScore' column has, as thousands separator. Comma should be ignored while reading the data. It is default behaviour, but you need to give argument to read_csv function which makes sure commas are ignored."
   ]
  },
  {
   "cell_type": "code",
   "execution_count": 94,
   "metadata": {},
   "outputs": [],
   "source": [
    "df_3 = pd.read_csv(r\"./datasets/example.csv\",sep=',')"
   ]
  },
  {
   "cell_type": "code",
   "execution_count": 95,
   "metadata": {},
   "outputs": [
    {
     "data": {
      "text/html": [
       "<div>\n",
       "<style scoped>\n",
       "    .dataframe tbody tr th:only-of-type {\n",
       "        vertical-align: middle;\n",
       "    }\n",
       "\n",
       "    .dataframe tbody tr th {\n",
       "        vertical-align: top;\n",
       "    }\n",
       "\n",
       "    .dataframe thead th {\n",
       "        text-align: right;\n",
       "    }\n",
       "</style>\n",
       "<table border=\"1\" class=\"dataframe\">\n",
       "  <thead>\n",
       "    <tr style=\"text-align: right;\">\n",
       "      <th></th>\n",
       "      <th>first_name</th>\n",
       "      <th>last_name</th>\n",
       "      <th>age</th>\n",
       "      <th>preTestScore</th>\n",
       "      <th>postTestScore</th>\n",
       "    </tr>\n",
       "  </thead>\n",
       "  <tbody>\n",
       "    <tr>\n",
       "      <th>0</th>\n",
       "      <td>Jason</td>\n",
       "      <td>Miller</td>\n",
       "      <td>42</td>\n",
       "      <td>4</td>\n",
       "      <td>25,000</td>\n",
       "    </tr>\n",
       "    <tr>\n",
       "      <th>1</th>\n",
       "      <td>Molly</td>\n",
       "      <td>Jacobson</td>\n",
       "      <td>52</td>\n",
       "      <td>24</td>\n",
       "      <td>94,000</td>\n",
       "    </tr>\n",
       "    <tr>\n",
       "      <th>2</th>\n",
       "      <td>Tina</td>\n",
       "      <td>.</td>\n",
       "      <td>36</td>\n",
       "      <td>31</td>\n",
       "      <td>57</td>\n",
       "    </tr>\n",
       "    <tr>\n",
       "      <th>3</th>\n",
       "      <td>Jake</td>\n",
       "      <td>Milner</td>\n",
       "      <td>24</td>\n",
       "      <td>.</td>\n",
       "      <td>62</td>\n",
       "    </tr>\n",
       "    <tr>\n",
       "      <th>4</th>\n",
       "      <td>Amy</td>\n",
       "      <td>Cooze</td>\n",
       "      <td>73</td>\n",
       "      <td>.</td>\n",
       "      <td>70</td>\n",
       "    </tr>\n",
       "  </tbody>\n",
       "</table>\n",
       "</div>"
      ],
      "text/plain": [
       "  first_name last_name  age preTestScore postTestScore\n",
       "0      Jason    Miller   42            4        25,000\n",
       "1      Molly  Jacobson   52           24        94,000\n",
       "2       Tina         .   36           31            57\n",
       "3       Jake    Milner   24            .            62\n",
       "4        Amy     Cooze   73            .            70"
      ]
     },
     "execution_count": 95,
     "metadata": {},
     "output_type": "execute_result"
    }
   ],
   "source": [
    "df_3"
   ]
  },
  {
   "cell_type": "code",
   "execution_count": null,
   "metadata": {},
   "outputs": [],
   "source": []
  },
  {
   "cell_type": "markdown",
   "metadata": {},
   "source": [
    "### 6. Perform Operations on Files\n",
    "### 6.1: From the raw data below create a Pandas Series 'Amit', 'Bob', 'Kate', 'A', 'b', np.nan, 'Car', 'dog', 'cat'"
   ]
  },
  {
   "cell_type": "code",
   "execution_count": 98,
   "metadata": {},
   "outputs": [],
   "source": [
    "data = ['Amit', 'Bob', 'Kate', 'A', 'b', np.nan, 'Car', 'dog', 'cat']"
   ]
  },
  {
   "cell_type": "code",
   "execution_count": 99,
   "metadata": {},
   "outputs": [],
   "source": [
    "df_s = pd.Series(data)"
   ]
  },
  {
   "cell_type": "code",
   "execution_count": 100,
   "metadata": {},
   "outputs": [
    {
     "data": {
      "text/plain": [
       "0    Amit\n",
       "1     Bob\n",
       "2    Kate\n",
       "3       A\n",
       "4       b\n",
       "5     NaN\n",
       "6     Car\n",
       "7     dog\n",
       "8     cat\n",
       "dtype: object"
      ]
     },
     "execution_count": 100,
     "metadata": {},
     "output_type": "execute_result"
    }
   ],
   "source": [
    "df_s"
   ]
  },
  {
   "cell_type": "markdown",
   "metadata": {},
   "source": [
    "### a) Print all elements in lower case\n",
    "### b) Print all the elements in upper case\n",
    "### c) Print the length of all the elements"
   ]
  },
  {
   "cell_type": "code",
   "execution_count": 102,
   "metadata": {},
   "outputs": [
    {
     "data": {
      "text/plain": [
       "0    amit\n",
       "1     bob\n",
       "2    kate\n",
       "3       a\n",
       "4       b\n",
       "5     NaN\n",
       "6     car\n",
       "7     dog\n",
       "8     cat\n",
       "dtype: object"
      ]
     },
     "execution_count": 102,
     "metadata": {},
     "output_type": "execute_result"
    }
   ],
   "source": [
    "df_s.str.lower()"
   ]
  },
  {
   "cell_type": "code",
   "execution_count": 103,
   "metadata": {},
   "outputs": [
    {
     "data": {
      "text/plain": [
       "0    AMIT\n",
       "1     BOB\n",
       "2    KATE\n",
       "3       A\n",
       "4       B\n",
       "5     NaN\n",
       "6     CAR\n",
       "7     DOG\n",
       "8     CAT\n",
       "dtype: object"
      ]
     },
     "execution_count": 103,
     "metadata": {},
     "output_type": "execute_result"
    }
   ],
   "source": [
    "df_s.str.upper()"
   ]
  },
  {
   "cell_type": "code",
   "execution_count": 104,
   "metadata": {},
   "outputs": [
    {
     "data": {
      "text/plain": [
       "0    4.0\n",
       "1    3.0\n",
       "2    4.0\n",
       "3    1.0\n",
       "4    1.0\n",
       "5    NaN\n",
       "6    3.0\n",
       "7    3.0\n",
       "8    3.0\n",
       "dtype: float64"
      ]
     },
     "execution_count": 104,
     "metadata": {},
     "output_type": "execute_result"
    }
   ],
   "source": [
    "df_s.str.len()"
   ]
  },
  {
   "cell_type": "code",
   "execution_count": null,
   "metadata": {},
   "outputs": [],
   "source": []
  },
  {
   "cell_type": "markdown",
   "metadata": {},
   "source": [
    "### 6.2: From the raw data below create a Pandas Series ' Atul', 'John ', ' jack ', 'Sam'\n",
    "### a) Print all elements after stripping spaces from the left and right\n",
    "### b) Print all the elements after removing spaces from the left only\n",
    "### c) Print all the elements after removing spaces from the right only"
   ]
  },
  {
   "cell_type": "code",
   "execution_count": 105,
   "metadata": {},
   "outputs": [],
   "source": [
    "data = [' Atul', 'John ', ' jack ', 'Sam']"
   ]
  },
  {
   "cell_type": "code",
   "execution_count": 106,
   "metadata": {},
   "outputs": [],
   "source": [
    "df_s = pd.Series(data)"
   ]
  },
  {
   "cell_type": "code",
   "execution_count": 111,
   "metadata": {},
   "outputs": [
    {
     "data": {
      "text/plain": [
       "0    Atul\n",
       "1    John\n",
       "2    jack\n",
       "3     Sam\n",
       "dtype: object"
      ]
     },
     "execution_count": 111,
     "metadata": {},
     "output_type": "execute_result"
    }
   ],
   "source": [
    "df_s.str.strip()"
   ]
  },
  {
   "cell_type": "code",
   "execution_count": 108,
   "metadata": {},
   "outputs": [
    {
     "data": {
      "text/plain": [
       "0     Atul\n",
       "1    John \n",
       "2    jack \n",
       "3      Sam\n",
       "dtype: object"
      ]
     },
     "execution_count": 108,
     "metadata": {},
     "output_type": "execute_result"
    }
   ],
   "source": [
    "df_s.str.lstrip()"
   ]
  },
  {
   "cell_type": "code",
   "execution_count": 109,
   "metadata": {},
   "outputs": [
    {
     "data": {
      "text/plain": [
       "0     Atul\n",
       "1     John\n",
       "2     jack\n",
       "3      Sam\n",
       "dtype: object"
      ]
     },
     "execution_count": 109,
     "metadata": {},
     "output_type": "execute_result"
    }
   ],
   "source": [
    "df_s.str.rstrip()"
   ]
  },
  {
   "cell_type": "code",
   "execution_count": null,
   "metadata": {},
   "outputs": [],
   "source": []
  },
  {
   "cell_type": "markdown",
   "metadata": {},
   "source": [
    "### 6.3: - Create a series from the raw data below 'India_is_big', 'Population_is_huge', np.nan, 'Has_diverse_culture'\n",
    "### a) split the individual strings wherever ‘_’ comes and create a list out of it.\n",
    "### b) Access the individual element of a list\n",
    "### c) Expand the elements so that all individual elements get splitted by ‘_’ and insted of list returns individual elements"
   ]
  },
  {
   "cell_type": "code",
   "execution_count": 112,
   "metadata": {},
   "outputs": [],
   "source": [
    "data=['India_is_big', 'Population_is_huge', np.nan, 'Has_diverse_culture']"
   ]
  },
  {
   "cell_type": "code",
   "execution_count": 113,
   "metadata": {},
   "outputs": [],
   "source": [
    "df_s = pd.Series(data)"
   ]
  },
  {
   "cell_type": "code",
   "execution_count": 119,
   "metadata": {},
   "outputs": [
    {
     "data": {
      "text/plain": [
       "[['India', 'is', 'big'],\n",
       " ['Population', 'is', 'huge'],\n",
       " nan,\n",
       " ['Has', 'diverse', 'culture']]"
      ]
     },
     "execution_count": 119,
     "metadata": {},
     "output_type": "execute_result"
    }
   ],
   "source": [
    "df_s.str.split('_').to_list()"
   ]
  },
  {
   "cell_type": "code",
   "execution_count": 120,
   "metadata": {},
   "outputs": [
    {
     "data": {
      "text/plain": [
       "['India', 'is', 'big']"
      ]
     },
     "execution_count": 120,
     "metadata": {},
     "output_type": "execute_result"
    }
   ],
   "source": [
    "df_s.str.split('_').to_list()[0]"
   ]
  },
  {
   "cell_type": "code",
   "execution_count": 121,
   "metadata": {},
   "outputs": [
    {
     "data": {
      "text/plain": [
       "['Population', 'is', 'huge']"
      ]
     },
     "execution_count": 121,
     "metadata": {},
     "output_type": "execute_result"
    }
   ],
   "source": [
    "df_s.str.split('_').to_list()[1]"
   ]
  },
  {
   "cell_type": "code",
   "execution_count": 128,
   "metadata": {},
   "outputs": [
    {
     "name": "stdout",
     "output_type": "stream",
     "text": [
      "India\n",
      "is\n",
      "big\n",
      "Population\n",
      "is\n",
      "huge\n",
      "Has\n",
      "diverse\n",
      "culture\n"
     ]
    }
   ],
   "source": [
    "for se in df_s.str.split('_').to_list():\n",
    "    if isinstance(se,list):\n",
    "        for word in se:\n",
    "            print(word)"
   ]
  },
  {
   "cell_type": "code",
   "execution_count": null,
   "metadata": {},
   "outputs": [],
   "source": []
  },
  {
   "cell_type": "markdown",
   "metadata": {},
   "source": [
    "### 6.4: Create a series and replace either X or dog with XX-XX\n",
    "### 'A', 'B', 'C', 'AabX', 'BacX','', np.nan, 'CABA', 'dog', 'cat'"
   ]
  },
  {
   "cell_type": "code",
   "execution_count": 137,
   "metadata": {},
   "outputs": [],
   "source": [
    "data = ['A', 'B', 'C', 'AabX', 'BacX','', np.nan, 'CABA', 'dog', 'cat']\n",
    "df_s = pd.Series(data)"
   ]
  },
  {
   "cell_type": "code",
   "execution_count": 145,
   "metadata": {},
   "outputs": [
    {
     "data": {
      "text/plain": [
       "0           A\n",
       "1           B\n",
       "2           C\n",
       "3    AabXX-XX\n",
       "4    BacXX-XX\n",
       "5            \n",
       "6         NaN\n",
       "7        CABA\n",
       "8       XX-XX\n",
       "9         cat\n",
       "dtype: object"
      ]
     },
     "execution_count": 145,
     "metadata": {},
     "output_type": "execute_result"
    }
   ],
   "source": [
    "df_s.replace(regex=[r'X', 'dog'], value='XX-XX')"
   ]
  },
  {
   "cell_type": "code",
   "execution_count": null,
   "metadata": {},
   "outputs": [],
   "source": []
  },
  {
   "cell_type": "markdown",
   "metadata": {},
   "source": [
    "### 6.5: Create a series and remove dollar from the numeric values '12', '-$10', '$10,000'"
   ]
  },
  {
   "cell_type": "code",
   "execution_count": 146,
   "metadata": {},
   "outputs": [],
   "source": [
    "data = ['12', '-$10', '$10,000']\n",
    "df_s = pd.Series(data)"
   ]
  },
  {
   "cell_type": "code",
   "execution_count": 147,
   "metadata": {},
   "outputs": [
    {
     "data": {
      "text/plain": [
       "0         12\n",
       "1       -$10\n",
       "2    $10,000\n",
       "dtype: object"
      ]
     },
     "execution_count": 147,
     "metadata": {},
     "output_type": "execute_result"
    }
   ],
   "source": [
    "df_s"
   ]
  },
  {
   "cell_type": "code",
   "execution_count": 149,
   "metadata": {},
   "outputs": [
    {
     "data": {
      "text/plain": [
       "0        12\n",
       "1       -10\n",
       "2    10,000\n",
       "dtype: object"
      ]
     },
     "execution_count": 149,
     "metadata": {},
     "output_type": "execute_result"
    }
   ],
   "source": [
    "df_s.replace(regex=[r'\\$'], value='')"
   ]
  },
  {
   "cell_type": "code",
   "execution_count": null,
   "metadata": {},
   "outputs": [],
   "source": []
  },
  {
   "cell_type": "markdown",
   "metadata": {},
   "source": [
    "### 6.6:- Create a series and reverse all lower case words 'india 1998', 'big country', np.nan"
   ]
  },
  {
   "cell_type": "code",
   "execution_count": 150,
   "metadata": {},
   "outputs": [
    {
     "data": {
      "text/plain": [
       "0     india 1998\n",
       "1    big country\n",
       "2            NaN\n",
       "dtype: object"
      ]
     },
     "execution_count": 150,
     "metadata": {},
     "output_type": "execute_result"
    }
   ],
   "source": [
    "data = ['india 1998', 'big country', np.nan]\n",
    "df_s = pd.Series(data)\n",
    "df_s"
   ]
  },
  {
   "cell_type": "code",
   "execution_count": 158,
   "metadata": {},
   "outputs": [
    {
     "name": "stdout",
     "output_type": "stream",
     "text": [
      "0     aidni 1998\n",
      "1    gib yrtnuoc\n",
      "2            NaN\n",
      "dtype: object\n"
     ]
    }
   ],
   "source": [
    "pat=r'[a-z]+'\n",
    "repl=lambda m: m.group(0)[::-1]\n",
    "s=df_s.str.replace(pat,repl)\n",
    "print(s)"
   ]
  },
  {
   "cell_type": "code",
   "execution_count": null,
   "metadata": {},
   "outputs": [],
   "source": []
  },
  {
   "cell_type": "markdown",
   "metadata": {},
   "source": [
    "### 6.7: Create pandas series and print true if value is alphanumeric in series or false if value is not alpha numeric in series.\n",
    "### '1', '2', '1a', '2b', '2003c'"
   ]
  },
  {
   "cell_type": "code",
   "execution_count": 159,
   "metadata": {},
   "outputs": [
    {
     "data": {
      "text/plain": [
       "0        1\n",
       "1        2\n",
       "2       1a\n",
       "3       2b\n",
       "4    2003c\n",
       "dtype: object"
      ]
     },
     "execution_count": 159,
     "metadata": {},
     "output_type": "execute_result"
    }
   ],
   "source": [
    "data = ['1', '2', '1a', '2b', '2003c']\n",
    "df_s = pd.Series(data)\n",
    "df_s"
   ]
  },
  {
   "cell_type": "code",
   "execution_count": 163,
   "metadata": {},
   "outputs": [
    {
     "data": {
      "text/plain": [
       "0    True\n",
       "1    True\n",
       "2    True\n",
       "3    True\n",
       "4    True\n",
       "dtype: bool"
      ]
     },
     "execution_count": 163,
     "metadata": {},
     "output_type": "execute_result"
    }
   ],
   "source": [
    "df_s.str.isalnum()"
   ]
  },
  {
   "cell_type": "code",
   "execution_count": null,
   "metadata": {},
   "outputs": [],
   "source": []
  },
  {
   "cell_type": "markdown",
   "metadata": {},
   "source": [
    "### 6.8: Create pandas series and print true if value is containing ‘A’\n",
    "### '1', '2', '1a', '2b', 'America', 'VietnAm','vietnam', '2003c'"
   ]
  },
  {
   "cell_type": "code",
   "execution_count": 164,
   "metadata": {},
   "outputs": [
    {
     "data": {
      "text/plain": [
       "0          1\n",
       "1          2\n",
       "2         1a\n",
       "3         2b\n",
       "4    America\n",
       "5    VietnAm\n",
       "6    vietnam\n",
       "7      2003c\n",
       "dtype: object"
      ]
     },
     "execution_count": 164,
     "metadata": {},
     "output_type": "execute_result"
    }
   ],
   "source": [
    "data = ['1', '2', '1a', '2b', 'America', 'VietnAm','vietnam', '2003c']\n",
    "df_s = pd.Series(data)\n",
    "df_s"
   ]
  },
  {
   "cell_type": "code",
   "execution_count": 165,
   "metadata": {},
   "outputs": [
    {
     "data": {
      "text/plain": [
       "0    False\n",
       "1    False\n",
       "2    False\n",
       "3    False\n",
       "4     True\n",
       "5     True\n",
       "6    False\n",
       "7    False\n",
       "dtype: bool"
      ]
     },
     "execution_count": 165,
     "metadata": {},
     "output_type": "execute_result"
    }
   ],
   "source": [
    "df_s.str.contains('A')"
   ]
  },
  {
   "cell_type": "code",
   "execution_count": null,
   "metadata": {},
   "outputs": [],
   "source": []
  },
  {
   "cell_type": "markdown",
   "metadata": {},
   "source": [
    "### 6.9: Create pandas series and print in three columns value 0 or 1 is a or b or c exists in values 'a', 'a|b', np.nan, 'a|c'"
   ]
  },
  {
   "cell_type": "code",
   "execution_count": 166,
   "metadata": {},
   "outputs": [
    {
     "data": {
      "text/plain": [
       "0      a\n",
       "1    a|b\n",
       "2    NaN\n",
       "3    a|c\n",
       "dtype: object"
      ]
     },
     "execution_count": 166,
     "metadata": {},
     "output_type": "execute_result"
    }
   ],
   "source": [
    "data = ['a', 'a|b', np.nan, 'a|c']\n",
    "df_s = pd.Series(data)\n",
    "df_s"
   ]
  },
  {
   "cell_type": "code",
   "execution_count": 171,
   "metadata": {},
   "outputs": [
    {
     "data": {
      "text/plain": [
       "0    1\n",
       "1    1\n",
       "2    0\n",
       "3    1\n",
       "dtype: int64"
      ]
     },
     "execution_count": 171,
     "metadata": {},
     "output_type": "execute_result"
    }
   ],
   "source": [
    "df_s.str.contains('a|b|c',case=False, regex=True).replace({True:1,False:0,np.nan:0})"
   ]
  },
  {
   "cell_type": "markdown",
   "metadata": {},
   "source": [
    "### 6.10: Create pandas dataframe having keys and ltable and rtable as below - 'key': ['One', 'Two'], 'ltable': [1, 2] 'key': ['One', 'Two'], 'rtable': [4, 5] Merge both the tables based of key"
   ]
  },
  {
   "cell_type": "code",
   "execution_count": 174,
   "metadata": {},
   "outputs": [],
   "source": [
    "ltab={'key': ['One', 'Two'], 'ltable': [1, 2]}\n",
    "rtab={'key': ['One', 'Two'], 'rtable': [4, 5]}"
   ]
  },
  {
   "cell_type": "code",
   "execution_count": 175,
   "metadata": {},
   "outputs": [
    {
     "data": {
      "text/html": [
       "<div>\n",
       "<style scoped>\n",
       "    .dataframe tbody tr th:only-of-type {\n",
       "        vertical-align: middle;\n",
       "    }\n",
       "\n",
       "    .dataframe tbody tr th {\n",
       "        vertical-align: top;\n",
       "    }\n",
       "\n",
       "    .dataframe thead th {\n",
       "        text-align: right;\n",
       "    }\n",
       "</style>\n",
       "<table border=\"1\" class=\"dataframe\">\n",
       "  <thead>\n",
       "    <tr style=\"text-align: right;\">\n",
       "      <th></th>\n",
       "      <th>key</th>\n",
       "      <th>ltable</th>\n",
       "    </tr>\n",
       "  </thead>\n",
       "  <tbody>\n",
       "    <tr>\n",
       "      <th>0</th>\n",
       "      <td>One</td>\n",
       "      <td>1</td>\n",
       "    </tr>\n",
       "    <tr>\n",
       "      <th>1</th>\n",
       "      <td>Two</td>\n",
       "      <td>2</td>\n",
       "    </tr>\n",
       "  </tbody>\n",
       "</table>\n",
       "</div>"
      ],
      "text/plain": [
       "   key  ltable\n",
       "0  One       1\n",
       "1  Two       2"
      ]
     },
     "execution_count": 175,
     "metadata": {},
     "output_type": "execute_result"
    }
   ],
   "source": [
    "df_l = pd.DataFrame(ltab)\n",
    "df_l"
   ]
  },
  {
   "cell_type": "code",
   "execution_count": 176,
   "metadata": {},
   "outputs": [
    {
     "data": {
      "text/html": [
       "<div>\n",
       "<style scoped>\n",
       "    .dataframe tbody tr th:only-of-type {\n",
       "        vertical-align: middle;\n",
       "    }\n",
       "\n",
       "    .dataframe tbody tr th {\n",
       "        vertical-align: top;\n",
       "    }\n",
       "\n",
       "    .dataframe thead th {\n",
       "        text-align: right;\n",
       "    }\n",
       "</style>\n",
       "<table border=\"1\" class=\"dataframe\">\n",
       "  <thead>\n",
       "    <tr style=\"text-align: right;\">\n",
       "      <th></th>\n",
       "      <th>key</th>\n",
       "      <th>rtable</th>\n",
       "    </tr>\n",
       "  </thead>\n",
       "  <tbody>\n",
       "    <tr>\n",
       "      <th>0</th>\n",
       "      <td>One</td>\n",
       "      <td>4</td>\n",
       "    </tr>\n",
       "    <tr>\n",
       "      <th>1</th>\n",
       "      <td>Two</td>\n",
       "      <td>5</td>\n",
       "    </tr>\n",
       "  </tbody>\n",
       "</table>\n",
       "</div>"
      ],
      "text/plain": [
       "   key  rtable\n",
       "0  One       4\n",
       "1  Two       5"
      ]
     },
     "execution_count": 176,
     "metadata": {},
     "output_type": "execute_result"
    }
   ],
   "source": [
    "df_r = pd.DataFrame(rtab)\n",
    "df_r"
   ]
  },
  {
   "cell_type": "code",
   "execution_count": 178,
   "metadata": {},
   "outputs": [
    {
     "data": {
      "text/html": [
       "<div>\n",
       "<style scoped>\n",
       "    .dataframe tbody tr th:only-of-type {\n",
       "        vertical-align: middle;\n",
       "    }\n",
       "\n",
       "    .dataframe tbody tr th {\n",
       "        vertical-align: top;\n",
       "    }\n",
       "\n",
       "    .dataframe thead th {\n",
       "        text-align: right;\n",
       "    }\n",
       "</style>\n",
       "<table border=\"1\" class=\"dataframe\">\n",
       "  <thead>\n",
       "    <tr style=\"text-align: right;\">\n",
       "      <th></th>\n",
       "      <th>key</th>\n",
       "      <th>ltable</th>\n",
       "      <th>rtable</th>\n",
       "    </tr>\n",
       "  </thead>\n",
       "  <tbody>\n",
       "    <tr>\n",
       "      <th>0</th>\n",
       "      <td>One</td>\n",
       "      <td>1</td>\n",
       "      <td>4</td>\n",
       "    </tr>\n",
       "    <tr>\n",
       "      <th>1</th>\n",
       "      <td>Two</td>\n",
       "      <td>2</td>\n",
       "      <td>5</td>\n",
       "    </tr>\n",
       "  </tbody>\n",
       "</table>\n",
       "</div>"
      ],
      "text/plain": [
       "   key  ltable  rtable\n",
       "0  One       1       4\n",
       "1  Two       2       5"
      ]
     },
     "execution_count": 178,
     "metadata": {},
     "output_type": "execute_result"
    }
   ],
   "source": [
    "df_l.merge(df_r, how='left', on='key')"
   ]
  },
  {
   "cell_type": "code",
   "execution_count": null,
   "metadata": {},
   "outputs": [],
   "source": []
  },
  {
   "cell_type": "code",
   "execution_count": null,
   "metadata": {},
   "outputs": [],
   "source": []
  }
 ],
 "metadata": {
  "kernelspec": {
   "display_name": "Python 3",
   "language": "python",
   "name": "python3"
  },
  "language_info": {
   "codemirror_mode": {
    "name": "ipython",
    "version": 3
   },
   "file_extension": ".py",
   "mimetype": "text/x-python",
   "name": "python",
   "nbconvert_exporter": "python",
   "pygments_lexer": "ipython3",
   "version": "3.7.6"
  }
 },
 "nbformat": 4,
 "nbformat_minor": 4
}
